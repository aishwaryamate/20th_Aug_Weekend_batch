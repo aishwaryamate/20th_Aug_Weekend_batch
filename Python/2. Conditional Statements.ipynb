{
 "cells": [
  {
   "cell_type": "markdown",
   "id": "c73b4c39",
   "metadata": {},
   "source": [
    "# User Input"
   ]
  },
  {
   "cell_type": "code",
   "execution_count": 1,
   "id": "1875c3f9",
   "metadata": {
    "ExecuteTime": {
     "end_time": "2023-09-09T04:45:36.482312Z",
     "start_time": "2023-09-09T04:45:36.443803Z"
    }
   },
   "outputs": [
    {
     "data": {
      "text/plain": [
       "'ABC'"
      ]
     },
     "execution_count": 1,
     "metadata": {},
     "output_type": "execute_result"
    }
   ],
   "source": [
    "name = 'ABC'\n",
    "name"
   ]
  },
  {
   "cell_type": "code",
   "execution_count": 2,
   "id": "12472a13",
   "metadata": {
    "ExecuteTime": {
     "end_time": "2023-09-09T04:46:43.723679Z",
     "start_time": "2023-09-09T04:46:28.528273Z"
    }
   },
   "outputs": [
    {
     "name": "stdout",
     "output_type": "stream",
     "text": [
      "956\n"
     ]
    },
    {
     "data": {
      "text/plain": [
       "'956'"
      ]
     },
     "execution_count": 2,
     "metadata": {},
     "output_type": "execute_result"
    }
   ],
   "source": [
    "input()"
   ]
  },
  {
   "cell_type": "code",
   "execution_count": 3,
   "id": "9eea4525",
   "metadata": {
    "ExecuteTime": {
     "end_time": "2023-09-09T04:47:26.631012Z",
     "start_time": "2023-09-09T04:47:18.387720Z"
    }
   },
   "outputs": [
    {
     "name": "stdout",
     "output_type": "stream",
     "text": [
      "25\n"
     ]
    }
   ],
   "source": [
    "age = input()"
   ]
  },
  {
   "cell_type": "code",
   "execution_count": 4,
   "id": "c5bef25f",
   "metadata": {
    "ExecuteTime": {
     "end_time": "2023-09-09T04:47:35.728844Z",
     "start_time": "2023-09-09T04:47:35.722832Z"
    }
   },
   "outputs": [
    {
     "data": {
      "text/plain": [
       "'25'"
      ]
     },
     "execution_count": 4,
     "metadata": {},
     "output_type": "execute_result"
    }
   ],
   "source": [
    "age"
   ]
  },
  {
   "cell_type": "code",
   "execution_count": 5,
   "id": "7d128238",
   "metadata": {
    "ExecuteTime": {
     "end_time": "2023-09-09T04:50:08.891527Z",
     "start_time": "2023-09-09T04:49:35.613406Z"
    }
   },
   "outputs": [
    {
     "name": "stdout",
     "output_type": "stream",
     "text": [
      "Enter first number: 100\n",
      "Enter second number: 50\n"
     ]
    }
   ],
   "source": [
    "num1 = input('Enter first number: ')\n",
    "num2 = input('Enter second number: ')"
   ]
  },
  {
   "cell_type": "code",
   "execution_count": 6,
   "id": "ffb85285",
   "metadata": {
    "ExecuteTime": {
     "end_time": "2023-09-09T04:50:55.195598Z",
     "start_time": "2023-09-09T04:50:55.168717Z"
    }
   },
   "outputs": [
    {
     "data": {
      "text/plain": [
       "'10050'"
      ]
     },
     "execution_count": 6,
     "metadata": {},
     "output_type": "execute_result"
    }
   ],
   "source": [
    "num1+num2"
   ]
  },
  {
   "cell_type": "code",
   "execution_count": 9,
   "id": "09f21e81",
   "metadata": {
    "ExecuteTime": {
     "end_time": "2023-09-09T04:52:25.545831Z",
     "start_time": "2023-09-09T04:52:25.526405Z"
    }
   },
   "outputs": [
    {
     "data": {
      "text/plain": [
       "'Python Language'"
      ]
     },
     "execution_count": 9,
     "metadata": {},
     "output_type": "execute_result"
    }
   ],
   "source": [
    "x = 'Python'\n",
    "y = 'Language'\n",
    "\n",
    "x+' '+y"
   ]
  },
  {
   "cell_type": "code",
   "execution_count": 12,
   "id": "e0b5dfea",
   "metadata": {
    "ExecuteTime": {
     "end_time": "2023-09-09T04:53:05.563545Z",
     "start_time": "2023-09-09T04:53:05.545808Z"
    }
   },
   "outputs": [
    {
     "data": {
      "text/plain": [
       "str"
      ]
     },
     "execution_count": 12,
     "metadata": {},
     "output_type": "execute_result"
    }
   ],
   "source": [
    "num1,num2\n",
    "type(num1)"
   ]
  },
  {
   "cell_type": "code",
   "execution_count": 13,
   "id": "02da5c3b",
   "metadata": {
    "ExecuteTime": {
     "end_time": "2023-09-09T04:55:45.534935Z",
     "start_time": "2023-09-09T04:55:41.413521Z"
    }
   },
   "outputs": [
    {
     "name": "stdout",
     "output_type": "stream",
     "text": [
      "Enter first number: 100\n",
      "Enter second number: 50\n"
     ]
    },
    {
     "data": {
      "text/plain": [
       "150"
      ]
     },
     "execution_count": 13,
     "metadata": {},
     "output_type": "execute_result"
    }
   ],
   "source": [
    "n1 = int(input('Enter first number: '))\n",
    "n2 = int(input('Enter second number: '))\n",
    "\n",
    "n1+n2"
   ]
  },
  {
   "cell_type": "markdown",
   "id": "c5ad61e8",
   "metadata": {},
   "source": [
    "# Conditional Statements\n",
    "- if\n",
    "- else\n",
    "- elif"
   ]
  },
  {
   "cell_type": "code",
   "execution_count": 14,
   "id": "0edae259",
   "metadata": {
    "ExecuteTime": {
     "end_time": "2023-09-09T05:05:07.064691Z",
     "start_time": "2023-09-09T05:05:07.047132Z"
    }
   },
   "outputs": [
    {
     "name": "stdout",
     "output_type": "stream",
     "text": [
      "Welome to your account!\n"
     ]
    }
   ],
   "source": [
    "password = 12345\n",
    "\n",
    "if password == 12345:\n",
    "    print('Welome to your account!')"
   ]
  },
  {
   "cell_type": "code",
   "execution_count": 16,
   "id": "b0139f6b",
   "metadata": {
    "ExecuteTime": {
     "end_time": "2023-09-09T05:07:45.081451Z",
     "start_time": "2023-09-09T05:07:45.070844Z"
    }
   },
   "outputs": [
    {
     "name": "stdout",
     "output_type": "stream",
     "text": [
      "Try Again!\n"
     ]
    }
   ],
   "source": [
    "if password == 123:\n",
    "    print(\"Welcome\")\n",
    "else:\n",
    "    print('Try Again!')"
   ]
  },
  {
   "cell_type": "code",
   "execution_count": 21,
   "id": "64a8930d",
   "metadata": {
    "ExecuteTime": {
     "end_time": "2023-09-09T05:16:54.779366Z",
     "start_time": "2023-09-09T05:16:44.696434Z"
    }
   },
   "outputs": [
    {
     "name": "stdout",
     "output_type": "stream",
     "text": [
      "Enter any number: 56\n",
      "Positive\n"
     ]
    }
   ],
   "source": [
    "#Check whether the number is positive/negative/Zero\n",
    "number = int(input('Enter any number: '))\n",
    "\n",
    "if number > 0:\n",
    "    print('Positive')\n",
    "elif number < 0:\n",
    "    print('Negative')\n",
    "else:\n",
    "    print('Zero')"
   ]
  },
  {
   "cell_type": "code",
   "execution_count": 25,
   "id": "02ab90d3",
   "metadata": {
    "ExecuteTime": {
     "end_time": "2023-09-09T05:23:25.073598Z",
     "start_time": "2023-09-09T05:23:22.971473Z"
    }
   },
   "outputs": [
    {
     "name": "stdout",
     "output_type": "stream",
     "text": [
      "Enter any number: 12\n",
      "Even number\n"
     ]
    }
   ],
   "source": [
    "#Check whether the number is odd or even\n",
    "num = int(input('Enter any number: '))\n",
    "\n",
    "# % return remainder\n",
    "# / return quotient\n",
    "\n",
    "if num%2 == 0:\n",
    "    print('Even number')\n",
    "else:\n",
    "    print('Odd number')"
   ]
  },
  {
   "cell_type": "code",
   "execution_count": 30,
   "id": "48b20143",
   "metadata": {
    "ExecuteTime": {
     "end_time": "2023-09-09T05:27:49.987287Z",
     "start_time": "2023-09-09T05:27:49.971858Z"
    }
   },
   "outputs": [
    {
     "name": "stdout",
     "output_type": "stream",
     "text": [
      "You need to wait for more 8 years.\n"
     ]
    }
   ],
   "source": [
    "print('You need to wait for more',18-age,'years.')"
   ]
  },
  {
   "cell_type": "code",
   "execution_count": 31,
   "id": "da5b159c",
   "metadata": {
    "ExecuteTime": {
     "end_time": "2023-09-09T05:29:23.069112Z",
     "start_time": "2023-09-09T05:29:23.058546Z"
    }
   },
   "outputs": [
    {
     "name": "stdout",
     "output_type": "stream",
     "text": [
      "You need to wait for more 8 years.\n"
     ]
    }
   ],
   "source": [
    "print(f\"You need to wait for more {18-age} years.\")"
   ]
  },
  {
   "cell_type": "code",
   "execution_count": 32,
   "id": "f7b02a40",
   "metadata": {
    "ExecuteTime": {
     "end_time": "2023-09-09T05:30:01.564162Z",
     "start_time": "2023-09-09T05:29:59.504160Z"
    }
   },
   "outputs": [
    {
     "name": "stdout",
     "output_type": "stream",
     "text": [
      "Enter age: 5\n",
      "Not eligible. You need wait for more 13 years.\n"
     ]
    }
   ],
   "source": [
    "#Write python program which tell whether the person is eligible to do vote.\n",
    "\n",
    "age = int(input('Enter age: '))\n",
    "\n",
    "if age >= 18:\n",
    "    print('Eligible')\n",
    "else:\n",
    "    print(f'Not eligible. You need wait for more {18-age} years.')"
   ]
  },
  {
   "cell_type": "code",
   "execution_count": 41,
   "id": "f21c4a2f",
   "metadata": {
    "ExecuteTime": {
     "end_time": "2023-09-09T05:36:58.842440Z",
     "start_time": "2023-09-09T05:36:55.894288Z"
    }
   },
   "outputs": [
    {
     "name": "stdout",
     "output_type": "stream",
     "text": [
      "Enter your marks:50\n",
      "D\n"
     ]
    }
   ],
   "source": [
    "# Give grades based on percentages\n",
    "#A : marks >85\n",
    "#B : marks < 85 and >70\n",
    "#C : makrs <70 and > 60\n",
    "#D \n",
    "\n",
    "marks = int(input('Enter your marks:'))\n",
    "\n",
    "if marks >= 85:\n",
    "    print('A')\n",
    "elif (marks < 85) and (marks >= 70):\n",
    "    print('B')\n",
    "elif (marks < 70) and (marks >= 60):\n",
    "    print('C')\n",
    "else:\n",
    "    print(\"D\")"
   ]
  },
  {
   "cell_type": "markdown",
   "id": "72b1ca58",
   "metadata": {},
   "source": [
    "# In-Class Exercise:\n",
    "\n",
    "1. Write a program which will print Century if the player has made more than 100 runs else it shold write how many more runs he needs to have to complete the century.\n",
    "2. Write a program to check the number is one digited, two digited and three digited.\n",
    "3. Write a program to check whether the user has entered number 99 or not."
   ]
  },
  {
   "cell_type": "code",
   "execution_count": null,
   "id": "2a821e61",
   "metadata": {},
   "outputs": [],
   "source": []
  }
 ],
 "metadata": {
  "kernelspec": {
   "display_name": "Python 3 (ipykernel)",
   "language": "python",
   "name": "python3"
  },
  "language_info": {
   "codemirror_mode": {
    "name": "ipython",
    "version": 3
   },
   "file_extension": ".py",
   "mimetype": "text/x-python",
   "name": "python",
   "nbconvert_exporter": "python",
   "pygments_lexer": "ipython3",
   "version": "3.9.13"
  }
 },
 "nbformat": 4,
 "nbformat_minor": 5
}
