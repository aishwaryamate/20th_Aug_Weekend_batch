{
 "cells": [
  {
   "cell_type": "markdown",
   "id": "e4d1a026",
   "metadata": {},
   "source": [
    "# Variables in Python\n",
    "- Variables acts as a container to store data in memory space.\n",
    "- Variables are pointer towards object in python\n",
    "- Variables can start with letters or underscore.\n",
    "- You cannot include special characters while creating a variable.\n",
    "\n",
    "**Important points to remeber while creating a variable**\n",
    "1. Python is case sensitive\n",
    "2. If variable name involves more than 2 words, join those words with underscore.\n",
    "3. Give meaningful name to variables"
   ]
  },
  {
   "cell_type": "code",
   "execution_count": 1,
   "id": "2b985c75",
   "metadata": {
    "ExecuteTime": {
     "end_time": "2023-09-01T13:08:09.066637Z",
     "start_time": "2023-09-01T13:08:09.056582Z"
    }
   },
   "outputs": [],
   "source": [
    "#variable"
   ]
  },
  {
   "cell_type": "code",
   "execution_count": 1,
   "id": "46ee39cf",
   "metadata": {
    "ExecuteTime": {
     "end_time": "2023-09-03T06:22:01.848379Z",
     "start_time": "2023-09-03T06:22:01.812820Z"
    }
   },
   "outputs": [
    {
     "data": {
      "text/plain": [
       "10"
      ]
     },
     "execution_count": 1,
     "metadata": {},
     "output_type": "execute_result"
    }
   ],
   "source": [
    "a = 10\n",
    "a"
   ]
  },
  {
   "cell_type": "code",
   "execution_count": 3,
   "id": "60a25df8",
   "metadata": {
    "ExecuteTime": {
     "end_time": "2023-09-03T06:22:47.699880Z",
     "start_time": "2023-09-03T06:22:47.679386Z"
    }
   },
   "outputs": [
    {
     "data": {
      "text/plain": [
       "'DS'"
      ]
     },
     "execution_count": 3,
     "metadata": {},
     "output_type": "execute_result"
    }
   ],
   "source": [
    "course_name = 'DS'\n",
    "course_name"
   ]
  },
  {
   "cell_type": "code",
   "execution_count": 5,
   "id": "664c2728",
   "metadata": {
    "ExecuteTime": {
     "end_time": "2023-09-03T06:24:03.916241Z",
     "start_time": "2023-09-03T06:24:03.910630Z"
    }
   },
   "outputs": [
    {
     "data": {
      "text/plain": [
       "65"
      ]
     },
     "execution_count": 5,
     "metadata": {},
     "output_type": "execute_result"
    }
   ],
   "source": [
    "#Single line comment\n",
    "\n",
    "age = 65 #age variable stores 65 value\n",
    "age"
   ]
  },
  {
   "cell_type": "code",
   "execution_count": 7,
   "id": "627c886e",
   "metadata": {
    "ExecuteTime": {
     "end_time": "2023-09-03T06:24:53.799197Z",
     "start_time": "2023-09-03T06:24:53.785434Z"
    }
   },
   "outputs": [
    {
     "ename": "NameError",
     "evalue": "name 'This' is not defined",
     "output_type": "error",
     "traceback": [
      "\u001b[1;31m---------------------------------------------------------------------------\u001b[0m",
      "\u001b[1;31mNameError\u001b[0m                                 Traceback (most recent call last)",
      "\u001b[1;32m~\\AppData\\Local\\Temp\\ipykernel_13444\\2487868427.py\u001b[0m in \u001b[0;36m<module>\u001b[1;34m\u001b[0m\n\u001b[0;32m      1\u001b[0m \u001b[1;31m#This is first line\u001b[0m\u001b[1;33m\u001b[0m\u001b[1;33m\u001b[0m\u001b[0m\n\u001b[1;32m----> 2\u001b[1;33m \u001b[0mThis\u001b[0m \u001b[1;32mis\u001b[0m \u001b[0msecond\u001b[0m\u001b[1;33m\u001b[0m\u001b[1;33m\u001b[0m\u001b[0m\n\u001b[0m",
      "\u001b[1;31mNameError\u001b[0m: name 'This' is not defined"
     ]
    }
   ],
   "source": [
    "#This is first line\n",
    "This is second"
   ]
  },
  {
   "cell_type": "code",
   "execution_count": 9,
   "id": "159d6f1b",
   "metadata": {
    "ExecuteTime": {
     "end_time": "2023-09-03T06:25:56.357458Z",
     "start_time": "2023-09-03T06:25:56.348668Z"
    }
   },
   "outputs": [
    {
     "data": {
      "text/plain": [
       "'This is first line This is second line\\nThis is third line'"
      ]
     },
     "execution_count": 9,
     "metadata": {},
     "output_type": "execute_result"
    }
   ],
   "source": [
    "#Multi-line comment\n",
    "'''This is first line This is second line\n",
    "This is third line'''"
   ]
  },
  {
   "cell_type": "markdown",
   "id": "72a732b2",
   "metadata": {},
   "source": [
    "# Data types in python\n",
    "1. Integer\n",
    "2. Float\n",
    "3. String\n",
    "4. Boolean"
   ]
  },
  {
   "cell_type": "code",
   "execution_count": 10,
   "id": "85545b8e",
   "metadata": {
    "ExecuteTime": {
     "end_time": "2023-09-03T06:26:53.647659Z",
     "start_time": "2023-09-03T06:26:53.629598Z"
    }
   },
   "outputs": [
    {
     "data": {
      "text/plain": [
       "65"
      ]
     },
     "execution_count": 10,
     "metadata": {},
     "output_type": "execute_result"
    }
   ],
   "source": [
    "#Integer\n",
    "age"
   ]
  },
  {
   "cell_type": "code",
   "execution_count": 11,
   "id": "bdc54922",
   "metadata": {
    "ExecuteTime": {
     "end_time": "2023-09-03T06:27:55.624693Z",
     "start_time": "2023-09-03T06:27:55.608168Z"
    }
   },
   "outputs": [
    {
     "data": {
      "text/plain": [
       "int"
      ]
     },
     "execution_count": 11,
     "metadata": {},
     "output_type": "execute_result"
    }
   ],
   "source": [
    "type(age)"
   ]
  },
  {
   "cell_type": "code",
   "execution_count": 12,
   "id": "927ccfe9",
   "metadata": {
    "ExecuteTime": {
     "end_time": "2023-09-03T06:28:11.078662Z",
     "start_time": "2023-09-03T06:28:11.062399Z"
    }
   },
   "outputs": [
    {
     "data": {
      "text/plain": [
       "float"
      ]
     },
     "execution_count": 12,
     "metadata": {},
     "output_type": "execute_result"
    }
   ],
   "source": [
    "height = 5.5\n",
    "type(height)"
   ]
  },
  {
   "cell_type": "code",
   "execution_count": 5,
   "id": "7dd85e20",
   "metadata": {
    "ExecuteTime": {
     "end_time": "2023-09-01T13:08:09.128077Z",
     "start_time": "2023-09-01T13:08:09.115616Z"
    }
   },
   "outputs": [],
   "source": [
    "#String creation"
   ]
  },
  {
   "cell_type": "code",
   "execution_count": 13,
   "id": "8c1d4774",
   "metadata": {
    "ExecuteTime": {
     "end_time": "2023-09-03T06:29:00.139265Z",
     "start_time": "2023-09-03T06:29:00.126935Z"
    }
   },
   "outputs": [
    {
     "data": {
      "text/plain": [
       "str"
      ]
     },
     "execution_count": 13,
     "metadata": {},
     "output_type": "execute_result"
    }
   ],
   "source": [
    "s = 'DS'\n",
    "type(s)"
   ]
  },
  {
   "cell_type": "code",
   "execution_count": 14,
   "id": "f2fbad46",
   "metadata": {
    "ExecuteTime": {
     "end_time": "2023-09-03T06:30:00.687679Z",
     "start_time": "2023-09-03T06:30:00.675137Z"
    }
   },
   "outputs": [
    {
     "data": {
      "text/plain": [
       "bool"
      ]
     },
     "execution_count": 14,
     "metadata": {},
     "output_type": "execute_result"
    }
   ],
   "source": [
    "b = True\n",
    "type(b)"
   ]
  },
  {
   "cell_type": "markdown",
   "id": "6c46cfad",
   "metadata": {},
   "source": [
    "# Typecasting\n",
    "\n",
    "- Typecasting is used to change the data types."
   ]
  },
  {
   "cell_type": "code",
   "execution_count": 16,
   "id": "e74aa1ba",
   "metadata": {
    "ExecuteTime": {
     "end_time": "2023-09-03T06:31:31.441179Z",
     "start_time": "2023-09-03T06:31:31.431687Z"
    }
   },
   "outputs": [
    {
     "data": {
      "text/plain": [
       "int"
      ]
     },
     "execution_count": 16,
     "metadata": {},
     "output_type": "execute_result"
    }
   ],
   "source": [
    "age\n",
    "type(age)"
   ]
  },
  {
   "cell_type": "code",
   "execution_count": 18,
   "id": "f9f07597",
   "metadata": {
    "ExecuteTime": {
     "end_time": "2023-09-03T06:32:23.869051Z",
     "start_time": "2023-09-03T06:32:23.857600Z"
    }
   },
   "outputs": [
    {
     "data": {
      "text/plain": [
       "float"
      ]
     },
     "execution_count": 18,
     "metadata": {},
     "output_type": "execute_result"
    }
   ],
   "source": [
    "a = float(age)\n",
    "type(a)"
   ]
  },
  {
   "cell_type": "code",
   "execution_count": 20,
   "id": "0b1af55a",
   "metadata": {
    "ExecuteTime": {
     "end_time": "2023-09-03T06:32:32.409594Z",
     "start_time": "2023-09-03T06:32:32.394775Z"
    }
   },
   "outputs": [
    {
     "data": {
      "text/plain": [
       "65"
      ]
     },
     "execution_count": 20,
     "metadata": {},
     "output_type": "execute_result"
    }
   ],
   "source": [
    "age"
   ]
  },
  {
   "cell_type": "code",
   "execution_count": 21,
   "id": "13afec71",
   "metadata": {
    "ExecuteTime": {
     "end_time": "2023-09-03T06:32:53.259081Z",
     "start_time": "2023-09-03T06:32:53.240225Z"
    }
   },
   "outputs": [
    {
     "data": {
      "text/plain": [
       "'65'"
      ]
     },
     "execution_count": 21,
     "metadata": {},
     "output_type": "execute_result"
    }
   ],
   "source": [
    "str(age)"
   ]
  },
  {
   "cell_type": "code",
   "execution_count": 23,
   "id": "30c5f02d",
   "metadata": {
    "ExecuteTime": {
     "end_time": "2023-09-03T06:34:41.152537Z",
     "start_time": "2023-09-03T06:34:41.137465Z"
    }
   },
   "outputs": [
    {
     "data": {
      "text/plain": [
       "True"
      ]
     },
     "execution_count": 23,
     "metadata": {},
     "output_type": "execute_result"
    }
   ],
   "source": [
    "bool(85)"
   ]
  },
  {
   "cell_type": "code",
   "execution_count": 24,
   "id": "7dc1f094",
   "metadata": {
    "ExecuteTime": {
     "end_time": "2023-09-03T06:34:48.758907Z",
     "start_time": "2023-09-03T06:34:48.751934Z"
    }
   },
   "outputs": [
    {
     "data": {
      "text/plain": [
       "0"
      ]
     },
     "execution_count": 24,
     "metadata": {},
     "output_type": "execute_result"
    }
   ],
   "source": [
    "zero = 0\n",
    "zero"
   ]
  },
  {
   "cell_type": "code",
   "execution_count": 25,
   "id": "99f56053",
   "metadata": {
    "ExecuteTime": {
     "end_time": "2023-09-03T06:34:54.952471Z",
     "start_time": "2023-09-03T06:34:54.937239Z"
    }
   },
   "outputs": [
    {
     "data": {
      "text/plain": [
       "False"
      ]
     },
     "execution_count": 25,
     "metadata": {},
     "output_type": "execute_result"
    }
   ],
   "source": [
    "bool(zero)"
   ]
  },
  {
   "cell_type": "code",
   "execution_count": 6,
   "id": "0b7dbc55",
   "metadata": {
    "ExecuteTime": {
     "end_time": "2023-09-01T13:08:09.143946Z",
     "start_time": "2023-09-01T13:08:09.130302Z"
    }
   },
   "outputs": [],
   "source": [
    "#We can convert any type of values to bool type, and the output for all values will be True , \n",
    "#Except 0, which is False"
   ]
  },
  {
   "cell_type": "markdown",
   "id": "25d2594c",
   "metadata": {},
   "source": [
    "# String methods"
   ]
  },
  {
   "cell_type": "code",
   "execution_count": 29,
   "id": "692d80bf",
   "metadata": {
    "ExecuteTime": {
     "end_time": "2023-09-03T06:39:42.339341Z",
     "start_time": "2023-09-03T06:39:42.333987Z"
    }
   },
   "outputs": [
    {
     "data": {
      "text/plain": [
       "'we are learning python'"
      ]
     },
     "execution_count": 29,
     "metadata": {},
     "output_type": "execute_result"
    }
   ],
   "source": [
    "#Create a string\n",
    "s = 'we are learning python'\n",
    "s"
   ]
  },
  {
   "cell_type": "code",
   "execution_count": 8,
   "id": "6498f994",
   "metadata": {
    "ExecuteTime": {
     "end_time": "2023-09-01T13:08:09.174226Z",
     "start_time": "2023-09-01T13:08:09.161331Z"
    }
   },
   "outputs": [],
   "source": [
    "#Capitalize function"
   ]
  },
  {
   "cell_type": "code",
   "execution_count": 31,
   "id": "659a952e",
   "metadata": {
    "ExecuteTime": {
     "end_time": "2023-09-03T06:40:46.127591Z",
     "start_time": "2023-09-03T06:40:46.102175Z"
    }
   },
   "outputs": [
    {
     "data": {
      "text/plain": [
       "22"
      ]
     },
     "execution_count": 31,
     "metadata": {},
     "output_type": "execute_result"
    }
   ],
   "source": [
    "len(s)"
   ]
  },
  {
   "cell_type": "code",
   "execution_count": 35,
   "id": "5c20c797",
   "metadata": {
    "ExecuteTime": {
     "end_time": "2023-09-03T06:43:25.902634Z",
     "start_time": "2023-09-03T06:43:25.894536Z"
    }
   },
   "outputs": [
    {
     "data": {
      "text/plain": [
       "'We are learning python'"
      ]
     },
     "execution_count": 35,
     "metadata": {},
     "output_type": "execute_result"
    }
   ],
   "source": [
    "s.capitalize()"
   ]
  },
  {
   "cell_type": "code",
   "execution_count": 9,
   "id": "6122e0b5",
   "metadata": {
    "ExecuteTime": {
     "end_time": "2023-09-01T13:08:09.189776Z",
     "start_time": "2023-09-01T13:08:09.176629Z"
    }
   },
   "outputs": [],
   "source": [
    "#Count"
   ]
  },
  {
   "cell_type": "code",
   "execution_count": 37,
   "id": "ac834ae8",
   "metadata": {
    "ExecuteTime": {
     "end_time": "2023-09-03T06:43:54.682466Z",
     "start_time": "2023-09-03T06:43:54.658686Z"
    }
   },
   "outputs": [
    {
     "data": {
      "text/plain": [
       "1"
      ]
     },
     "execution_count": 37,
     "metadata": {},
     "output_type": "execute_result"
    }
   ],
   "source": [
    "s.count('l')"
   ]
  },
  {
   "cell_type": "code",
   "execution_count": 10,
   "id": "5a6e1bad",
   "metadata": {
    "ExecuteTime": {
     "end_time": "2023-09-01T13:08:09.204992Z",
     "start_time": "2023-09-01T13:08:09.196407Z"
    }
   },
   "outputs": [],
   "source": [
    "# Starts with and endswith function"
   ]
  },
  {
   "cell_type": "code",
   "execution_count": 38,
   "id": "96b5493e",
   "metadata": {
    "ExecuteTime": {
     "end_time": "2023-09-03T06:44:11.576121Z",
     "start_time": "2023-09-03T06:44:11.555709Z"
    }
   },
   "outputs": [
    {
     "data": {
      "text/plain": [
       "'we are learning python'"
      ]
     },
     "execution_count": 38,
     "metadata": {},
     "output_type": "execute_result"
    }
   ],
   "source": [
    "s"
   ]
  },
  {
   "cell_type": "code",
   "execution_count": 40,
   "id": "baafb102",
   "metadata": {
    "ExecuteTime": {
     "end_time": "2023-09-03T06:45:17.928545Z",
     "start_time": "2023-09-03T06:45:17.911423Z"
    }
   },
   "outputs": [
    {
     "data": {
      "text/plain": [
       "False"
      ]
     },
     "execution_count": 40,
     "metadata": {},
     "output_type": "execute_result"
    }
   ],
   "source": [
    "s.startswith('they')"
   ]
  },
  {
   "cell_type": "code",
   "execution_count": 43,
   "id": "f3209c8e",
   "metadata": {
    "ExecuteTime": {
     "end_time": "2023-09-03T06:46:01.023956Z",
     "start_time": "2023-09-03T06:46:01.015666Z"
    }
   },
   "outputs": [
    {
     "data": {
      "text/plain": [
       "True"
      ]
     },
     "execution_count": 43,
     "metadata": {},
     "output_type": "execute_result"
    }
   ],
   "source": [
    "s.endswith('n')"
   ]
  },
  {
   "cell_type": "code",
   "execution_count": 11,
   "id": "b52f85af",
   "metadata": {
    "ExecuteTime": {
     "end_time": "2023-09-01T13:08:09.220748Z",
     "start_time": "2023-09-01T13:08:09.207029Z"
    }
   },
   "outputs": [],
   "source": [
    "#Find"
   ]
  },
  {
   "cell_type": "code",
   "execution_count": 44,
   "id": "06798feb",
   "metadata": {
    "ExecuteTime": {
     "end_time": "2023-09-03T06:46:52.690011Z",
     "start_time": "2023-09-03T06:46:52.671115Z"
    }
   },
   "outputs": [
    {
     "data": {
      "text/plain": [
       "'we are learning python'"
      ]
     },
     "execution_count": 44,
     "metadata": {},
     "output_type": "execute_result"
    }
   ],
   "source": [
    "s"
   ]
  },
  {
   "cell_type": "code",
   "execution_count": 45,
   "id": "b17fbff8",
   "metadata": {
    "ExecuteTime": {
     "end_time": "2023-09-03T06:47:39.327576Z",
     "start_time": "2023-09-03T06:47:39.313241Z"
    }
   },
   "outputs": [
    {
     "data": {
      "text/plain": [
       "7"
      ]
     },
     "execution_count": 45,
     "metadata": {},
     "output_type": "execute_result"
    }
   ],
   "source": [
    "s.find('learning')"
   ]
  },
  {
   "cell_type": "code",
   "execution_count": 47,
   "id": "47139cd3",
   "metadata": {
    "ExecuteTime": {
     "end_time": "2023-09-03T06:48:11.759344Z",
     "start_time": "2023-09-03T06:48:11.745523Z"
    }
   },
   "outputs": [
    {
     "data": {
      "text/plain": [
       "0"
      ]
     },
     "execution_count": 47,
     "metadata": {},
     "output_type": "execute_result"
    }
   ],
   "source": [
    "s.find('w')"
   ]
  },
  {
   "cell_type": "code",
   "execution_count": 12,
   "id": "0ede6c13",
   "metadata": {
    "ExecuteTime": {
     "end_time": "2023-09-01T13:08:09.235952Z",
     "start_time": "2023-09-01T13:08:09.223178Z"
    }
   },
   "outputs": [],
   "source": [
    "#Replace "
   ]
  },
  {
   "cell_type": "code",
   "execution_count": 48,
   "id": "1091ce76",
   "metadata": {
    "ExecuteTime": {
     "end_time": "2023-09-03T06:48:23.457571Z",
     "start_time": "2023-09-03T06:48:23.438926Z"
    }
   },
   "outputs": [
    {
     "data": {
      "text/plain": [
       "'we are learning python'"
      ]
     },
     "execution_count": 48,
     "metadata": {},
     "output_type": "execute_result"
    }
   ],
   "source": [
    "s"
   ]
  },
  {
   "cell_type": "code",
   "execution_count": 51,
   "id": "4787d34a",
   "metadata": {
    "ExecuteTime": {
     "end_time": "2023-09-03T06:50:20.388346Z",
     "start_time": "2023-09-03T06:50:20.380161Z"
    }
   },
   "outputs": [],
   "source": [
    "s = s.replace('we','They')"
   ]
  },
  {
   "cell_type": "code",
   "execution_count": 52,
   "id": "507b30fc",
   "metadata": {
    "ExecuteTime": {
     "end_time": "2023-09-03T06:50:23.834315Z",
     "start_time": "2023-09-03T06:50:23.817036Z"
    }
   },
   "outputs": [
    {
     "data": {
      "text/plain": [
       "'They are learning python'"
      ]
     },
     "execution_count": 52,
     "metadata": {},
     "output_type": "execute_result"
    }
   ],
   "source": [
    "s"
   ]
  },
  {
   "cell_type": "code",
   "execution_count": 13,
   "id": "c26137c1",
   "metadata": {
    "ExecuteTime": {
     "end_time": "2023-09-01T13:08:09.251622Z",
     "start_time": "2023-09-01T13:08:09.238093Z"
    }
   },
   "outputs": [],
   "source": [
    "#Split "
   ]
  },
  {
   "cell_type": "code",
   "execution_count": 53,
   "id": "e0b71753",
   "metadata": {
    "ExecuteTime": {
     "end_time": "2023-09-03T06:50:42.713868Z",
     "start_time": "2023-09-03T06:50:42.700189Z"
    }
   },
   "outputs": [
    {
     "data": {
      "text/plain": [
       "'They are learning python'"
      ]
     },
     "execution_count": 53,
     "metadata": {},
     "output_type": "execute_result"
    }
   ],
   "source": [
    "s"
   ]
  },
  {
   "cell_type": "code",
   "execution_count": 54,
   "id": "d555d233",
   "metadata": {
    "ExecuteTime": {
     "end_time": "2023-09-03T06:51:54.721618Z",
     "start_time": "2023-09-03T06:51:54.712646Z"
    }
   },
   "outputs": [
    {
     "data": {
      "text/plain": [
       "['They', 'are', 'learning', 'python']"
      ]
     },
     "execution_count": 54,
     "metadata": {},
     "output_type": "execute_result"
    }
   ],
   "source": [
    "s.split(' ')"
   ]
  },
  {
   "cell_type": "code",
   "execution_count": 55,
   "id": "7dc66dee",
   "metadata": {
    "ExecuteTime": {
     "end_time": "2023-09-03T06:52:14.725620Z",
     "start_time": "2023-09-03T06:52:14.708446Z"
    }
   },
   "outputs": [
    {
     "data": {
      "text/plain": [
       "'They,are,learning,python'"
      ]
     },
     "execution_count": 55,
     "metadata": {},
     "output_type": "execute_result"
    }
   ],
   "source": [
    "s1 = 'They,are,learning,python'\n",
    "s1"
   ]
  },
  {
   "cell_type": "code",
   "execution_count": 57,
   "id": "c089d5ac",
   "metadata": {
    "ExecuteTime": {
     "end_time": "2023-09-03T06:52:57.974123Z",
     "start_time": "2023-09-03T06:52:57.957244Z"
    }
   },
   "outputs": [
    {
     "data": {
      "text/plain": [
       "['They', 'are', 'learning', 'python']"
      ]
     },
     "execution_count": 57,
     "metadata": {},
     "output_type": "execute_result"
    }
   ],
   "source": [
    "words = s1.split(',')\n",
    "words"
   ]
  },
  {
   "cell_type": "code",
   "execution_count": 14,
   "id": "79c9ffa6",
   "metadata": {
    "ExecuteTime": {
     "end_time": "2023-09-01T13:08:09.267329Z",
     "start_time": "2023-09-01T13:08:09.253626Z"
    }
   },
   "outputs": [],
   "source": [
    "#Basic functions "
   ]
  },
  {
   "cell_type": "code",
   "execution_count": 58,
   "id": "4f210d86",
   "metadata": {
    "ExecuteTime": {
     "end_time": "2023-09-03T06:53:26.385016Z",
     "start_time": "2023-09-03T06:53:26.370150Z"
    }
   },
   "outputs": [
    {
     "data": {
      "text/plain": [
       "'They are learning python'"
      ]
     },
     "execution_count": 58,
     "metadata": {},
     "output_type": "execute_result"
    }
   ],
   "source": [
    "s"
   ]
  },
  {
   "cell_type": "code",
   "execution_count": 59,
   "id": "1bb16fb7",
   "metadata": {
    "ExecuteTime": {
     "end_time": "2023-09-03T06:53:49.357624Z",
     "start_time": "2023-09-03T06:53:49.345690Z"
    }
   },
   "outputs": [
    {
     "data": {
      "text/plain": [
       "'THEY ARE LEARNING PYTHON'"
      ]
     },
     "execution_count": 59,
     "metadata": {},
     "output_type": "execute_result"
    }
   ],
   "source": [
    "s.upper()"
   ]
  },
  {
   "cell_type": "code",
   "execution_count": 61,
   "id": "f1bd392b",
   "metadata": {
    "ExecuteTime": {
     "end_time": "2023-09-03T06:54:26.583190Z",
     "start_time": "2023-09-03T06:54:26.570936Z"
    }
   },
   "outputs": [
    {
     "data": {
      "text/plain": [
       "'they are learning python'"
      ]
     },
     "execution_count": 61,
     "metadata": {},
     "output_type": "execute_result"
    }
   ],
   "source": [
    "s.lower() #text normalization"
   ]
  },
  {
   "cell_type": "code",
   "execution_count": 62,
   "id": "ecf510e3",
   "metadata": {
    "ExecuteTime": {
     "end_time": "2023-09-03T06:57:15.626183Z",
     "start_time": "2023-09-03T06:57:15.618672Z"
    }
   },
   "outputs": [
    {
     "data": {
      "text/plain": [
       "'They Are Learning Python'"
      ]
     },
     "execution_count": 62,
     "metadata": {},
     "output_type": "execute_result"
    }
   ],
   "source": [
    "s.title()"
   ]
  },
  {
   "cell_type": "markdown",
   "id": "48220fa4",
   "metadata": {},
   "source": [
    "# Data Structures\n",
    "1. Lists\n",
    "2. Tuple\n",
    "3. Dictionary\n",
    "4. Sets"
   ]
  },
  {
   "cell_type": "markdown",
   "id": "78753086",
   "metadata": {},
   "source": [
    "**Lists**\n",
    "\n",
    "- Lists are the built in data structures in python.\n",
    "- Lists are heterogenous data structure.\n",
    "- Lists are mutable."
   ]
  },
  {
   "cell_type": "code",
   "execution_count": 15,
   "id": "8417c924",
   "metadata": {
    "ExecuteTime": {
     "end_time": "2023-09-01T13:08:09.282502Z",
     "start_time": "2023-09-01T13:08:09.268329Z"
    }
   },
   "outputs": [],
   "source": [
    "#Creating lists"
   ]
  },
  {
   "cell_type": "code",
   "execution_count": 63,
   "id": "f1570c8d",
   "metadata": {
    "ExecuteTime": {
     "end_time": "2023-09-03T07:07:49.509846Z",
     "start_time": "2023-09-03T07:07:49.491019Z"
    }
   },
   "outputs": [
    {
     "data": {
      "text/plain": [
       "list"
      ]
     },
     "execution_count": 63,
     "metadata": {},
     "output_type": "execute_result"
    }
   ],
   "source": [
    "lst = []\n",
    "type(lst)"
   ]
  },
  {
   "cell_type": "code",
   "execution_count": 64,
   "id": "3f4790ef",
   "metadata": {
    "ExecuteTime": {
     "end_time": "2023-09-03T07:08:19.478195Z",
     "start_time": "2023-09-03T07:08:19.463025Z"
    }
   },
   "outputs": [
    {
     "data": {
      "text/plain": [
       "['Sakshi', 25, 2.0, True]"
      ]
     },
     "execution_count": 64,
     "metadata": {},
     "output_type": "execute_result"
    }
   ],
   "source": [
    "lst = ['Sakshi',25,2.0,True]\n",
    "lst"
   ]
  },
  {
   "cell_type": "code",
   "execution_count": 65,
   "id": "8884c02e",
   "metadata": {
    "ExecuteTime": {
     "end_time": "2023-09-03T07:09:26.193501Z",
     "start_time": "2023-09-03T07:09:26.186949Z"
    }
   },
   "outputs": [],
   "source": [
    "lst.append('Data Science')"
   ]
  },
  {
   "cell_type": "code",
   "execution_count": 66,
   "id": "c6ab59a8",
   "metadata": {
    "ExecuteTime": {
     "end_time": "2023-09-03T07:09:40.081365Z",
     "start_time": "2023-09-03T07:09:40.061454Z"
    }
   },
   "outputs": [
    {
     "data": {
      "text/plain": [
       "['Sakshi', 25, 2.0, True, 'Data Science']"
      ]
     },
     "execution_count": 66,
     "metadata": {},
     "output_type": "execute_result"
    }
   ],
   "source": [
    "lst"
   ]
  },
  {
   "cell_type": "code",
   "execution_count": null,
   "id": "3b379bef",
   "metadata": {
    "ExecuteTime": {
     "end_time": "2023-09-01T13:08:09.566265Z",
     "start_time": "2023-09-01T13:08:09.566265Z"
    }
   },
   "outputs": [],
   "source": [
    "#Count "
   ]
  },
  {
   "cell_type": "code",
   "execution_count": 68,
   "id": "41e60574",
   "metadata": {
    "ExecuteTime": {
     "end_time": "2023-09-03T07:11:03.073172Z",
     "start_time": "2023-09-03T07:11:03.055963Z"
    }
   },
   "outputs": [
    {
     "data": {
      "text/plain": [
       "0"
      ]
     },
     "execution_count": 68,
     "metadata": {},
     "output_type": "execute_result"
    }
   ],
   "source": [
    "lst.count(20)"
   ]
  },
  {
   "cell_type": "code",
   "execution_count": 69,
   "id": "7182cfcf",
   "metadata": {
    "ExecuteTime": {
     "end_time": "2023-09-03T07:11:15.591991Z",
     "start_time": "2023-09-03T07:11:15.577599Z"
    }
   },
   "outputs": [
    {
     "data": {
      "text/plain": [
       "1"
      ]
     },
     "execution_count": 69,
     "metadata": {},
     "output_type": "execute_result"
    }
   ],
   "source": [
    "lst.count(2.0)"
   ]
  },
  {
   "cell_type": "code",
   "execution_count": null,
   "id": "ec790de7",
   "metadata": {
    "ExecuteTime": {
     "end_time": "2023-09-01T13:08:09.568654Z",
     "start_time": "2023-09-01T13:08:09.568654Z"
    }
   },
   "outputs": [],
   "source": [
    "#Insert"
   ]
  },
  {
   "cell_type": "code",
   "execution_count": 71,
   "id": "45aac18b",
   "metadata": {
    "ExecuteTime": {
     "end_time": "2023-09-03T07:12:17.348599Z",
     "start_time": "2023-09-03T07:12:17.341755Z"
    }
   },
   "outputs": [],
   "source": [
    "lst.insert(0,False)"
   ]
  },
  {
   "cell_type": "code",
   "execution_count": 72,
   "id": "f0d4b7e7",
   "metadata": {
    "ExecuteTime": {
     "end_time": "2023-09-03T07:12:23.400920Z",
     "start_time": "2023-09-03T07:12:23.384413Z"
    }
   },
   "outputs": [
    {
     "data": {
      "text/plain": [
       "[False, 'Sakshi', 25, 2.0, True, 'Data Science']"
      ]
     },
     "execution_count": 72,
     "metadata": {},
     "output_type": "execute_result"
    }
   ],
   "source": [
    "lst"
   ]
  },
  {
   "cell_type": "code",
   "execution_count": 73,
   "id": "db2cb9f6",
   "metadata": {
    "ExecuteTime": {
     "end_time": "2023-09-03T07:12:54.505260Z",
     "start_time": "2023-09-03T07:12:54.492587Z"
    }
   },
   "outputs": [
    {
     "data": {
      "text/plain": [
       "[False, 'Sakshi', 'DA', 25, 2.0, True, 'Data Science']"
      ]
     },
     "execution_count": 73,
     "metadata": {},
     "output_type": "execute_result"
    }
   ],
   "source": [
    "lst.insert(2,'DA')\n",
    "lst"
   ]
  },
  {
   "cell_type": "code",
   "execution_count": null,
   "id": "cc3629cb",
   "metadata": {
    "ExecuteTime": {
     "end_time": "2023-09-01T13:08:09.570666Z",
     "start_time": "2023-09-01T13:08:09.570666Z"
    }
   },
   "outputs": [],
   "source": [
    "#pop"
   ]
  },
  {
   "cell_type": "code",
   "execution_count": 74,
   "id": "5fd7d1ba",
   "metadata": {
    "ExecuteTime": {
     "end_time": "2023-09-03T07:14:12.449691Z",
     "start_time": "2023-09-03T07:14:12.432547Z"
    }
   },
   "outputs": [
    {
     "data": {
      "text/plain": [
       "'Data Science'"
      ]
     },
     "execution_count": 74,
     "metadata": {},
     "output_type": "execute_result"
    }
   ],
   "source": [
    "lst.pop()"
   ]
  },
  {
   "cell_type": "code",
   "execution_count": 75,
   "id": "6ab33471",
   "metadata": {
    "ExecuteTime": {
     "end_time": "2023-09-03T07:14:19.686588Z",
     "start_time": "2023-09-03T07:14:19.676577Z"
    }
   },
   "outputs": [
    {
     "data": {
      "text/plain": [
       "[False, 'Sakshi', 'DA', 25, 2.0, True]"
      ]
     },
     "execution_count": 75,
     "metadata": {},
     "output_type": "execute_result"
    }
   ],
   "source": [
    "lst"
   ]
  },
  {
   "cell_type": "code",
   "execution_count": 76,
   "id": "3d503eac",
   "metadata": {
    "ExecuteTime": {
     "end_time": "2023-09-03T07:14:52.446914Z",
     "start_time": "2023-09-03T07:14:52.441183Z"
    }
   },
   "outputs": [],
   "source": [
    "lst.remove(False)"
   ]
  },
  {
   "cell_type": "code",
   "execution_count": 77,
   "id": "664f4e63",
   "metadata": {
    "ExecuteTime": {
     "end_time": "2023-09-03T07:14:57.763079Z",
     "start_time": "2023-09-03T07:14:57.749979Z"
    }
   },
   "outputs": [
    {
     "data": {
      "text/plain": [
       "['Sakshi', 'DA', 25, 2.0, True]"
      ]
     },
     "execution_count": 77,
     "metadata": {},
     "output_type": "execute_result"
    }
   ],
   "source": [
    "lst"
   ]
  },
  {
   "cell_type": "code",
   "execution_count": null,
   "id": "041ea0f3",
   "metadata": {
    "ExecuteTime": {
     "end_time": "2023-09-01T13:08:09.572662Z",
     "start_time": "2023-09-01T13:08:09.572662Z"
    }
   },
   "outputs": [],
   "source": [
    "#reverse"
   ]
  },
  {
   "cell_type": "code",
   "execution_count": 78,
   "id": "f3bdbd28",
   "metadata": {
    "ExecuteTime": {
     "end_time": "2023-09-03T07:15:40.260123Z",
     "start_time": "2023-09-03T07:15:40.254635Z"
    }
   },
   "outputs": [],
   "source": [
    "lst.reverse()"
   ]
  },
  {
   "cell_type": "code",
   "execution_count": 79,
   "id": "d079c056",
   "metadata": {
    "ExecuteTime": {
     "end_time": "2023-09-03T07:15:42.686511Z",
     "start_time": "2023-09-03T07:15:42.667949Z"
    }
   },
   "outputs": [
    {
     "data": {
      "text/plain": [
       "[True, 2.0, 25, 'DA', 'Sakshi']"
      ]
     },
     "execution_count": 79,
     "metadata": {},
     "output_type": "execute_result"
    }
   ],
   "source": [
    "lst"
   ]
  },
  {
   "cell_type": "code",
   "execution_count": 80,
   "id": "8e316c6c",
   "metadata": {
    "ExecuteTime": {
     "end_time": "2023-09-03T07:15:56.376249Z",
     "start_time": "2023-09-03T07:15:56.358016Z"
    }
   },
   "outputs": [
    {
     "data": {
      "text/plain": [
       "[True, 2.0, 25, 'DA', 'Sakshi']"
      ]
     },
     "execution_count": 80,
     "metadata": {},
     "output_type": "execute_result"
    }
   ],
   "source": [
    "lst"
   ]
  },
  {
   "cell_type": "code",
   "execution_count": 81,
   "id": "a1c561f6",
   "metadata": {
    "ExecuteTime": {
     "end_time": "2023-09-03T07:16:14.852523Z",
     "start_time": "2023-09-03T07:16:14.835398Z"
    }
   },
   "outputs": [
    {
     "data": {
      "text/plain": [
       "'Sakshi'"
      ]
     },
     "execution_count": 81,
     "metadata": {},
     "output_type": "execute_result"
    }
   ],
   "source": [
    "lst[4]"
   ]
  },
  {
   "cell_type": "code",
   "execution_count": 83,
   "id": "3d7b1971",
   "metadata": {
    "ExecuteTime": {
     "end_time": "2023-09-03T07:17:02.377820Z",
     "start_time": "2023-09-03T07:17:02.359461Z"
    }
   },
   "outputs": [
    {
     "data": {
      "text/plain": [
       "[True, 2.0]"
      ]
     },
     "execution_count": 83,
     "metadata": {},
     "output_type": "execute_result"
    }
   ],
   "source": [
    "lst[0:2]"
   ]
  },
  {
   "cell_type": "code",
   "execution_count": 85,
   "id": "feac3cf4",
   "metadata": {
    "ExecuteTime": {
     "end_time": "2023-09-03T07:18:05.910286Z",
     "start_time": "2023-09-03T07:18:05.895713Z"
    }
   },
   "outputs": [
    {
     "data": {
      "text/plain": [
       "[25, 'DA', 'Sakshi']"
      ]
     },
     "execution_count": 85,
     "metadata": {},
     "output_type": "execute_result"
    }
   ],
   "source": [
    "lst[2:5]"
   ]
  },
  {
   "cell_type": "code",
   "execution_count": 86,
   "id": "7b22d550",
   "metadata": {
    "ExecuteTime": {
     "end_time": "2023-09-03T07:18:38.960178Z",
     "start_time": "2023-09-03T07:18:38.944751Z"
    }
   },
   "outputs": [
    {
     "data": {
      "text/plain": [
       "[25, 'DA', 'Sakshi']"
      ]
     },
     "execution_count": 86,
     "metadata": {},
     "output_type": "execute_result"
    }
   ],
   "source": [
    "lst[2:]"
   ]
  },
  {
   "cell_type": "code",
   "execution_count": null,
   "id": "2c6eb636",
   "metadata": {
    "ExecuteTime": {
     "end_time": "2023-09-01T13:08:09.578097Z",
     "start_time": "2023-09-01T13:08:09.578097Z"
    }
   },
   "outputs": [],
   "source": [
    "#Replacing elements in lists"
   ]
  },
  {
   "cell_type": "code",
   "execution_count": 87,
   "id": "521b8b04",
   "metadata": {
    "ExecuteTime": {
     "end_time": "2023-09-03T07:18:53.581698Z",
     "start_time": "2023-09-03T07:18:53.563526Z"
    }
   },
   "outputs": [
    {
     "data": {
      "text/plain": [
       "[True, 2.0, 25, 'DA', 'Sakshi']"
      ]
     },
     "execution_count": 87,
     "metadata": {},
     "output_type": "execute_result"
    }
   ],
   "source": [
    "lst"
   ]
  },
  {
   "cell_type": "code",
   "execution_count": 89,
   "id": "95453c0b",
   "metadata": {
    "ExecuteTime": {
     "end_time": "2023-09-03T07:19:29.557331Z",
     "start_time": "2023-09-03T07:19:29.535460Z"
    }
   },
   "outputs": [
    {
     "data": {
      "text/plain": [
       "[True, 200, 25, 'DA', 'Sakshi']"
      ]
     },
     "execution_count": 89,
     "metadata": {},
     "output_type": "execute_result"
    }
   ],
   "source": [
    "lst[1] = 200\n",
    "lst"
   ]
  },
  {
   "cell_type": "markdown",
   "id": "5dbba063",
   "metadata": {},
   "source": [
    "**Tuple**\n",
    "\n",
    "- Tuples are ordered and heterogenous data structure.\n",
    "- Tuples are immutable."
   ]
  },
  {
   "cell_type": "code",
   "execution_count": null,
   "id": "174d82a7",
   "metadata": {
    "ExecuteTime": {
     "end_time": "2023-09-01T13:08:09.580245Z",
     "start_time": "2023-09-01T13:08:09.580245Z"
    }
   },
   "outputs": [],
   "source": [
    "#Create a tuple"
   ]
  },
  {
   "cell_type": "code",
   "execution_count": 1,
   "id": "52b0c1d4",
   "metadata": {
    "ExecuteTime": {
     "end_time": "2023-09-09T03:45:28.561477Z",
     "start_time": "2023-09-09T03:45:28.520762Z"
    }
   },
   "outputs": [
    {
     "data": {
      "text/plain": [
       "tuple"
      ]
     },
     "execution_count": 1,
     "metadata": {},
     "output_type": "execute_result"
    }
   ],
   "source": [
    "t = ()\n",
    "type(t)"
   ]
  },
  {
   "cell_type": "code",
   "execution_count": 3,
   "id": "9d6cc3a9",
   "metadata": {
    "ExecuteTime": {
     "end_time": "2023-09-09T03:45:58.741119Z",
     "start_time": "2023-09-09T03:45:58.727493Z"
    }
   },
   "outputs": [
    {
     "data": {
      "text/plain": [
       "('Python', 20, 1.2, True)"
      ]
     },
     "execution_count": 3,
     "metadata": {},
     "output_type": "execute_result"
    }
   ],
   "source": [
    "t = ('Python',20,1.2,True)\n",
    "t"
   ]
  },
  {
   "cell_type": "code",
   "execution_count": null,
   "id": "e6436ef7",
   "metadata": {
    "ExecuteTime": {
     "end_time": "2023-09-01T13:08:09.583395Z",
     "start_time": "2023-09-01T13:08:09.583395Z"
    }
   },
   "outputs": [],
   "source": [
    "#Accessing elements from tuple"
   ]
  },
  {
   "cell_type": "code",
   "execution_count": 6,
   "id": "8e3d42b0",
   "metadata": {
    "ExecuteTime": {
     "end_time": "2023-09-09T03:48:16.366928Z",
     "start_time": "2023-09-09T03:48:16.348394Z"
    }
   },
   "outputs": [
    {
     "data": {
      "text/plain": [
       "1.2"
      ]
     },
     "execution_count": 6,
     "metadata": {},
     "output_type": "execute_result"
    }
   ],
   "source": [
    "t[2]"
   ]
  },
  {
   "cell_type": "code",
   "execution_count": 7,
   "id": "269c680b",
   "metadata": {
    "ExecuteTime": {
     "end_time": "2023-09-09T03:48:35.347616Z",
     "start_time": "2023-09-09T03:48:35.327239Z"
    }
   },
   "outputs": [
    {
     "data": {
      "text/plain": [
       "(20, 1.2, True)"
      ]
     },
     "execution_count": 7,
     "metadata": {},
     "output_type": "execute_result"
    }
   ],
   "source": [
    "t[1:4]"
   ]
  },
  {
   "cell_type": "code",
   "execution_count": 4,
   "id": "a913ba15",
   "metadata": {
    "ExecuteTime": {
     "end_time": "2023-09-09T03:47:19.035661Z",
     "start_time": "2023-09-09T03:47:19.015025Z"
    }
   },
   "outputs": [
    {
     "data": {
      "text/plain": [
       "1"
      ]
     },
     "execution_count": 4,
     "metadata": {},
     "output_type": "execute_result"
    }
   ],
   "source": [
    "t.count(20)"
   ]
  },
  {
   "cell_type": "code",
   "execution_count": 5,
   "id": "7363c49a",
   "metadata": {
    "ExecuteTime": {
     "end_time": "2023-09-09T03:47:29.683442Z",
     "start_time": "2023-09-09T03:47:29.665984Z"
    }
   },
   "outputs": [
    {
     "data": {
      "text/plain": [
       "3"
      ]
     },
     "execution_count": 5,
     "metadata": {},
     "output_type": "execute_result"
    }
   ],
   "source": [
    "t.index(True)"
   ]
  },
  {
   "cell_type": "markdown",
   "id": "fb3d7af9",
   "metadata": {},
   "source": [
    "**Dictionary**\n",
    "\n",
    "- Python dictionaries are ordered collection of items.\n",
    "- Dictionary is mutable data structure.\n",
    "- It has key and value pair."
   ]
  },
  {
   "cell_type": "code",
   "execution_count": null,
   "id": "5a7874ad",
   "metadata": {
    "ExecuteTime": {
     "end_time": "2023-09-01T13:08:09.585495Z",
     "start_time": "2023-09-01T13:08:09.585495Z"
    }
   },
   "outputs": [],
   "source": [
    "#Creating an empty dictionary"
   ]
  },
  {
   "cell_type": "code",
   "execution_count": 8,
   "id": "027b0252",
   "metadata": {
    "ExecuteTime": {
     "end_time": "2023-09-09T03:52:35.426380Z",
     "start_time": "2023-09-09T03:52:35.409317Z"
    }
   },
   "outputs": [
    {
     "data": {
      "text/plain": [
       "dict"
      ]
     },
     "execution_count": 8,
     "metadata": {},
     "output_type": "execute_result"
    }
   ],
   "source": [
    "dictionary = {}\n",
    "type(dictionary)"
   ]
  },
  {
   "cell_type": "code",
   "execution_count": null,
   "id": "de8f6bcf",
   "metadata": {
    "ExecuteTime": {
     "end_time": "2023-09-01T13:08:09.587528Z",
     "start_time": "2023-09-01T13:08:09.587528Z"
    }
   },
   "outputs": [],
   "source": [
    "#Adding elements in a dictionary"
   ]
  },
  {
   "cell_type": "code",
   "execution_count": 9,
   "id": "c62f2131",
   "metadata": {
    "ExecuteTime": {
     "end_time": "2023-09-09T03:54:47.681300Z",
     "start_time": "2023-09-09T03:54:47.674699Z"
    }
   },
   "outputs": [],
   "source": [
    "dictionary = {\n",
    "    'Name':'Abhishek',\n",
    "    'Age' : 21,\n",
    "    'Course':'DA'\n",
    "}"
   ]
  },
  {
   "cell_type": "code",
   "execution_count": 10,
   "id": "5fd9726d",
   "metadata": {
    "ExecuteTime": {
     "end_time": "2023-09-09T03:54:57.975801Z",
     "start_time": "2023-09-09T03:54:57.962154Z"
    }
   },
   "outputs": [
    {
     "data": {
      "text/plain": [
       "{'Name': 'Abhishek', 'Age': 21, 'Course': 'DA'}"
      ]
     },
     "execution_count": 10,
     "metadata": {},
     "output_type": "execute_result"
    }
   ],
   "source": [
    "dictionary"
   ]
  },
  {
   "cell_type": "code",
   "execution_count": null,
   "id": "5639636a",
   "metadata": {
    "ExecuteTime": {
     "end_time": "2023-09-01T13:08:09.592420Z",
     "start_time": "2023-09-01T13:08:09.592420Z"
    }
   },
   "outputs": [],
   "source": [
    "#get"
   ]
  },
  {
   "cell_type": "code",
   "execution_count": 12,
   "id": "2cfa72e3",
   "metadata": {
    "ExecuteTime": {
     "end_time": "2023-09-09T03:57:25.570618Z",
     "start_time": "2023-09-09T03:57:25.558145Z"
    }
   },
   "outputs": [
    {
     "data": {
      "text/plain": [
       "'Abhishek'"
      ]
     },
     "execution_count": 12,
     "metadata": {},
     "output_type": "execute_result"
    }
   ],
   "source": [
    "dictionary.get('Name')"
   ]
  },
  {
   "cell_type": "code",
   "execution_count": 13,
   "id": "3a8b44a5",
   "metadata": {
    "ExecuteTime": {
     "end_time": "2023-09-09T03:57:41.107187Z",
     "start_time": "2023-09-09T03:57:41.099660Z"
    }
   },
   "outputs": [
    {
     "data": {
      "text/plain": [
       "21"
      ]
     },
     "execution_count": 13,
     "metadata": {},
     "output_type": "execute_result"
    }
   ],
   "source": [
    "dictionary.get('Age')"
   ]
  },
  {
   "cell_type": "code",
   "execution_count": null,
   "id": "fdeec872",
   "metadata": {
    "ExecuteTime": {
     "end_time": "2023-09-01T13:08:09.594559Z",
     "start_time": "2023-09-01T13:08:09.594559Z"
    }
   },
   "outputs": [],
   "source": [
    "#items"
   ]
  },
  {
   "cell_type": "code",
   "execution_count": 15,
   "id": "300c3556",
   "metadata": {
    "ExecuteTime": {
     "end_time": "2023-09-09T03:58:54.404551Z",
     "start_time": "2023-09-09T03:58:54.395233Z"
    },
    "scrolled": false
   },
   "outputs": [
    {
     "data": {
      "text/plain": [
       "dict_items([('Name', 'Abhishek'), ('Age', 21), ('Course', 'DA')])"
      ]
     },
     "execution_count": 15,
     "metadata": {},
     "output_type": "execute_result"
    }
   ],
   "source": [
    "dictionary.items()"
   ]
  },
  {
   "cell_type": "code",
   "execution_count": null,
   "id": "65a60573",
   "metadata": {
    "ExecuteTime": {
     "end_time": "2023-09-01T13:08:09.596681Z",
     "start_time": "2023-09-01T13:08:09.596681Z"
    }
   },
   "outputs": [],
   "source": [
    "#keys"
   ]
  },
  {
   "cell_type": "code",
   "execution_count": 16,
   "id": "b7d5bcc1",
   "metadata": {
    "ExecuteTime": {
     "end_time": "2023-09-09T04:00:51.762143Z",
     "start_time": "2023-09-09T04:00:51.745025Z"
    }
   },
   "outputs": [
    {
     "data": {
      "text/plain": [
       "dict_keys(['Name', 'Age', 'Course'])"
      ]
     },
     "execution_count": 16,
     "metadata": {},
     "output_type": "execute_result"
    }
   ],
   "source": [
    "dictionary.keys()"
   ]
  },
  {
   "cell_type": "code",
   "execution_count": 17,
   "id": "7be3ff14",
   "metadata": {
    "ExecuteTime": {
     "end_time": "2023-09-09T04:01:20.088894Z",
     "start_time": "2023-09-09T04:01:20.074928Z"
    }
   },
   "outputs": [
    {
     "data": {
      "text/plain": [
       "dict_values(['Abhishek', 21, 'DA'])"
      ]
     },
     "execution_count": 17,
     "metadata": {},
     "output_type": "execute_result"
    }
   ],
   "source": [
    "dictionary.values()"
   ]
  },
  {
   "cell_type": "code",
   "execution_count": 18,
   "id": "093b715b",
   "metadata": {
    "ExecuteTime": {
     "end_time": "2023-09-09T04:03:06.986862Z",
     "start_time": "2023-09-09T04:03:06.978646Z"
    }
   },
   "outputs": [],
   "source": [
    "#Adding values in dictionary(update)\n",
    "dictionary.update({'City':'Pune'})"
   ]
  },
  {
   "cell_type": "code",
   "execution_count": 19,
   "id": "11a1265d",
   "metadata": {
    "ExecuteTime": {
     "end_time": "2023-09-09T04:03:19.293270Z",
     "start_time": "2023-09-09T04:03:19.282515Z"
    }
   },
   "outputs": [
    {
     "data": {
      "text/plain": [
       "{'Name': 'Abhishek', 'Age': 21, 'Course': 'DA', 'City': 'Pune'}"
      ]
     },
     "execution_count": 19,
     "metadata": {},
     "output_type": "execute_result"
    }
   ],
   "source": [
    "dictionary"
   ]
  },
  {
   "cell_type": "code",
   "execution_count": 20,
   "id": "d3f5e395",
   "metadata": {
    "ExecuteTime": {
     "end_time": "2023-09-09T04:04:17.030448Z",
     "start_time": "2023-09-09T04:04:17.011694Z"
    }
   },
   "outputs": [
    {
     "data": {
      "text/plain": [
       "{'Name': 'Abhishek',\n",
       " 'Age': 21,\n",
       " 'Course': 'DA',\n",
       " 'City': 'Pune',\n",
       " 'Country': 'India',\n",
       " 'Phone': 66841}"
      ]
     },
     "execution_count": 20,
     "metadata": {},
     "output_type": "execute_result"
    }
   ],
   "source": [
    "dictionary.update({'Country':'India','Phone':66841})\n",
    "dictionary"
   ]
  },
  {
   "cell_type": "code",
   "execution_count": 21,
   "id": "237a54b7",
   "metadata": {
    "ExecuteTime": {
     "end_time": "2023-09-09T04:06:07.789022Z",
     "start_time": "2023-09-09T04:06:07.770651Z"
    }
   },
   "outputs": [
    {
     "data": {
      "text/plain": [
       "21"
      ]
     },
     "execution_count": 21,
     "metadata": {},
     "output_type": "execute_result"
    }
   ],
   "source": [
    "dictionary['Age']"
   ]
  },
  {
   "cell_type": "code",
   "execution_count": 22,
   "id": "0621a68e",
   "metadata": {
    "ExecuteTime": {
     "end_time": "2023-09-09T04:06:57.243926Z",
     "start_time": "2023-09-09T04:06:57.224862Z"
    }
   },
   "outputs": [],
   "source": [
    "dictionary['Age'] = 24"
   ]
  },
  {
   "cell_type": "code",
   "execution_count": 23,
   "id": "cd8f9a80",
   "metadata": {
    "ExecuteTime": {
     "end_time": "2023-09-09T04:07:06.144639Z",
     "start_time": "2023-09-09T04:07:06.135004Z"
    }
   },
   "outputs": [
    {
     "data": {
      "text/plain": [
       "{'Name': 'Abhishek',\n",
       " 'Age': 24,\n",
       " 'Course': 'DA',\n",
       " 'City': 'Pune',\n",
       " 'Country': 'India',\n",
       " 'Phone': 66841}"
      ]
     },
     "execution_count": 23,
     "metadata": {},
     "output_type": "execute_result"
    }
   ],
   "source": [
    "dictionary"
   ]
  },
  {
   "cell_type": "code",
   "execution_count": null,
   "id": "116a2fd3",
   "metadata": {
    "ExecuteTime": {
     "end_time": "2023-09-01T13:08:09.600926Z",
     "start_time": "2023-09-01T13:08:09.600926Z"
    }
   },
   "outputs": [],
   "source": [
    "#pop"
   ]
  },
  {
   "cell_type": "code",
   "execution_count": 24,
   "id": "4d9b1320",
   "metadata": {
    "ExecuteTime": {
     "end_time": "2023-09-09T04:08:20.705657Z",
     "start_time": "2023-09-09T04:08:20.686924Z"
    }
   },
   "outputs": [
    {
     "data": {
      "text/plain": [
       "66841"
      ]
     },
     "execution_count": 24,
     "metadata": {},
     "output_type": "execute_result"
    }
   ],
   "source": [
    "dictionary.pop('Phone')"
   ]
  },
  {
   "cell_type": "code",
   "execution_count": 25,
   "id": "72f3b919",
   "metadata": {
    "ExecuteTime": {
     "end_time": "2023-09-09T04:08:29.738038Z",
     "start_time": "2023-09-09T04:08:29.724490Z"
    }
   },
   "outputs": [
    {
     "data": {
      "text/plain": [
       "{'Name': 'Abhishek',\n",
       " 'Age': 24,\n",
       " 'Course': 'DA',\n",
       " 'City': 'Pune',\n",
       " 'Country': 'India'}"
      ]
     },
     "execution_count": 25,
     "metadata": {},
     "output_type": "execute_result"
    }
   ],
   "source": [
    "dictionary"
   ]
  },
  {
   "cell_type": "code",
   "execution_count": 26,
   "id": "7e11c0c6",
   "metadata": {
    "ExecuteTime": {
     "end_time": "2023-09-09T04:08:49.254413Z",
     "start_time": "2023-09-09T04:08:49.240200Z"
    }
   },
   "outputs": [
    {
     "data": {
      "text/plain": [
       "{'Name': 'Abhishek', 'Course': 'DA', 'City': 'Pune', 'Country': 'India'}"
      ]
     },
     "execution_count": 26,
     "metadata": {},
     "output_type": "execute_result"
    }
   ],
   "source": [
    "dictionary.pop('Age')\n",
    "dictionary"
   ]
  },
  {
   "cell_type": "markdown",
   "id": "da0825b4",
   "metadata": {},
   "source": [
    "**Set**\n",
    "\n",
    "- Set is a collection which is unordered,unindexed.\n",
    "- Set is immutable.\n",
    "- Sets are unordered, so you cannot be sure in which order the items will appear.\n",
    "- Sets do not allow duplicate values.\n",
    "- Once a set is created, you cannot change its items, but you can remove items and add new items.\n",
    "- As sets are unordered, they do not support indexing and slicing operations."
   ]
  },
  {
   "cell_type": "code",
   "execution_count": 27,
   "id": "f77bace1",
   "metadata": {
    "ExecuteTime": {
     "end_time": "2023-09-09T04:13:59.901729Z",
     "start_time": "2023-09-09T04:13:59.877278Z"
    }
   },
   "outputs": [
    {
     "data": {
      "text/plain": [
       "dict"
      ]
     },
     "execution_count": 27,
     "metadata": {},
     "output_type": "execute_result"
    }
   ],
   "source": [
    "#creating an empty set\n",
    "s = {}\n",
    "type(s)"
   ]
  },
  {
   "cell_type": "code",
   "execution_count": 28,
   "id": "e9ce3e1c",
   "metadata": {
    "ExecuteTime": {
     "end_time": "2023-09-09T04:14:32.008382Z",
     "start_time": "2023-09-09T04:14:31.991184Z"
    }
   },
   "outputs": [
    {
     "data": {
      "text/plain": [
       "set"
      ]
     },
     "execution_count": 28,
     "metadata": {},
     "output_type": "execute_result"
    }
   ],
   "source": [
    "s = {1,2,3}\n",
    "type(s)"
   ]
  },
  {
   "cell_type": "code",
   "execution_count": 29,
   "id": "d5c148cf",
   "metadata": {
    "ExecuteTime": {
     "end_time": "2023-09-09T04:15:03.504304Z",
     "start_time": "2023-09-09T04:15:03.495742Z"
    }
   },
   "outputs": [
    {
     "data": {
      "text/plain": [
       "{1, 2, 3, 4, 5, 10}"
      ]
     },
     "execution_count": 29,
     "metadata": {},
     "output_type": "execute_result"
    }
   ],
   "source": [
    "#Does not allow duplicate items\n",
    "s = {10,10,10,1,2,3,4,5}\n",
    "s"
   ]
  },
  {
   "cell_type": "code",
   "execution_count": null,
   "id": "037e0a3f",
   "metadata": {
    "ExecuteTime": {
     "end_time": "2023-09-01T13:08:09.607632Z",
     "start_time": "2023-09-01T13:08:09.607632Z"
    }
   },
   "outputs": [],
   "source": [
    "#Does not support indexing"
   ]
  },
  {
   "cell_type": "code",
   "execution_count": 30,
   "id": "d68bb6d0",
   "metadata": {
    "ExecuteTime": {
     "end_time": "2023-09-09T04:15:52.455412Z",
     "start_time": "2023-09-09T04:15:52.431068Z"
    }
   },
   "outputs": [
    {
     "ename": "TypeError",
     "evalue": "'set' object is not subscriptable",
     "output_type": "error",
     "traceback": [
      "\u001b[1;31m---------------------------------------------------------------------------\u001b[0m",
      "\u001b[1;31mTypeError\u001b[0m                                 Traceback (most recent call last)",
      "\u001b[1;32m~\\AppData\\Local\\Temp\\ipykernel_9916\\1495924492.py\u001b[0m in \u001b[0;36m<module>\u001b[1;34m\u001b[0m\n\u001b[1;32m----> 1\u001b[1;33m \u001b[0ms\u001b[0m\u001b[1;33m[\u001b[0m\u001b[1;36m5\u001b[0m\u001b[1;33m]\u001b[0m\u001b[1;33m\u001b[0m\u001b[1;33m\u001b[0m\u001b[0m\n\u001b[0m",
      "\u001b[1;31mTypeError\u001b[0m: 'set' object is not subscriptable"
     ]
    }
   ],
   "source": [
    "s[5]"
   ]
  },
  {
   "cell_type": "code",
   "execution_count": null,
   "id": "e982d040",
   "metadata": {
    "ExecuteTime": {
     "end_time": "2023-09-01T13:08:09.610013Z",
     "start_time": "2023-09-01T13:08:09.610013Z"
    }
   },
   "outputs": [],
   "source": [
    "#Add"
   ]
  },
  {
   "cell_type": "code",
   "execution_count": 31,
   "id": "7560c068",
   "metadata": {
    "ExecuteTime": {
     "end_time": "2023-09-09T04:16:55.449439Z",
     "start_time": "2023-09-09T04:16:55.433081Z"
    }
   },
   "outputs": [],
   "source": [
    "s.add('Python')"
   ]
  },
  {
   "cell_type": "code",
   "execution_count": 32,
   "id": "861631fa",
   "metadata": {
    "ExecuteTime": {
     "end_time": "2023-09-09T04:16:57.424399Z",
     "start_time": "2023-09-09T04:16:57.409866Z"
    }
   },
   "outputs": [
    {
     "data": {
      "text/plain": [
       "{1, 10, 2, 3, 4, 5, 'Python'}"
      ]
     },
     "execution_count": 32,
     "metadata": {},
     "output_type": "execute_result"
    }
   ],
   "source": [
    "s"
   ]
  },
  {
   "cell_type": "code",
   "execution_count": 33,
   "id": "085eed9d",
   "metadata": {
    "ExecuteTime": {
     "end_time": "2023-09-09T04:18:05.861552Z",
     "start_time": "2023-09-09T04:18:05.849497Z"
    }
   },
   "outputs": [
    {
     "data": {
      "text/plain": [
       "1"
      ]
     },
     "execution_count": 33,
     "metadata": {},
     "output_type": "execute_result"
    }
   ],
   "source": [
    "s.pop()"
   ]
  },
  {
   "cell_type": "code",
   "execution_count": 34,
   "id": "2cceb4ae",
   "metadata": {
    "ExecuteTime": {
     "end_time": "2023-09-09T04:18:16.861564Z",
     "start_time": "2023-09-09T04:18:16.843804Z"
    }
   },
   "outputs": [
    {
     "data": {
      "text/plain": [
       "{10, 2, 3, 4, 5, 'Python'}"
      ]
     },
     "execution_count": 34,
     "metadata": {},
     "output_type": "execute_result"
    }
   ],
   "source": [
    "s"
   ]
  },
  {
   "cell_type": "code",
   "execution_count": 36,
   "id": "4d4b9cce",
   "metadata": {
    "ExecuteTime": {
     "end_time": "2023-09-09T04:20:14.402013Z",
     "start_time": "2023-09-09T04:20:14.392449Z"
    }
   },
   "outputs": [],
   "source": [
    "s.remove(5)"
   ]
  },
  {
   "cell_type": "code",
   "execution_count": 37,
   "id": "fc70623c",
   "metadata": {
    "ExecuteTime": {
     "end_time": "2023-09-09T04:20:16.831223Z",
     "start_time": "2023-09-09T04:20:16.819581Z"
    }
   },
   "outputs": [
    {
     "data": {
      "text/plain": [
       "{10, 2, 3, 4, 'Python'}"
      ]
     },
     "execution_count": 37,
     "metadata": {},
     "output_type": "execute_result"
    }
   ],
   "source": [
    "s"
   ]
  },
  {
   "cell_type": "code",
   "execution_count": null,
   "id": "a98175bc",
   "metadata": {},
   "outputs": [],
   "source": []
  }
 ],
 "metadata": {
  "_draft": {
   "nbviewer_url": "https://gist.github.com/c7e48d2b0f85e662ce272c77589a4f43"
  },
  "gist": {
   "data": {
    "description": "ExcelR/Python_Basics.ipynb",
    "public": true
   },
   "id": "c7e48d2b0f85e662ce272c77589a4f43"
  },
  "kernelspec": {
   "display_name": "Python 3 (ipykernel)",
   "language": "python",
   "name": "python3"
  },
  "language_info": {
   "codemirror_mode": {
    "name": "ipython",
    "version": 3
   },
   "file_extension": ".py",
   "mimetype": "text/x-python",
   "name": "python",
   "nbconvert_exporter": "python",
   "pygments_lexer": "ipython3",
   "version": "3.9.13"
  }
 },
 "nbformat": 4,
 "nbformat_minor": 5
}
