{
 "cells": [
  {
   "cell_type": "markdown",
   "id": "e4b949d4",
   "metadata": {},
   "source": [
    "# Functions\n",
    "- In python, there are two types of function.\n",
    "    - Built-in funtions\n",
    "    - User defined function\n",
    "- We can create our own customized functions in python for code reusability."
   ]
  },
  {
   "cell_type": "code",
   "execution_count": 1,
   "id": "c03cfde8",
   "metadata": {
    "ExecuteTime": {
     "end_time": "2023-09-01T13:13:34.133558Z",
     "start_time": "2023-09-01T13:13:34.114466Z"
    }
   },
   "outputs": [],
   "source": [
    "#Basic Function"
   ]
  },
  {
   "cell_type": "code",
   "execution_count": 1,
   "id": "44fe4a3f",
   "metadata": {
    "ExecuteTime": {
     "end_time": "2023-09-09T06:21:18.534580Z",
     "start_time": "2023-09-09T06:21:18.507087Z"
    }
   },
   "outputs": [],
   "source": [
    "def simple_function():\n",
    "    print('Welcome to python classes.')"
   ]
  },
  {
   "cell_type": "code",
   "execution_count": 2,
   "id": "77be4f62",
   "metadata": {
    "ExecuteTime": {
     "end_time": "2023-09-09T06:21:49.063224Z",
     "start_time": "2023-09-09T06:21:49.044795Z"
    }
   },
   "outputs": [
    {
     "name": "stdout",
     "output_type": "stream",
     "text": [
      "Welcome to python classes.\n"
     ]
    }
   ],
   "source": [
    "simple_function()"
   ]
  },
  {
   "cell_type": "code",
   "execution_count": 6,
   "id": "301955bd",
   "metadata": {
    "ExecuteTime": {
     "end_time": "2023-09-09T06:24:32.820589Z",
     "start_time": "2023-09-09T06:24:32.801284Z"
    }
   },
   "outputs": [
    {
     "name": "stdout",
     "output_type": "stream",
     "text": [
      "This is second code\n"
     ]
    }
   ],
   "source": [
    "def abc():\n",
    "    print('This is first code')\n",
    "print('This is second code')"
   ]
  },
  {
   "cell_type": "code",
   "execution_count": 7,
   "id": "d7e515af",
   "metadata": {
    "ExecuteTime": {
     "end_time": "2023-09-09T06:24:46.877126Z",
     "start_time": "2023-09-09T06:24:46.858863Z"
    }
   },
   "outputs": [
    {
     "name": "stdout",
     "output_type": "stream",
     "text": [
      "This is first code\n"
     ]
    }
   ],
   "source": [
    "abc()"
   ]
  },
  {
   "cell_type": "code",
   "execution_count": 2,
   "id": "c96b8c93",
   "metadata": {
    "ExecuteTime": {
     "end_time": "2023-09-01T13:13:34.146732Z",
     "start_time": "2023-09-01T13:13:34.136016Z"
    }
   },
   "outputs": [],
   "source": [
    "#Docstring"
   ]
  },
  {
   "cell_type": "code",
   "execution_count": 8,
   "id": "8acf3ad5",
   "metadata": {
    "ExecuteTime": {
     "end_time": "2023-09-09T06:27:50.107203Z",
     "start_time": "2023-09-09T06:27:50.085472Z"
    }
   },
   "outputs": [
    {
     "data": {
      "text/plain": [
       "'This is first line'"
      ]
     },
     "execution_count": 8,
     "metadata": {},
     "output_type": "execute_result"
    }
   ],
   "source": [
    "'''This is first line'''"
   ]
  },
  {
   "cell_type": "code",
   "execution_count": 9,
   "id": "a50ef5a0",
   "metadata": {
    "ExecuteTime": {
     "end_time": "2023-09-09T06:28:05.826440Z",
     "start_time": "2023-09-09T06:28:05.810276Z"
    }
   },
   "outputs": [],
   "source": [
    "def func():\n",
    "    '''This function prints 2 statements.'''\n",
    "    print('Python')\n",
    "    print('Language')"
   ]
  },
  {
   "cell_type": "code",
   "execution_count": 11,
   "id": "c92b8f6b",
   "metadata": {
    "ExecuteTime": {
     "end_time": "2023-09-09T06:31:25.749967Z",
     "start_time": "2023-09-09T06:31:25.491523Z"
    }
   },
   "outputs": [
    {
     "ename": "TypeError",
     "evalue": "func() takes 0 positional arguments but 1 was given",
     "output_type": "error",
     "traceback": [
      "\u001b[1;31m---------------------------------------------------------------------------\u001b[0m",
      "\u001b[1;31mTypeError\u001b[0m                                 Traceback (most recent call last)",
      "\u001b[1;32m~\\AppData\\Local\\Temp\\ipykernel_6408\\3753595627.py\u001b[0m in \u001b[0;36m<module>\u001b[1;34m\u001b[0m\n\u001b[1;32m----> 1\u001b[1;33m \u001b[0mfunc\u001b[0m\u001b[1;33m(\u001b[0m\u001b[1;36m10\u001b[0m\u001b[1;33m)\u001b[0m\u001b[1;33m\u001b[0m\u001b[1;33m\u001b[0m\u001b[0m\n\u001b[0m",
      "\u001b[1;31mTypeError\u001b[0m: func() takes 0 positional arguments but 1 was given"
     ]
    }
   ],
   "source": [
    "func(10)"
   ]
  },
  {
   "cell_type": "code",
   "execution_count": 12,
   "id": "beee20b7",
   "metadata": {
    "ExecuteTime": {
     "end_time": "2023-09-09T06:33:15.070988Z",
     "start_time": "2023-09-09T06:33:15.053505Z"
    }
   },
   "outputs": [
    {
     "data": {
      "text/plain": [
       "10"
      ]
     },
     "execution_count": 12,
     "metadata": {},
     "output_type": "execute_result"
    }
   ],
   "source": [
    "max(10,5)"
   ]
  },
  {
   "cell_type": "code",
   "execution_count": 13,
   "id": "fc10f05f",
   "metadata": {
    "ExecuteTime": {
     "end_time": "2023-09-09T06:33:32.091739Z",
     "start_time": "2023-09-09T06:33:32.083209Z"
    }
   },
   "outputs": [],
   "source": [
    "#Write a python function which will return me the maximum number\n",
    "def max_number(num1,num2):\n",
    "    '''This function return maximum between 2 values'''\n",
    "    return max(num1,num2)"
   ]
  },
  {
   "cell_type": "code",
   "execution_count": 16,
   "id": "8a269a9a",
   "metadata": {
    "ExecuteTime": {
     "end_time": "2023-09-09T06:34:47.554803Z",
     "start_time": "2023-09-09T06:34:47.548274Z"
    }
   },
   "outputs": [
    {
     "data": {
      "text/plain": [
       "45"
      ]
     },
     "execution_count": 16,
     "metadata": {},
     "output_type": "execute_result"
    }
   ],
   "source": [
    "max_number(5,45)"
   ]
  },
  {
   "cell_type": "code",
   "execution_count": 22,
   "id": "5004fc8f",
   "metadata": {
    "ExecuteTime": {
     "end_time": "2023-09-09T06:37:02.637278Z",
     "start_time": "2023-09-09T06:37:02.621550Z"
    }
   },
   "outputs": [],
   "source": [
    "def max1(num1,num2):\n",
    "    if num1 > num2:\n",
    "        return num1\n",
    "    else:\n",
    "        return num2"
   ]
  },
  {
   "cell_type": "code",
   "execution_count": 23,
   "id": "9c989cbc",
   "metadata": {
    "ExecuteTime": {
     "end_time": "2023-09-09T06:37:03.862561Z",
     "start_time": "2023-09-09T06:37:03.851670Z"
    }
   },
   "outputs": [
    {
     "data": {
      "text/plain": [
       "10"
      ]
     },
     "execution_count": 23,
     "metadata": {},
     "output_type": "execute_result"
    }
   ],
   "source": [
    "max1(10,5)"
   ]
  },
  {
   "cell_type": "code",
   "execution_count": 24,
   "id": "60b8ad22",
   "metadata": {
    "ExecuteTime": {
     "end_time": "2023-09-09T06:37:04.035622Z",
     "start_time": "2023-09-09T06:37:04.026551Z"
    }
   },
   "outputs": [
    {
     "data": {
      "text/plain": [
       "100"
      ]
     },
     "execution_count": 24,
     "metadata": {},
     "output_type": "execute_result"
    }
   ],
   "source": [
    "max1(10,100)"
   ]
  },
  {
   "cell_type": "code",
   "execution_count": 25,
   "id": "73a22eaf",
   "metadata": {
    "ExecuteTime": {
     "end_time": "2023-09-09T06:39:13.101395Z",
     "start_time": "2023-09-09T06:39:13.084444Z"
    }
   },
   "outputs": [],
   "source": [
    "def even_odd(number):\n",
    "    if number%2==0:\n",
    "        print('The number is even')\n",
    "    else:\n",
    "        print('Odd number')"
   ]
  },
  {
   "cell_type": "code",
   "execution_count": 26,
   "id": "5da41eb1",
   "metadata": {
    "ExecuteTime": {
     "end_time": "2023-09-09T06:39:23.327465Z",
     "start_time": "2023-09-09T06:39:23.322438Z"
    }
   },
   "outputs": [
    {
     "name": "stdout",
     "output_type": "stream",
     "text": [
      "Odd number\n"
     ]
    }
   ],
   "source": [
    "even_odd(5)"
   ]
  },
  {
   "cell_type": "code",
   "execution_count": 27,
   "id": "08ebd804",
   "metadata": {
    "ExecuteTime": {
     "end_time": "2023-09-09T06:39:31.654277Z",
     "start_time": "2023-09-09T06:39:31.634447Z"
    }
   },
   "outputs": [
    {
     "name": "stdout",
     "output_type": "stream",
     "text": [
      "The number is even\n"
     ]
    }
   ],
   "source": [
    "even_odd(22)"
   ]
  },
  {
   "cell_type": "code",
   "execution_count": 28,
   "id": "8b2cbe37",
   "metadata": {
    "ExecuteTime": {
     "end_time": "2023-09-09T06:41:46.609484Z",
     "start_time": "2023-09-09T06:41:46.597875Z"
    }
   },
   "outputs": [],
   "source": [
    "def maxx(*numbers):\n",
    "    return max(numbers)"
   ]
  },
  {
   "cell_type": "code",
   "execution_count": 31,
   "id": "013dc26d",
   "metadata": {
    "ExecuteTime": {
     "end_time": "2023-09-09T06:42:08.924163Z",
     "start_time": "2023-09-09T06:42:08.905864Z"
    }
   },
   "outputs": [
    {
     "data": {
      "text/plain": [
       "64646764"
      ]
     },
     "execution_count": 31,
     "metadata": {},
     "output_type": "execute_result"
    }
   ],
   "source": [
    "maxx(10,5,25,50,55464,64646764,65)"
   ]
  },
  {
   "cell_type": "markdown",
   "id": "603cc120",
   "metadata": {},
   "source": [
    "# Loops\n",
    "\n",
    "1. While Loop \n",
    "2. For loop"
   ]
  },
  {
   "cell_type": "code",
   "execution_count": 61,
   "id": "c26de0a4",
   "metadata": {
    "ExecuteTime": {
     "end_time": "2023-09-09T07:27:40.045422Z",
     "start_time": "2023-09-09T07:27:34.481696Z"
    }
   },
   "outputs": [
    {
     "name": "stdout",
     "output_type": "stream",
     "text": [
      "Enter number of concepts to learn: 30\n",
      "Learning Python\n",
      "Learning Python\n",
      "Learning Python\n",
      "Learning Python\n",
      "Learning Python\n",
      "Learning Python\n",
      "Learning Python\n",
      "Learning Python\n",
      "Learning Python\n",
      "Learning Python\n",
      "Learning Python\n",
      "Learning Python\n",
      "Learning Python\n",
      "Learning Python\n",
      "Learning Python\n",
      "Learning Python\n",
      "Learning Python\n",
      "Learning Python\n",
      "Learning Python\n",
      "Learning Python\n",
      "Learning Python\n",
      "Learning Python\n",
      "Learning Python\n",
      "Learning Python\n",
      "Learning Python\n",
      "Learning Python\n",
      "Learning Python\n",
      "Learning Python\n",
      "Learning Python\n",
      "Learning Python\n",
      "Python Completed\n"
     ]
    }
   ],
   "source": [
    "num = int(input('Enter number of concepts to learn: '))\n",
    "\n",
    "while num > 0:\n",
    "    print('Learning Python')\n",
    "    num = num - 1\n",
    "print('Python Completed')"
   ]
  },
  {
   "cell_type": "code",
   "execution_count": 33,
   "id": "7584581f",
   "metadata": {
    "ExecuteTime": {
     "end_time": "2023-09-09T06:56:25.561892Z",
     "start_time": "2023-09-09T06:56:25.541818Z"
    }
   },
   "outputs": [
    {
     "data": {
      "text/plain": [
       "0"
      ]
     },
     "execution_count": 33,
     "metadata": {},
     "output_type": "execute_result"
    }
   ],
   "source": [
    "python_concepts"
   ]
  },
  {
   "cell_type": "code",
   "execution_count": 38,
   "id": "08d8986f",
   "metadata": {
    "ExecuteTime": {
     "end_time": "2023-09-09T07:02:09.870429Z",
     "start_time": "2023-09-09T07:02:09.847764Z"
    }
   },
   "outputs": [
    {
     "name": "stdout",
     "output_type": "stream",
     "text": [
      "Taking Steps\n",
      "Taking Steps\n",
      "Taking Steps\n",
      "Taking Steps\n",
      "Taking Steps\n",
      "Taking Steps\n",
      "Taking Steps\n",
      "Taking Steps\n",
      "Taking Steps\n",
      "Taking Steps\n",
      "Taking Steps\n",
      "Taking Steps\n",
      "Taking Steps\n",
      "Taking Steps\n",
      "Taking Steps\n",
      "Taking Steps\n",
      "Taking Steps\n",
      "Taking Steps\n",
      "Taking Steps\n",
      "Taking Steps\n",
      "Taking Steps\n",
      "Taking Steps\n",
      "Taking Steps\n",
      "Taking Steps\n",
      "Taking Steps\n",
      "Taking Steps\n",
      "Reached\n"
     ]
    }
   ],
   "source": [
    "steps = 0\n",
    "\n",
    "while steps <=25:\n",
    "    print('Taking Steps')\n",
    "    steps = steps + 1\n",
    "print('Reached')"
   ]
  },
  {
   "cell_type": "code",
   "execution_count": 48,
   "id": "ec0d9c0d",
   "metadata": {
    "ExecuteTime": {
     "end_time": "2023-09-09T07:07:38.708725Z",
     "start_time": "2023-09-09T07:07:38.687595Z"
    }
   },
   "outputs": [
    {
     "data": {
      "text/plain": [
       "range(1, 101)"
      ]
     },
     "execution_count": 48,
     "metadata": {},
     "output_type": "execute_result"
    }
   ],
   "source": [
    "#range function\n",
    "r = range(1,101)\n",
    "r"
   ]
  },
  {
   "cell_type": "code",
   "execution_count": 49,
   "id": "bb2ae0b3",
   "metadata": {
    "ExecuteTime": {
     "end_time": "2023-09-09T07:07:38.985190Z",
     "start_time": "2023-09-09T07:07:38.958562Z"
    }
   },
   "outputs": [
    {
     "data": {
      "text/plain": [
       "[1,\n",
       " 2,\n",
       " 3,\n",
       " 4,\n",
       " 5,\n",
       " 6,\n",
       " 7,\n",
       " 8,\n",
       " 9,\n",
       " 10,\n",
       " 11,\n",
       " 12,\n",
       " 13,\n",
       " 14,\n",
       " 15,\n",
       " 16,\n",
       " 17,\n",
       " 18,\n",
       " 19,\n",
       " 20,\n",
       " 21,\n",
       " 22,\n",
       " 23,\n",
       " 24,\n",
       " 25,\n",
       " 26,\n",
       " 27,\n",
       " 28,\n",
       " 29,\n",
       " 30,\n",
       " 31,\n",
       " 32,\n",
       " 33,\n",
       " 34,\n",
       " 35,\n",
       " 36,\n",
       " 37,\n",
       " 38,\n",
       " 39,\n",
       " 40,\n",
       " 41,\n",
       " 42,\n",
       " 43,\n",
       " 44,\n",
       " 45,\n",
       " 46,\n",
       " 47,\n",
       " 48,\n",
       " 49,\n",
       " 50,\n",
       " 51,\n",
       " 52,\n",
       " 53,\n",
       " 54,\n",
       " 55,\n",
       " 56,\n",
       " 57,\n",
       " 58,\n",
       " 59,\n",
       " 60,\n",
       " 61,\n",
       " 62,\n",
       " 63,\n",
       " 64,\n",
       " 65,\n",
       " 66,\n",
       " 67,\n",
       " 68,\n",
       " 69,\n",
       " 70,\n",
       " 71,\n",
       " 72,\n",
       " 73,\n",
       " 74,\n",
       " 75,\n",
       " 76,\n",
       " 77,\n",
       " 78,\n",
       " 79,\n",
       " 80,\n",
       " 81,\n",
       " 82,\n",
       " 83,\n",
       " 84,\n",
       " 85,\n",
       " 86,\n",
       " 87,\n",
       " 88,\n",
       " 89,\n",
       " 90,\n",
       " 91,\n",
       " 92,\n",
       " 93,\n",
       " 94,\n",
       " 95,\n",
       " 96,\n",
       " 97,\n",
       " 98,\n",
       " 99,\n",
       " 100]"
      ]
     },
     "execution_count": 49,
     "metadata": {},
     "output_type": "execute_result"
    }
   ],
   "source": [
    "list(r)"
   ]
  },
  {
   "cell_type": "code",
   "execution_count": 5,
   "id": "d4d45a83",
   "metadata": {
    "ExecuteTime": {
     "end_time": "2023-09-01T13:13:34.194127Z",
     "start_time": "2023-09-01T13:13:34.183845Z"
    }
   },
   "outputs": [],
   "source": [
    "#For loop"
   ]
  },
  {
   "cell_type": "code",
   "execution_count": 51,
   "id": "ac96a16e",
   "metadata": {
    "ExecuteTime": {
     "end_time": "2023-09-09T07:11:28.543409Z",
     "start_time": "2023-09-09T07:11:28.529503Z"
    }
   },
   "outputs": [
    {
     "name": "stdout",
     "output_type": "stream",
     "text": [
      "1\n",
      "4\n",
      "9\n",
      "16\n",
      "25\n",
      "36\n",
      "49\n",
      "64\n",
      "81\n",
      "100\n",
      "121\n",
      "144\n",
      "169\n",
      "196\n",
      "225\n",
      "256\n",
      "289\n",
      "324\n",
      "361\n",
      "400\n",
      "441\n",
      "484\n",
      "529\n",
      "576\n",
      "625\n",
      "676\n",
      "729\n",
      "784\n",
      "841\n",
      "900\n",
      "961\n",
      "1024\n",
      "1089\n",
      "1156\n",
      "1225\n",
      "1296\n",
      "1369\n",
      "1444\n",
      "1521\n",
      "1600\n",
      "1681\n",
      "1764\n",
      "1849\n",
      "1936\n",
      "2025\n",
      "2116\n",
      "2209\n",
      "2304\n",
      "2401\n"
     ]
    }
   ],
   "source": [
    "for i in range(1,50):\n",
    "    print(i**2)\n",
    "    "
   ]
  },
  {
   "cell_type": "code",
   "execution_count": 52,
   "id": "ad8754db",
   "metadata": {
    "ExecuteTime": {
     "end_time": "2023-09-09T07:13:07.392620Z",
     "start_time": "2023-09-09T07:13:07.373557Z"
    }
   },
   "outputs": [
    {
     "name": "stdout",
     "output_type": "stream",
     "text": [
      "6\n",
      "7\n",
      "8\n",
      "9\n",
      "10\n",
      "11\n",
      "12\n",
      "13\n",
      "14\n"
     ]
    }
   ],
   "source": [
    "for i in range(1,10):\n",
    "    print(i+5)"
   ]
  },
  {
   "cell_type": "code",
   "execution_count": 55,
   "id": "e55b50f3",
   "metadata": {
    "ExecuteTime": {
     "end_time": "2023-09-09T07:19:10.973625Z",
     "start_time": "2023-09-09T07:19:10.962331Z"
    }
   },
   "outputs": [
    {
     "name": "stdout",
     "output_type": "stream",
     "text": [
      "www.amazon.com\n",
      "www.flipkart.com\n",
      "www.excelr.com\n"
     ]
    }
   ],
   "source": [
    "#Company list\n",
    "company = ['amazon','flipkart','excelr']\n",
    "\n",
    "for i in company:\n",
    "    print('www.'+i+'.com')"
   ]
  },
  {
   "cell_type": "code",
   "execution_count": 57,
   "id": "88d750ca",
   "metadata": {
    "ExecuteTime": {
     "end_time": "2023-09-09T07:24:33.852417Z",
     "start_time": "2023-09-09T07:24:33.836456Z"
    }
   },
   "outputs": [],
   "source": [
    "even = []\n",
    "odd = []\n",
    "\n",
    "for i in range(1,51):\n",
    "    if i%2==0:\n",
    "        even.append(i)\n",
    "    else:\n",
    "        odd.append(i)"
   ]
  },
  {
   "cell_type": "code",
   "execution_count": 58,
   "id": "10f8101d",
   "metadata": {
    "ExecuteTime": {
     "end_time": "2023-09-09T07:24:47.424334Z",
     "start_time": "2023-09-09T07:24:47.401916Z"
    }
   },
   "outputs": [
    {
     "data": {
      "text/plain": [
       "[2,\n",
       " 4,\n",
       " 6,\n",
       " 8,\n",
       " 10,\n",
       " 12,\n",
       " 14,\n",
       " 16,\n",
       " 18,\n",
       " 20,\n",
       " 22,\n",
       " 24,\n",
       " 26,\n",
       " 28,\n",
       " 30,\n",
       " 32,\n",
       " 34,\n",
       " 36,\n",
       " 38,\n",
       " 40,\n",
       " 42,\n",
       " 44,\n",
       " 46,\n",
       " 48,\n",
       " 50]"
      ]
     },
     "execution_count": 58,
     "metadata": {},
     "output_type": "execute_result"
    }
   ],
   "source": [
    "even"
   ]
  },
  {
   "cell_type": "code",
   "execution_count": 59,
   "id": "38fc5a87",
   "metadata": {
    "ExecuteTime": {
     "end_time": "2023-09-09T07:24:56.708691Z",
     "start_time": "2023-09-09T07:24:56.692421Z"
    }
   },
   "outputs": [
    {
     "data": {
      "text/plain": [
       "[1,\n",
       " 3,\n",
       " 5,\n",
       " 7,\n",
       " 9,\n",
       " 11,\n",
       " 13,\n",
       " 15,\n",
       " 17,\n",
       " 19,\n",
       " 21,\n",
       " 23,\n",
       " 25,\n",
       " 27,\n",
       " 29,\n",
       " 31,\n",
       " 33,\n",
       " 35,\n",
       " 37,\n",
       " 39,\n",
       " 41,\n",
       " 43,\n",
       " 45,\n",
       " 47,\n",
       " 49]"
      ]
     },
     "execution_count": 59,
     "metadata": {},
     "output_type": "execute_result"
    }
   ],
   "source": [
    "odd"
   ]
  },
  {
   "cell_type": "markdown",
   "id": "4f712923",
   "metadata": {},
   "source": [
    "# In-Class Activity:\n",
    "\n",
    "1. Write a program to store all names which starts with 'A' in a list.\n",
    "2. Take a list of numbers and add 5 to each number.\n",
    "3. Create a list of marks and print only marks > 75."
   ]
  },
  {
   "cell_type": "code",
   "execution_count": null,
   "id": "8bffc7eb",
   "metadata": {},
   "outputs": [],
   "source": []
  }
 ],
 "metadata": {
  "kernelspec": {
   "display_name": "Python 3 (ipykernel)",
   "language": "python",
   "name": "python3"
  },
  "language_info": {
   "codemirror_mode": {
    "name": "ipython",
    "version": 3
   },
   "file_extension": ".py",
   "mimetype": "text/x-python",
   "name": "python",
   "nbconvert_exporter": "python",
   "pygments_lexer": "ipython3",
   "version": "3.9.13"
  }
 },
 "nbformat": 4,
 "nbformat_minor": 5
}
