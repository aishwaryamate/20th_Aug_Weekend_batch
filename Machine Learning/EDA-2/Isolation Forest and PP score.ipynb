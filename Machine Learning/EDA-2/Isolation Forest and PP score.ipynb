{
 "cells": [
  {
   "cell_type": "code",
   "execution_count": 1,
   "id": "065b43f9",
   "metadata": {
    "ExecuteTime": {
     "end_time": "2023-11-04T04:24:51.258171Z",
     "start_time": "2023-11-04T04:24:44.853249Z"
    }
   },
   "outputs": [],
   "source": [
    "#Import Libraries\n",
    "import pandas as pd\n",
    "import matplotlib.pyplot as plt\n",
    "import seaborn as sns\n",
    "import warnings\n",
    "warnings.filterwarnings('ignore')\n",
    "from sklearn.ensemble import IsolationForest\n",
    "%matplotlib inline"
   ]
  },
  {
   "cell_type": "code",
   "execution_count": 2,
   "id": "c4b0f281",
   "metadata": {
    "ExecuteTime": {
     "end_time": "2023-11-04T04:25:05.004579Z",
     "start_time": "2023-11-04T04:25:04.984107Z"
    }
   },
   "outputs": [],
   "source": [
    "#Dummy dataset\n",
    "df = pd.DataFrame({\n",
    "    'Marks' : [85,89,87,88,800],\n",
    "    'Time' : [1,1.2,1.5,2,20]\n",
    "})"
   ]
  },
  {
   "cell_type": "code",
   "execution_count": 3,
   "id": "05dcd88b",
   "metadata": {
    "ExecuteTime": {
     "end_time": "2023-11-04T04:25:05.191673Z",
     "start_time": "2023-11-04T04:25:05.145940Z"
    }
   },
   "outputs": [
    {
     "data": {
      "text/html": [
       "<div>\n",
       "<style scoped>\n",
       "    .dataframe tbody tr th:only-of-type {\n",
       "        vertical-align: middle;\n",
       "    }\n",
       "\n",
       "    .dataframe tbody tr th {\n",
       "        vertical-align: top;\n",
       "    }\n",
       "\n",
       "    .dataframe thead th {\n",
       "        text-align: right;\n",
       "    }\n",
       "</style>\n",
       "<table border=\"1\" class=\"dataframe\">\n",
       "  <thead>\n",
       "    <tr style=\"text-align: right;\">\n",
       "      <th></th>\n",
       "      <th>Marks</th>\n",
       "      <th>Time</th>\n",
       "    </tr>\n",
       "  </thead>\n",
       "  <tbody>\n",
       "    <tr>\n",
       "      <th>0</th>\n",
       "      <td>85</td>\n",
       "      <td>1.0</td>\n",
       "    </tr>\n",
       "    <tr>\n",
       "      <th>1</th>\n",
       "      <td>89</td>\n",
       "      <td>1.2</td>\n",
       "    </tr>\n",
       "    <tr>\n",
       "      <th>2</th>\n",
       "      <td>87</td>\n",
       "      <td>1.5</td>\n",
       "    </tr>\n",
       "    <tr>\n",
       "      <th>3</th>\n",
       "      <td>88</td>\n",
       "      <td>2.0</td>\n",
       "    </tr>\n",
       "    <tr>\n",
       "      <th>4</th>\n",
       "      <td>800</td>\n",
       "      <td>20.0</td>\n",
       "    </tr>\n",
       "  </tbody>\n",
       "</table>\n",
       "</div>"
      ],
      "text/plain": [
       "   Marks  Time\n",
       "0     85   1.0\n",
       "1     89   1.2\n",
       "2     87   1.5\n",
       "3     88   2.0\n",
       "4    800  20.0"
      ]
     },
     "execution_count": 3,
     "metadata": {},
     "output_type": "execute_result"
    }
   ],
   "source": [
    "df"
   ]
  },
  {
   "cell_type": "code",
   "execution_count": 4,
   "id": "b4a4510f",
   "metadata": {
    "ExecuteTime": {
     "end_time": "2023-11-04T04:26:45.806953Z",
     "start_time": "2023-11-04T04:26:45.400852Z"
    }
   },
   "outputs": [
    {
     "data": {
      "text/plain": [
       "IsolationForest()"
      ]
     },
     "execution_count": 4,
     "metadata": {},
     "output_type": "execute_result"
    }
   ],
   "source": [
    "iso = IsolationForest()\n",
    "\n",
    "iso.fit(df)"
   ]
  },
  {
   "cell_type": "code",
   "execution_count": 5,
   "id": "817a9859",
   "metadata": {
    "ExecuteTime": {
     "end_time": "2023-11-04T04:27:11.636660Z",
     "start_time": "2023-11-04T04:27:11.412586Z"
    }
   },
   "outputs": [
    {
     "data": {
      "text/plain": [
       "array([ 1,  1,  1,  1, -1])"
      ]
     },
     "execution_count": 5,
     "metadata": {},
     "output_type": "execute_result"
    }
   ],
   "source": [
    "outlier = iso.predict(df)\n",
    "\n",
    "outlier"
   ]
  },
  {
   "cell_type": "code",
   "execution_count": 6,
   "id": "c0ad6a22",
   "metadata": {
    "ExecuteTime": {
     "end_time": "2023-11-04T04:28:00.491569Z",
     "start_time": "2023-11-04T04:28:00.481315Z"
    }
   },
   "outputs": [],
   "source": [
    "df['Outliers'] = outlier"
   ]
  },
  {
   "cell_type": "code",
   "execution_count": 7,
   "id": "6d22ca0c",
   "metadata": {
    "ExecuteTime": {
     "end_time": "2023-11-04T04:28:00.663479Z",
     "start_time": "2023-11-04T04:28:00.635047Z"
    }
   },
   "outputs": [
    {
     "data": {
      "text/html": [
       "<div>\n",
       "<style scoped>\n",
       "    .dataframe tbody tr th:only-of-type {\n",
       "        vertical-align: middle;\n",
       "    }\n",
       "\n",
       "    .dataframe tbody tr th {\n",
       "        vertical-align: top;\n",
       "    }\n",
       "\n",
       "    .dataframe thead th {\n",
       "        text-align: right;\n",
       "    }\n",
       "</style>\n",
       "<table border=\"1\" class=\"dataframe\">\n",
       "  <thead>\n",
       "    <tr style=\"text-align: right;\">\n",
       "      <th></th>\n",
       "      <th>Marks</th>\n",
       "      <th>Time</th>\n",
       "      <th>Outliers</th>\n",
       "    </tr>\n",
       "  </thead>\n",
       "  <tbody>\n",
       "    <tr>\n",
       "      <th>0</th>\n",
       "      <td>85</td>\n",
       "      <td>1.0</td>\n",
       "      <td>1</td>\n",
       "    </tr>\n",
       "    <tr>\n",
       "      <th>1</th>\n",
       "      <td>89</td>\n",
       "      <td>1.2</td>\n",
       "      <td>1</td>\n",
       "    </tr>\n",
       "    <tr>\n",
       "      <th>2</th>\n",
       "      <td>87</td>\n",
       "      <td>1.5</td>\n",
       "      <td>1</td>\n",
       "    </tr>\n",
       "    <tr>\n",
       "      <th>3</th>\n",
       "      <td>88</td>\n",
       "      <td>2.0</td>\n",
       "      <td>1</td>\n",
       "    </tr>\n",
       "    <tr>\n",
       "      <th>4</th>\n",
       "      <td>800</td>\n",
       "      <td>20.0</td>\n",
       "      <td>-1</td>\n",
       "    </tr>\n",
       "  </tbody>\n",
       "</table>\n",
       "</div>"
      ],
      "text/plain": [
       "   Marks  Time  Outliers\n",
       "0     85   1.0         1\n",
       "1     89   1.2         1\n",
       "2     87   1.5         1\n",
       "3     88   2.0         1\n",
       "4    800  20.0        -1"
      ]
     },
     "execution_count": 7,
     "metadata": {},
     "output_type": "execute_result"
    }
   ],
   "source": [
    "df"
   ]
  },
  {
   "cell_type": "code",
   "execution_count": null,
   "id": "9f7072eb",
   "metadata": {
    "ExecuteTime": {
     "end_time": "2023-10-28T13:45:19.861160Z",
     "start_time": "2023-10-28T13:45:19.847470Z"
    }
   },
   "outputs": [],
   "source": [
    "#Read Isolation dataset"
   ]
  },
  {
   "cell_type": "code",
   "execution_count": 8,
   "id": "dac3aeb9",
   "metadata": {
    "ExecuteTime": {
     "end_time": "2023-11-04T04:28:42.765532Z",
     "start_time": "2023-11-04T04:28:42.201879Z"
    }
   },
   "outputs": [
    {
     "data": {
      "text/html": [
       "<div>\n",
       "<style scoped>\n",
       "    .dataframe tbody tr th:only-of-type {\n",
       "        vertical-align: middle;\n",
       "    }\n",
       "\n",
       "    .dataframe tbody tr th {\n",
       "        vertical-align: top;\n",
       "    }\n",
       "\n",
       "    .dataframe thead th {\n",
       "        text-align: right;\n",
       "    }\n",
       "</style>\n",
       "<table border=\"1\" class=\"dataframe\">\n",
       "  <thead>\n",
       "    <tr style=\"text-align: right;\">\n",
       "      <th></th>\n",
       "      <th>Frozen</th>\n",
       "      <th>Delicassen</th>\n",
       "    </tr>\n",
       "  </thead>\n",
       "  <tbody>\n",
       "    <tr>\n",
       "      <th>0</th>\n",
       "      <td>214</td>\n",
       "      <td>1338</td>\n",
       "    </tr>\n",
       "    <tr>\n",
       "      <th>1</th>\n",
       "      <td>1762</td>\n",
       "      <td>1776</td>\n",
       "    </tr>\n",
       "    <tr>\n",
       "      <th>2</th>\n",
       "      <td>2405</td>\n",
       "      <td>7844</td>\n",
       "    </tr>\n",
       "    <tr>\n",
       "      <th>3</th>\n",
       "      <td>6404</td>\n",
       "      <td>1788</td>\n",
       "    </tr>\n",
       "    <tr>\n",
       "      <th>4</th>\n",
       "      <td>3915</td>\n",
       "      <td>5185</td>\n",
       "    </tr>\n",
       "    <tr>\n",
       "      <th>...</th>\n",
       "      <td>...</td>\n",
       "      <td>...</td>\n",
       "    </tr>\n",
       "    <tr>\n",
       "      <th>435</th>\n",
       "      <td>13135</td>\n",
       "      <td>2204</td>\n",
       "    </tr>\n",
       "    <tr>\n",
       "      <th>436</th>\n",
       "      <td>4510</td>\n",
       "      <td>2346</td>\n",
       "    </tr>\n",
       "    <tr>\n",
       "      <th>437</th>\n",
       "      <td>437</td>\n",
       "      <td>1867</td>\n",
       "    </tr>\n",
       "    <tr>\n",
       "      <th>438</th>\n",
       "      <td>1038</td>\n",
       "      <td>2125</td>\n",
       "    </tr>\n",
       "    <tr>\n",
       "      <th>439</th>\n",
       "      <td>65</td>\n",
       "      <td>52</td>\n",
       "    </tr>\n",
       "  </tbody>\n",
       "</table>\n",
       "<p>440 rows × 2 columns</p>\n",
       "</div>"
      ],
      "text/plain": [
       "     Frozen  Delicassen\n",
       "0       214        1338\n",
       "1      1762        1776\n",
       "2      2405        7844\n",
       "3      6404        1788\n",
       "4      3915        5185\n",
       "..      ...         ...\n",
       "435   13135        2204\n",
       "436    4510        2346\n",
       "437     437        1867\n",
       "438    1038        2125\n",
       "439      65          52\n",
       "\n",
       "[440 rows x 2 columns]"
      ]
     },
     "execution_count": 8,
     "metadata": {},
     "output_type": "execute_result"
    }
   ],
   "source": [
    "df = pd.read_csv('https://raw.githubusercontent.com/aishwaryamate/Datasets/main/Isolation_data.csv')\n",
    "df"
   ]
  },
  {
   "cell_type": "code",
   "execution_count": 9,
   "id": "d3fb7242",
   "metadata": {
    "ExecuteTime": {
     "end_time": "2023-11-04T04:29:19.299314Z",
     "start_time": "2023-11-04T04:29:19.244948Z"
    }
   },
   "outputs": [
    {
     "data": {
      "text/html": [
       "<div>\n",
       "<style scoped>\n",
       "    .dataframe tbody tr th:only-of-type {\n",
       "        vertical-align: middle;\n",
       "    }\n",
       "\n",
       "    .dataframe tbody tr th {\n",
       "        vertical-align: top;\n",
       "    }\n",
       "\n",
       "    .dataframe thead th {\n",
       "        text-align: right;\n",
       "    }\n",
       "</style>\n",
       "<table border=\"1\" class=\"dataframe\">\n",
       "  <thead>\n",
       "    <tr style=\"text-align: right;\">\n",
       "      <th></th>\n",
       "      <th>Frozen</th>\n",
       "      <th>Delicassen</th>\n",
       "    </tr>\n",
       "  </thead>\n",
       "  <tbody>\n",
       "    <tr>\n",
       "      <th>count</th>\n",
       "      <td>440.000000</td>\n",
       "      <td>440.000000</td>\n",
       "    </tr>\n",
       "    <tr>\n",
       "      <th>mean</th>\n",
       "      <td>3071.931818</td>\n",
       "      <td>1524.870455</td>\n",
       "    </tr>\n",
       "    <tr>\n",
       "      <th>std</th>\n",
       "      <td>4854.673333</td>\n",
       "      <td>2820.105937</td>\n",
       "    </tr>\n",
       "    <tr>\n",
       "      <th>min</th>\n",
       "      <td>25.000000</td>\n",
       "      <td>3.000000</td>\n",
       "    </tr>\n",
       "    <tr>\n",
       "      <th>25%</th>\n",
       "      <td>742.250000</td>\n",
       "      <td>408.250000</td>\n",
       "    </tr>\n",
       "    <tr>\n",
       "      <th>50%</th>\n",
       "      <td>1526.000000</td>\n",
       "      <td>965.500000</td>\n",
       "    </tr>\n",
       "    <tr>\n",
       "      <th>75%</th>\n",
       "      <td>3554.250000</td>\n",
       "      <td>1820.250000</td>\n",
       "    </tr>\n",
       "    <tr>\n",
       "      <th>max</th>\n",
       "      <td>60869.000000</td>\n",
       "      <td>47943.000000</td>\n",
       "    </tr>\n",
       "  </tbody>\n",
       "</table>\n",
       "</div>"
      ],
      "text/plain": [
       "             Frozen    Delicassen\n",
       "count    440.000000    440.000000\n",
       "mean    3071.931818   1524.870455\n",
       "std     4854.673333   2820.105937\n",
       "min       25.000000      3.000000\n",
       "25%      742.250000    408.250000\n",
       "50%     1526.000000    965.500000\n",
       "75%     3554.250000   1820.250000\n",
       "max    60869.000000  47943.000000"
      ]
     },
     "execution_count": 9,
     "metadata": {},
     "output_type": "execute_result"
    }
   ],
   "source": [
    "df.describe()"
   ]
  },
  {
   "cell_type": "code",
   "execution_count": 10,
   "id": "766b7fa3",
   "metadata": {
    "ExecuteTime": {
     "end_time": "2023-11-04T04:30:00.517976Z",
     "start_time": "2023-11-04T04:29:59.942613Z"
    }
   },
   "outputs": [
    {
     "data": {
      "text/plain": [
       "<AxesSubplot:xlabel='Frozen', ylabel='Delicassen'>"
      ]
     },
     "execution_count": 10,
     "metadata": {},
     "output_type": "execute_result"
    },
    {
     "data": {
      "image/png": "[encoded data removed]",
      "text/plain": [
       "<Figure size 640x480 with 1 Axes>"
      ]
     },
     "metadata": {},
     "output_type": "display_data"
    }
   ],
   "source": [
    "sns.scatterplot(df['Frozen'], df['Delicassen'])"
   ]
  },
  {
   "cell_type": "code",
   "execution_count": 11,
   "id": "6f6d5ae1",
   "metadata": {
    "ExecuteTime": {
     "end_time": "2023-11-04T04:30:21.909479Z",
     "start_time": "2023-11-04T04:30:21.517618Z"
    }
   },
   "outputs": [
    {
     "data": {
      "text/plain": [
       "<AxesSubplot:>"
      ]
     },
     "execution_count": 11,
     "metadata": {},
     "output_type": "execute_result"
    },
    {
     "data": {
      "image/png": "[encoded data removed]",
      "text/plain": [
       "<Figure size 640x480 with 1 Axes>"
      ]
     },
     "metadata": {},
     "output_type": "display_data"
    }
   ],
   "source": [
    "df.boxplot()"
   ]
  },
  {
   "cell_type": "code",
   "execution_count": 12,
   "id": "124dd020",
   "metadata": {
    "ExecuteTime": {
     "end_time": "2023-11-04T04:30:54.017627Z",
     "start_time": "2023-11-04T04:30:53.551598Z"
    },
    "collapsed": true
   },
   "outputs": [
    {
     "data": {
      "text/plain": [
       "array([ 1,  1, -1,  1, -1,  1,  1,  1,  1,  1,  1,  1,  1,  1,  1,  1,  1,\n",
       "       -1,  1,  1,  1,  1, -1, -1, -1,  1,  1,  1, -1,  1,  1,  1,  1,  1,\n",
       "        1,  1, -1,  1,  1, -1, -1,  1,  1,  1,  1, -1,  1, -1,  1,  1,  1,\n",
       "        1,  1,  1,  1,  1,  1,  1,  1,  1,  1,  1,  1,  1,  1,  1,  1,  1,\n",
       "        1,  1, -1, -1, -1,  1,  1,  1,  1,  1,  1,  1,  1,  1,  1,  1,  1,\n",
       "        1,  1, -1, -1,  1,  1,  1, -1, -1,  1,  1,  1,  1,  1,  1,  1,  1,\n",
       "        1, -1,  1,  1,  1,  1,  1,  1,  1,  1,  1,  1,  1,  1,  1,  1,  1,\n",
       "        1,  1,  1,  1,  1,  1, -1,  1,  1,  1,  1,  1,  1,  1,  1,  1,  1,\n",
       "        1,  1,  1,  1,  1,  1,  1,  1,  1, -1,  1,  1,  1,  1,  1,  1,  1,\n",
       "        1,  1,  1,  1,  1,  1,  1,  1,  1,  1,  1,  1,  1,  1,  1,  1,  1,\n",
       "        1, -1,  1,  1,  1,  1,  1,  1,  1,  1,  1, -1,  1, -1,  1,  1,  1,\n",
       "       -1,  1,  1, -1,  1,  1,  1,  1,  1, -1,  1,  1,  1,  1,  1, -1,  1,\n",
       "        1,  1,  1,  1,  1,  1,  1,  1,  1,  1,  1,  1,  1,  1, -1,  1,  1,\n",
       "        1,  1,  1,  1,  1,  1,  1,  1,  1,  1,  1,  1,  1,  1,  1,  1,  1,\n",
       "        1,  1, -1,  1,  1,  1,  1,  1,  1,  1,  1,  1,  1, -1,  1,  1,  1,\n",
       "        1,  1,  1,  1,  1,  1,  1,  1,  1,  1, -1,  1,  1,  1,  1,  1,  1,\n",
       "        1,  1,  1,  1,  1, -1,  1,  1,  1,  1,  1, -1,  1,  1,  1,  1,  1,\n",
       "        1,  1,  1,  1,  1,  1,  1,  1,  1,  1,  1,  1,  1,  1,  1,  1,  1,\n",
       "        1,  1,  1,  1, -1,  1,  1,  1,  1,  1,  1,  1,  1,  1,  1,  1,  1,\n",
       "        1,  1, -1,  1,  1,  1,  1,  1,  1,  1,  1, -1,  1,  1,  1, -1,  1,\n",
       "        1,  1,  1,  1,  1,  1,  1,  1,  1,  1,  1,  1,  1,  1,  1,  1,  1,\n",
       "        1, -1,  1,  1,  1,  1,  1,  1,  1,  1,  1,  1,  1,  1,  1, -1,  1,\n",
       "        1,  1,  1,  1,  1,  1,  1, -1,  1,  1, -1,  1,  1,  1,  1,  1,  1,\n",
       "        1,  1,  1,  1,  1,  1,  1,  1,  1,  1, -1,  1,  1,  1,  1, -1,  1,\n",
       "        1, -1,  1,  1,  1, -1,  1,  1,  1,  1,  1,  1,  1,  1,  1,  1,  1,\n",
       "       -1,  1, -1,  1,  1,  1, -1,  1,  1,  1, -1,  1,  1,  1,  1])"
      ]
     },
     "execution_count": 12,
     "metadata": {},
     "output_type": "execute_result"
    }
   ],
   "source": [
    "iso = IsolationForest()\n",
    "\n",
    "iso.fit(df)\n",
    "ypred = iso.predict(df)\n",
    "ypred"
   ]
  },
  {
   "cell_type": "code",
   "execution_count": 13,
   "id": "447ccd5e",
   "metadata": {
    "ExecuteTime": {
     "end_time": "2023-11-04T04:31:54.227300Z",
     "start_time": "2023-11-04T04:31:54.195261Z"
    }
   },
   "outputs": [
    {
     "data": {
      "text/html": [
       "<div>\n",
       "<style scoped>\n",
       "    .dataframe tbody tr th:only-of-type {\n",
       "        vertical-align: middle;\n",
       "    }\n",
       "\n",
       "    .dataframe tbody tr th {\n",
       "        vertical-align: top;\n",
       "    }\n",
       "\n",
       "    .dataframe thead th {\n",
       "        text-align: right;\n",
       "    }\n",
       "</style>\n",
       "<table border=\"1\" class=\"dataframe\">\n",
       "  <thead>\n",
       "    <tr style=\"text-align: right;\">\n",
       "      <th></th>\n",
       "      <th>Frozen</th>\n",
       "      <th>Delicassen</th>\n",
       "      <th>Outliers</th>\n",
       "    </tr>\n",
       "  </thead>\n",
       "  <tbody>\n",
       "    <tr>\n",
       "      <th>0</th>\n",
       "      <td>214</td>\n",
       "      <td>1338</td>\n",
       "      <td>1</td>\n",
       "    </tr>\n",
       "    <tr>\n",
       "      <th>1</th>\n",
       "      <td>1762</td>\n",
       "      <td>1776</td>\n",
       "      <td>1</td>\n",
       "    </tr>\n",
       "    <tr>\n",
       "      <th>2</th>\n",
       "      <td>2405</td>\n",
       "      <td>7844</td>\n",
       "      <td>-1</td>\n",
       "    </tr>\n",
       "    <tr>\n",
       "      <th>3</th>\n",
       "      <td>6404</td>\n",
       "      <td>1788</td>\n",
       "      <td>1</td>\n",
       "    </tr>\n",
       "    <tr>\n",
       "      <th>4</th>\n",
       "      <td>3915</td>\n",
       "      <td>5185</td>\n",
       "      <td>-1</td>\n",
       "    </tr>\n",
       "    <tr>\n",
       "      <th>...</th>\n",
       "      <td>...</td>\n",
       "      <td>...</td>\n",
       "      <td>...</td>\n",
       "    </tr>\n",
       "    <tr>\n",
       "      <th>435</th>\n",
       "      <td>13135</td>\n",
       "      <td>2204</td>\n",
       "      <td>-1</td>\n",
       "    </tr>\n",
       "    <tr>\n",
       "      <th>436</th>\n",
       "      <td>4510</td>\n",
       "      <td>2346</td>\n",
       "      <td>1</td>\n",
       "    </tr>\n",
       "    <tr>\n",
       "      <th>437</th>\n",
       "      <td>437</td>\n",
       "      <td>1867</td>\n",
       "      <td>1</td>\n",
       "    </tr>\n",
       "    <tr>\n",
       "      <th>438</th>\n",
       "      <td>1038</td>\n",
       "      <td>2125</td>\n",
       "      <td>1</td>\n",
       "    </tr>\n",
       "    <tr>\n",
       "      <th>439</th>\n",
       "      <td>65</td>\n",
       "      <td>52</td>\n",
       "      <td>1</td>\n",
       "    </tr>\n",
       "  </tbody>\n",
       "</table>\n",
       "<p>440 rows × 3 columns</p>\n",
       "</div>"
      ],
      "text/plain": [
       "     Frozen  Delicassen  Outliers\n",
       "0       214        1338         1\n",
       "1      1762        1776         1\n",
       "2      2405        7844        -1\n",
       "3      6404        1788         1\n",
       "4      3915        5185        -1\n",
       "..      ...         ...       ...\n",
       "435   13135        2204        -1\n",
       "436    4510        2346         1\n",
       "437     437        1867         1\n",
       "438    1038        2125         1\n",
       "439      65          52         1\n",
       "\n",
       "[440 rows x 3 columns]"
      ]
     },
     "execution_count": 13,
     "metadata": {},
     "output_type": "execute_result"
    }
   ],
   "source": [
    "df['Outliers'] = ypred\n",
    "\n",
    "df"
   ]
  },
  {
   "cell_type": "code",
   "execution_count": 14,
   "id": "2a6787a7",
   "metadata": {
    "ExecuteTime": {
     "end_time": "2023-11-04T04:34:30.521783Z",
     "start_time": "2023-11-04T04:34:28.158915Z"
    }
   },
   "outputs": [],
   "source": [
    "import plotly.express as pe"
   ]
  },
  {
   "cell_type": "code",
   "execution_count": 18,
   "id": "d16d317e",
   "metadata": {
    "ExecuteTime": {
     "end_time": "2023-11-04T04:39:17.218831Z",
     "start_time": "2023-11-04T04:39:17.049734Z"
    }
   },
   "outputs": [
    {
     "data": {
      "application/vnd.plotly.v1+json": {
       "config": {
        "plotlyServerURL": "https://plot.ly"
       },
       "data": [
        {
         "alignmentgroup": "True",
         "hovertemplate": "value=%{x}<br>variable=%{y}<extra></extra>",
         "legendgroup": "",
         "marker": {
          "color": "#636efa"
         },
         "name": "",
         "notched": false,
         "offsetgroup": "",
         "orientation": "h",
         "showlegend": false,
         "type": "box",
         "x": [
          214,
          1762,
          2405,
          6404,
          3915,
          666,
          480,
          1669,
          425,
          1159,
          4400,
          1420,
          287,
          3095,
          294,
          397,
          134,
          839,
          2205,
          669,
          1066,
          3383,
          9408,
          5154,
          2915,
          201,
          3151,
          485,
          1158,
          1200,
          1148,
          2088,
          266,
          6130,
          425,
          833,
          1729,
          1920,
          33,
          10002,
          9510,
          2033,
          188,
          787,
          541,
          1740,
          1668,
          7782,
          584,
          1798,
          3860,
          239,
          532,
          744,
          2436,
          1057,
          2616,
          38,
          596,
          129,
          96,
          3254,
          4154,
          2896,
          3724,
          36,
          175,
          1256,
          5870,
          779,
          10643,
          5373,
          8872,
          8132,
          1285,
          4407,
          7530,
          869,
          2096,
          868,
          430,
          283,
          737,
          2320,
          1178,
          1026,
          987,
          6312,
          9735,
          3443,
          3347,
          8693,
          3232,
          35009,
          206,
          440,
          145,
          774,
          895,
          5639,
          3252,
          1593,
          2561,
          18028,
          1336,
          910,
          133,
          2471,
          247,
          673,
          2276,
          805,
          8853,
          3220,
          2555,
          2715,
          1517,
          1647,
          5343,
          3896,
          2417,
          2395,
          1991,
          2194,
          4787,
          16538,
          8195,
          880,
          142,
          1718,
          6316,
          346,
          576,
          436,
          720,
          1170,
          4575,
          661,
          155,
          825,
          2279,
          321,
          2995,
          8425,
          118,
          42,
          926,
          1286,
          4052,
          800,
          853,
          531,
          3001,
          779,
          75,
          233,
          317,
          3378,
          930,
          398,
          824,
          1092,
          2665,
          2367,
          2540,
          4425,
          993,
          405,
          1393,
          2399,
          1116,
          651,
          333,
          937,
          2515,
          52,
          7368,
          1752,
          1152,
          4477,
          402,
          16745,
          443,
          36534,
          74,
          2181,
          3470,
          6269,
          2758,
          275,
          7332,
          890,
          547,
          959,
          806,
          7888,
          18711,
          1127,
          3527,
          520,
          3941,
          3549,
          5065,
          469,
          1383,
          955,
          878,
          2946,
          1859,
          864,
          1801,
          4736,
          1291,
          1329,
          913,
          1374,
          179,
          2532,
          1285,
          2306,
          1765,
          91,
          7496,
          5612,
          784,
          660,
          1759,
          2286,
          950,
          6845,
          8321,
          1439,
          638,
          937,
          4260,
          1218,
          2312,
          4634,
          1112,
          5243,
          11422,
          2216,
          3752,
          561,
          1183,
          230,
          1777,
          2077,
          559,
          6340,
          1730,
          6746,
          7683,
          432,
          4686,
          3242,
          453,
          5004,
          6422,
          3012,
          327,
          6818,
          982,
          4324,
          61,
          10155,
          2221,
          3975,
          1069,
          2516,
          5500,
          1120,
          529,
          4802,
          744,
          862,
          4479,
          16919,
          5845,
          1293,
          977,
          1093,
          5970,
          10303,
          8692,
          1042,
          1619,
          8366,
          848,
          1388,
          502,
          2507,
          3838,
          902,
          909,
          417,
          3045,
          1455,
          934,
          264,
          824,
          1809,
          364,
          492,
          617,
          799,
          1840,
          1149,
          416,
          1465,
          12569,
          3046,
          1274,
          4447,
          1483,
          662,
          2679,
          978,
          2121,
          1128,
          514,
          2714,
          3703,
          915,
          2369,
          60869,
          3498,
          414,
          7849,
          5127,
          3570,
          1234,
          2208,
          131,
          11559,
          1365,
          650,
          8170,
          15601,
          9584,
          388,
          767,
          349,
          1456,
          2234,
          402,
          2693,
          2809,
          1341,
          2005,
          1796,
          1741,
          830,
          228,
          6386,
          245,
          3157,
          137,
          6114,
          340,
          2601,
          1206,
          560,
          191,
          1103,
          1619,
          1173,
          1457,
          2046,
          1089,
          1364,
          8164,
          876,
          1504,
          1492,
          597,
          5641,
          1034,
          282,
          130,
          3881,
          9927,
          2540,
          4006,
          3635,
          2583,
          1945,
          1960,
          1677,
          3019,
          5502,
          907,
          659,
          8620,
          1398,
          2921,
          2644,
          6838,
          5390,
          1601,
          3576,
          13223,
          220,
          127,
          4324,
          2069,
          9806,
          2854,
          1646,
          2349,
          1389,
          1535,
          98,
          17866,
          5679,
          1691,
          848,
          364,
          133,
          633,
          25,
          1031,
          830,
          1059,
          874,
          15348,
          3141,
          15082,
          2198,
          47,
          575,
          13486,
          269,
          1541,
          688,
          13135,
          4510,
          437,
          1038,
          65
         ],
         "x0": " ",
         "xaxis": "x",
         "y": [
          "Frozen",
          "Frozen",
          "Frozen",
          "Frozen",
          "Frozen",
          "Frozen",
          "Frozen",
          "Frozen",
          "Frozen",
          "Frozen",
          "Frozen",
          "Frozen",
          "Frozen",
          "Frozen",
          "Frozen",
          "Frozen",
          "Frozen",
          "Frozen",
          "Frozen",
          "Frozen",
          "Frozen",
          "Frozen",
          "Frozen",
          "Frozen",
          "Frozen",
          "Frozen",
          "Frozen",
          "Frozen",
          "Frozen",
          "Frozen",
          "Frozen",
          "Frozen",
          "Frozen",
          "Frozen",
          "Frozen",
          "Frozen",
          "Frozen",
          "Frozen",
          "Frozen",
          "Frozen",
          "Frozen",
          "Frozen",
          "Frozen",
          "Frozen",
          "Frozen",
          "Frozen",
          "Frozen",
          "Frozen",
          "Frozen",
          "Frozen",
          "Frozen",
          "Frozen",
          "Frozen",
          "Frozen",
          "Frozen",
          "Frozen",
          "Frozen",
          "Frozen",
          "Frozen",
          "Frozen",
          "Frozen",
          "Frozen",
          "Frozen",
          "Frozen",
          "Frozen",
          "Frozen",
          "Frozen",
          "Frozen",
          "Frozen",
          "Frozen",
          "Frozen",
          "Frozen",
          "Frozen",
          "Frozen",
          "Frozen",
          "Frozen",
          "Frozen",
          "Frozen",
          "Frozen",
          "Frozen",
          "Frozen",
          "Frozen",
          "Frozen",
          "Frozen",
          "Frozen",
          "Frozen",
          "Frozen",
          "Frozen",
          "Frozen",
          "Frozen",
          "Frozen",
          "Frozen",
          "Frozen",
          "Frozen",
          "Frozen",
          "Frozen",
          "Frozen",
          "Frozen",
          "Frozen",
          "Frozen",
          "Frozen",
          "Frozen",
          "Frozen",
          "Frozen",
          "Frozen",
          "Frozen",
          "Frozen",
          "Frozen",
          "Frozen",
          "Frozen",
          "Frozen",
          "Frozen",
          "Frozen",
          "Frozen",
          "Frozen",
          "Frozen",
          "Frozen",
          "Frozen",
          "Frozen",
          "Frozen",
          "Frozen",
          "Frozen",
          "Frozen",
          "Frozen",
          "Frozen",
          "Frozen",
          "Frozen",
          "Frozen",
          "Frozen",
          "Frozen",
          "Frozen",
          "Frozen",
          "Frozen",
          "Frozen",
          "Frozen",
          "Frozen",
          "Frozen",
          "Frozen",
          "Frozen",
          "Frozen",
          "Frozen",
          "Frozen",
          "Frozen",
          "Frozen",
          "Frozen",
          "Frozen",
          "Frozen",
          "Frozen",
          "Frozen",
          "Frozen",
          "Frozen",
          "Frozen",
          "Frozen",
          "Frozen",
          "Frozen",
          "Frozen",
          "Frozen",
          "Frozen",
          "Frozen",
          "Frozen",
          "Frozen",
          "Frozen",
          "Frozen",
          "Frozen",
          "Frozen",
          "Frozen",
          "Frozen",
          "Frozen",
          "Frozen",
          "Frozen",
          "Frozen",
          "Frozen",
          "Frozen",
          "Frozen",
          "Frozen",
          "Frozen",
          "Frozen",
          "Frozen",
          "Frozen",
          "Frozen",
          "Frozen",
          "Frozen",
          "Frozen",
          "Frozen",
          "Frozen",
          "Frozen",
          "Frozen",
          "Frozen",
          "Frozen",
          "Frozen",
          "Frozen",
          "Frozen",
          "Frozen",
          "Frozen",
          "Frozen",
          "Frozen",
          "Frozen",
          "Frozen",
          "Frozen",
          "Frozen",
          "Frozen",
          "Frozen",
          "Frozen",
          "Frozen",
          "Frozen",
          "Frozen",
          "Frozen",
          "Frozen",
          "Frozen",
          "Frozen",
          "Frozen",
          "Frozen",
          "Frozen",
          "Frozen",
          "Frozen",
          "Frozen",
          "Frozen",
          "Frozen",
          "Frozen",
          "Frozen",
          "Frozen",
          "Frozen",
          "Frozen",
          "Frozen",
          "Frozen",
          "Frozen",
          "Frozen",
          "Frozen",
          "Frozen",
          "Frozen",
          "Frozen",
          "Frozen",
          "Frozen",
          "Frozen",
          "Frozen",
          "Frozen",
          "Frozen",
          "Frozen",
          "Frozen",
          "Frozen",
          "Frozen",
          "Frozen",
          "Frozen",
          "Frozen",
          "Frozen",
          "Frozen",
          "Frozen",
          "Frozen",
          "Frozen",
          "Frozen",
          "Frozen",
          "Frozen",
          "Frozen",
          "Frozen",
          "Frozen",
          "Frozen",
          "Frozen",
          "Frozen",
          "Frozen",
          "Frozen",
          "Frozen",
          "Frozen",
          "Frozen",
          "Frozen",
          "Frozen",
          "Frozen",
          "Frozen",
          "Frozen",
          "Frozen",
          "Frozen",
          "Frozen",
          "Frozen",
          "Frozen",
          "Frozen",
          "Frozen",
          "Frozen",
          "Frozen",
          "Frozen",
          "Frozen",
          "Frozen",
          "Frozen",
          "Frozen",
          "Frozen",
          "Frozen",
          "Frozen",
          "Frozen",
          "Frozen",
          "Frozen",
          "Frozen",
          "Frozen",
          "Frozen",
          "Frozen",
          "Frozen",
          "Frozen",
          "Frozen",
          "Frozen",
          "Frozen",
          "Frozen",
          "Frozen",
          "Frozen",
          "Frozen",
          "Frozen",
          "Frozen",
          "Frozen",
          "Frozen",
          "Frozen",
          "Frozen",
          "Frozen",
          "Frozen",
          "Frozen",
          "Frozen",
          "Frozen",
          "Frozen",
          "Frozen",
          "Frozen",
          "Frozen",
          "Frozen",
          "Frozen",
          "Frozen",
          "Frozen",
          "Frozen",
          "Frozen",
          "Frozen",
          "Frozen",
          "Frozen",
          "Frozen",
          "Frozen",
          "Frozen",
          "Frozen",
          "Frozen",
          "Frozen",
          "Frozen",
          "Frozen",
          "Frozen",
          "Frozen",
          "Frozen",
          "Frozen",
          "Frozen",
          "Frozen",
          "Frozen",
          "Frozen",
          "Frozen",
          "Frozen",
          "Frozen",
          "Frozen",
          "Frozen",
          "Frozen",
          "Frozen",
          "Frozen",
          "Frozen",
          "Frozen",
          "Frozen",
          "Frozen",
          "Frozen",
          "Frozen",
          "Frozen",
          "Frozen",
          "Frozen",
          "Frozen",
          "Frozen",
          "Frozen",
          "Frozen",
          "Frozen",
          "Frozen",
          "Frozen",
          "Frozen",
          "Frozen",
          "Frozen",
          "Frozen",
          "Frozen",
          "Frozen",
          "Frozen",
          "Frozen",
          "Frozen",
          "Frozen",
          "Frozen",
          "Frozen",
          "Frozen",
          "Frozen",
          "Frozen",
          "Frozen",
          "Frozen",
          "Frozen",
          "Frozen",
          "Frozen",
          "Frozen",
          "Frozen",
          "Frozen",
          "Frozen",
          "Frozen",
          "Frozen",
          "Frozen",
          "Frozen",
          "Frozen",
          "Frozen",
          "Frozen",
          "Frozen",
          "Frozen",
          "Frozen",
          "Frozen",
          "Frozen",
          "Frozen",
          "Frozen",
          "Frozen",
          "Frozen",
          "Frozen",
          "Frozen",
          "Frozen",
          "Frozen",
          "Frozen",
          "Frozen",
          "Frozen",
          "Frozen",
          "Frozen",
          "Frozen",
          "Frozen",
          "Frozen",
          "Frozen",
          "Frozen",
          "Frozen",
          "Frozen",
          "Frozen",
          "Frozen",
          "Frozen",
          "Frozen",
          "Frozen",
          "Frozen",
          "Frozen",
          "Frozen",
          "Frozen",
          "Frozen",
          "Frozen",
          "Frozen",
          "Frozen",
          "Frozen",
          "Frozen",
          "Frozen",
          "Frozen",
          "Frozen",
          "Frozen"
         ],
         "y0": " ",
         "yaxis": "y"
        }
       ],
       "layout": {
        "boxmode": "group",
        "legend": {
         "tracegroupgap": 0
        },
        "margin": {
         "t": 60
        },
        "template": {
         "data": {
          "bar": [
           {
            "error_x": {
             "color": "#2a3f5f"
            },
            "error_y": {
             "color": "#2a3f5f"
            },
            "marker": {
             "line": {
              "color": "#E5ECF6",
              "width": 0.5
             },
             "pattern": {
              "fillmode": "overlay",
              "size": 10,
              "solidity": 0.2
             }
            },
            "type": "bar"
           }
          ],
          "barpolar": [
           {
            "marker": {
             "line": {
              "color": "#E5ECF6",
              "width": 0.5
             },
             "pattern": {
              "fillmode": "overlay",
              "size": 10,
              "solidity": 0.2
             }
            },
            "type": "barpolar"
           }
          ],
          "carpet": [
           {
            "aaxis": {
             "endlinecolor": "#2a3f5f",
             "gridcolor": "white",
             "linecolor": "white",
             "minorgridcolor": "white",
             "startlinecolor": "#2a3f5f"
            },
            "baxis": {
             "endlinecolor": "#2a3f5f",
             "gridcolor": "white",
             "linecolor": "white",
             "minorgridcolor": "white",
             "startlinecolor": "#2a3f5f"
            },
            "type": "carpet"
           }
          ],
          "choropleth": [
           {
            "colorbar": {
             "outlinewidth": 0,
             "ticks": ""
            },
            "type": "choropleth"
           }
          ],
          "contour": [
           {
            "colorbar": {
             "outlinewidth": 0,
             "ticks": ""
            },
            "colorscale": [
             [
              0,
              "#0d0887"
             ],
             [
              0.1111111111111111,
              "#46039f"
             ],
             [
              0.2222222222222222,
              "#7201a8"
             ],
             [
              0.3333333333333333,
              "#9c179e"
             ],
             [
              0.4444444444444444,
              "#bd3786"
             ],
             [
              0.5555555555555556,
              "#d8576b"
             ],
             [
              0.6666666666666666,
              "#ed7953"
             ],
             [
              0.7777777777777778,
              "#fb9f3a"
             ],
             [
              0.8888888888888888,
              "#fdca26"
             ],
             [
              1,
              "#f0f921"
             ]
            ],
            "type": "contour"
           }
          ],
          "contourcarpet": [
           {
            "colorbar": {
             "outlinewidth": 0,
             "ticks": ""
            },
            "type": "contourcarpet"
           }
          ],
          "heatmap": [
           {
            "colorbar": {
             "outlinewidth": 0,
             "ticks": ""
            },
            "colorscale": [
             [
              0,
              "#0d0887"
             ],
             [
              0.1111111111111111,
              "#46039f"
             ],
             [
              0.2222222222222222,
              "#7201a8"
             ],
             [
              0.3333333333333333,
              "#9c179e"
             ],
             [
              0.4444444444444444,
              "#bd3786"
             ],
             [
              0.5555555555555556,
              "#d8576b"
             ],
             [
              0.6666666666666666,
              "#ed7953"
             ],
             [
              0.7777777777777778,
              "#fb9f3a"
             ],
             [
              0.8888888888888888,
              "#fdca26"
             ],
             [
              1,
              "#f0f921"
             ]
            ],
            "type": "heatmap"
           }
          ],
          "heatmapgl": [
           {
            "colorbar": {
             "outlinewidth": 0,
             "ticks": ""
            },
            "colorscale": [
             [
              0,
              "#0d0887"
             ],
             [
              0.1111111111111111,
              "#46039f"
             ],
             [
              0.2222222222222222,
              "#7201a8"
             ],
             [
              0.3333333333333333,
              "#9c179e"
             ],
             [
              0.4444444444444444,
              "#bd3786"
             ],
             [
              0.5555555555555556,
              "#d8576b"
             ],
             [
              0.6666666666666666,
              "#ed7953"
             ],
             [
              0.7777777777777778,
              "#fb9f3a"
             ],
             [
              0.8888888888888888,
              "#fdca26"
             ],
             [
              1,
              "#f0f921"
             ]
            ],
            "type": "heatmapgl"
           }
          ],
          "histogram": [
           {
            "marker": {
             "pattern": {
              "fillmode": "overlay",
              "size": 10,
              "solidity": 0.2
             }
            },
            "type": "histogram"
           }
          ],
          "histogram2d": [
           {
            "colorbar": {
             "outlinewidth": 0,
             "ticks": ""
            },
            "colorscale": [
             [
              0,
              "#0d0887"
             ],
             [
              0.1111111111111111,
              "#46039f"
             ],
             [
              0.2222222222222222,
              "#7201a8"
             ],
             [
              0.3333333333333333,
              "#9c179e"
             ],
             [
              0.4444444444444444,
              "#bd3786"
             ],
             [
              0.5555555555555556,
              "#d8576b"
             ],
             [
              0.6666666666666666,
              "#ed7953"
             ],
             [
              0.7777777777777778,
              "#fb9f3a"
             ],
             [
              0.8888888888888888,
              "#fdca26"
             ],
             [
              1,
              "#f0f921"
             ]
            ],
            "type": "histogram2d"
           }
          ],
          "histogram2dcontour": [
           {
            "colorbar": {
             "outlinewidth": 0,
             "ticks": ""
            },
            "colorscale": [
             [
              0,
              "#0d0887"
             ],
             [
              0.1111111111111111,
              "#46039f"
             ],
             [
              0.2222222222222222,
              "#7201a8"
             ],
             [
              0.3333333333333333,
              "#9c179e"
             ],
             [
              0.4444444444444444,
              "#bd3786"
             ],
             [
              0.5555555555555556,
              "#d8576b"
             ],
             [
              0.6666666666666666,
              "#ed7953"
             ],
             [
              0.7777777777777778,
              "#fb9f3a"
             ],
             [
              0.8888888888888888,
              "#fdca26"
             ],
             [
              1,
              "#f0f921"
             ]
            ],
            "type": "histogram2dcontour"
           }
          ],
          "mesh3d": [
           {
            "colorbar": {
             "outlinewidth": 0,
             "ticks": ""
            },
            "type": "mesh3d"
           }
          ],
          "parcoords": [
           {
            "line": {
             "colorbar": {
              "outlinewidth": 0,
              "ticks": ""
             }
            },
            "type": "parcoords"
           }
          ],
          "pie": [
           {
            "automargin": true,
            "type": "pie"
           }
          ],
          "scatter": [
           {
            "fillpattern": {
             "fillmode": "overlay",
             "size": 10,
             "solidity": 0.2
            },
            "type": "scatter"
           }
          ],
          "scatter3d": [
           {
            "line": {
             "colorbar": {
              "outlinewidth": 0,
              "ticks": ""
             }
            },
            "marker": {
             "colorbar": {
              "outlinewidth": 0,
              "ticks": ""
             }
            },
            "type": "scatter3d"
           }
          ],
          "scattercarpet": [
           {
            "marker": {
             "colorbar": {
              "outlinewidth": 0,
              "ticks": ""
             }
            },
            "type": "scattercarpet"
           }
          ],
          "scattergeo": [
           {
            "marker": {
             "colorbar": {
              "outlinewidth": 0,
              "ticks": ""
             }
            },
            "type": "scattergeo"
           }
          ],
          "scattergl": [
           {
            "marker": {
             "colorbar": {
              "outlinewidth": 0,
              "ticks": ""
             }
            },
            "type": "scattergl"
           }
          ],
          "scattermapbox": [
           {
            "marker": {
             "colorbar": {
              "outlinewidth": 0,
              "ticks": ""
             }
            },
            "type": "scattermapbox"
           }
          ],
          "scatterpolar": [
           {
            "marker": {
             "colorbar": {
              "outlinewidth": 0,
              "ticks": ""
             }
            },
            "type": "scatterpolar"
           }
          ],
          "scatterpolargl": [
           {
            "marker": {
             "colorbar": {
              "outlinewidth": 0,
              "ticks": ""
             }
            },
            "type": "scatterpolargl"
           }
          ],
          "scatterternary": [
           {
            "marker": {
             "colorbar": {
              "outlinewidth": 0,
              "ticks": ""
             }
            },
            "type": "scatterternary"
           }
          ],
          "surface": [
           {
            "colorbar": {
             "outlinewidth": 0,
             "ticks": ""
            },
            "colorscale": [
             [
              0,
              "#0d0887"
             ],
             [
              0.1111111111111111,
              "#46039f"
             ],
             [
              0.2222222222222222,
              "#7201a8"
             ],
             [
              0.3333333333333333,
              "#9c179e"
             ],
             [
              0.4444444444444444,
              "#bd3786"
             ],
             [
              0.5555555555555556,
              "#d8576b"
             ],
             [
              0.6666666666666666,
              "#ed7953"
             ],
             [
              0.7777777777777778,
              "#fb9f3a"
             ],
             [
              0.8888888888888888,
              "#fdca26"
             ],
             [
              1,
              "#f0f921"
             ]
            ],
            "type": "surface"
           }
          ],
          "table": [
           {
            "cells": {
             "fill": {
              "color": "#EBF0F8"
             },
             "line": {
              "color": "white"
             }
            },
            "header": {
             "fill": {
              "color": "#C8D4E3"
             },
             "line": {
              "color": "white"
             }
            },
            "type": "table"
           }
          ]
         },
         "layout": {
          "annotationdefaults": {
           "arrowcolor": "#2a3f5f",
           "arrowhead": 0,
           "arrowwidth": 1
          },
          "autotypenumbers": "strict",
          "coloraxis": {
           "colorbar": {
            "outlinewidth": 0,
            "ticks": ""
           }
          },
          "colorscale": {
           "diverging": [
            [
             0,
             "#8e0152"
            ],
            [
             0.1,
             "#c51b7d"
            ],
            [
             0.2,
             "#de77ae"
            ],
            [
             0.3,
             "#f1b6da"
            ],
            [
             0.4,
             "#fde0ef"
            ],
            [
             0.5,
             "#f7f7f7"
            ],
            [
             0.6,
             "#e6f5d0"
            ],
            [
             0.7,
             "#b8e186"
            ],
            [
             0.8,
             "#7fbc41"
            ],
            [
             0.9,
             "#4d9221"
            ],
            [
             1,
             "#276419"
            ]
           ],
           "sequential": [
            [
             0,
             "#0d0887"
            ],
            [
             0.1111111111111111,
             "#46039f"
            ],
            [
             0.2222222222222222,
             "#7201a8"
            ],
            [
             0.3333333333333333,
             "#9c179e"
            ],
            [
             0.4444444444444444,
             "#bd3786"
            ],
            [
             0.5555555555555556,
             "#d8576b"
            ],
            [
             0.6666666666666666,
             "#ed7953"
            ],
            [
             0.7777777777777778,
             "#fb9f3a"
            ],
            [
             0.8888888888888888,
             "#fdca26"
            ],
            [
             1,
             "#f0f921"
            ]
           ],
           "sequentialminus": [
            [
             0,
             "#0d0887"
            ],
            [
             0.1111111111111111,
             "#46039f"
            ],
            [
             0.2222222222222222,
             "#7201a8"
            ],
            [
             0.3333333333333333,
             "#9c179e"
            ],
            [
             0.4444444444444444,
             "#bd3786"
            ],
            [
             0.5555555555555556,
             "#d8576b"
            ],
            [
             0.6666666666666666,
             "#ed7953"
            ],
            [
             0.7777777777777778,
             "#fb9f3a"
            ],
            [
             0.8888888888888888,
             "#fdca26"
            ],
            [
             1,
             "#f0f921"
            ]
           ]
          },
          "colorway": [
           "#636efa",
           "#EF553B",
           "#00cc96",
           "#ab63fa",
           "#FFA15A",
           "#19d3f3",
           "#FF6692",
           "#B6E880",
           "#FF97FF",
           "#FECB52"
          ],
          "font": {
           "color": "#2a3f5f"
          },
          "geo": {
           "bgcolor": "white",
           "lakecolor": "white",
           "landcolor": "#E5ECF6",
           "showlakes": true,
           "showland": true,
           "subunitcolor": "white"
          },
          "hoverlabel": {
           "align": "left"
          },
          "hovermode": "closest",
          "mapbox": {
           "style": "light"
          },
          "paper_bgcolor": "white",
          "plot_bgcolor": "#E5ECF6",
          "polar": {
           "angularaxis": {
            "gridcolor": "white",
            "linecolor": "white",
            "ticks": ""
           },
           "bgcolor": "#E5ECF6",
           "radialaxis": {
            "gridcolor": "white",
            "linecolor": "white",
            "ticks": ""
           }
          },
          "scene": {
           "xaxis": {
            "backgroundcolor": "#E5ECF6",
            "gridcolor": "white",
            "gridwidth": 2,
            "linecolor": "white",
            "showbackground": true,
            "ticks": "",
            "zerolinecolor": "white"
           },
           "yaxis": {
            "backgroundcolor": "#E5ECF6",
            "gridcolor": "white",
            "gridwidth": 2,
            "linecolor": "white",
            "showbackground": true,
            "ticks": "",
            "zerolinecolor": "white"
           },
           "zaxis": {
            "backgroundcolor": "#E5ECF6",
            "gridcolor": "white",
            "gridwidth": 2,
            "linecolor": "white",
            "showbackground": true,
            "ticks": "",
            "zerolinecolor": "white"
           }
          },
          "shapedefaults": {
           "line": {
            "color": "#2a3f5f"
           }
          },
          "ternary": {
           "aaxis": {
            "gridcolor": "white",
            "linecolor": "white",
            "ticks": ""
           },
           "baxis": {
            "gridcolor": "white",
            "linecolor": "white",
            "ticks": ""
           },
           "bgcolor": "#E5ECF6",
           "caxis": {
            "gridcolor": "white",
            "linecolor": "white",
            "ticks": ""
           }
          },
          "title": {
           "x": 0.05
          },
          "xaxis": {
           "automargin": true,
           "gridcolor": "white",
           "linecolor": "white",
           "ticks": "",
           "title": {
            "standoff": 15
           },
           "zerolinecolor": "white",
           "zerolinewidth": 2
          },
          "yaxis": {
           "automargin": true,
           "gridcolor": "white",
           "linecolor": "white",
           "ticks": "",
           "title": {
            "standoff": 15
           },
           "zerolinecolor": "white",
           "zerolinewidth": 2
          }
         }
        },
        "xaxis": {
         "anchor": "y",
         "domain": [
          0,
          1
         ],
         "title": {
          "text": "value"
         }
        },
        "yaxis": {
         "anchor": "x",
         "domain": [
          0,
          1
         ],
         "title": {
          "text": "variable"
         }
        }
       }
      },
      "text/html": [
       "<div>                            <div id=\"8af7a0bd-26c0-4d7f-a217-8ed4078ca5e8\" class=\"plotly-graph-div\" style=\"height:525px; width:100%;\"></div>            <script type=\"text/javascript\">                require([\"plotly\"], function(Plotly) {                    window.PLOTLYENV=window.PLOTLYENV || {};                                    if (document.getElementById(\"8af7a0bd-26c0-4d7f-a217-8ed4078ca5e8\")) {                    Plotly.newPlot(                        \"8af7a0bd-26c0-4d7f-a217-8ed4078ca5e8\",                        [{\"alignmentgroup\":\"True\",\"hovertemplate\":\"value=%{x}<br>variable=%{y}<extra></extra>\",\"legendgroup\":\"\",\"marker\":{\"color\":\"#636efa\"},\"name\":\"\",\"notched\":false,\"offsetgroup\":\"\",\"orientation\":\"h\",\"showlegend\":false,\"x\":[214,1762,2405,6404,3915,666,480,1669,425,1159,4400,1420,287,3095,294,397,134,839,2205,669,1066,3383,9408,5154,2915,201,3151,485,1158,1200,1148,2088,266,6130,425,833,1729,1920,33,10002,9510,2033,188,787,541,1740,1668,7782,584,1798,3860,239,532,744,2436,1057,2616,38,596,129,96,3254,4154,2896,3724,36,175,1256,5870,779,10643,5373,8872,8132,1285,4407,7530,869,2096,868,430,283,737,2320,1178,1026,987,6312,9735,3443,3347,8693,3232,35009,206,440,145,774,895,5639,3252,1593,2561,18028,1336,910,133,2471,247,673,2276,805,8853,3220,2555,2715,1517,1647,5343,3896,2417,2395,1991,2194,4787,16538,8195,880,142,1718,6316,346,576,436,720,1170,4575,661,155,825,2279,321,2995,8425,118,42,926,1286,4052,800,853,531,3001,779,75,233,317,3378,930,398,824,1092,2665,2367,2540,4425,993,405,1393,2399,1116,651,333,937,2515,52,7368,1752,1152,4477,402,16745,443,36534,74,2181,3470,6269,2758,275,7332,890,547,959,806,7888,18711,1127,3527,520,3941,3549,5065,469,1383,955,878,2946,1859,864,1801,4736,1291,1329,913,1374,179,2532,1285,2306,1765,91,7496,5612,784,660,1759,2286,950,6845,8321,1439,638,937,4260,1218,2312,4634,1112,5243,11422,2216,3752,561,1183,230,1777,2077,559,6340,1730,6746,7683,432,4686,3242,453,5004,6422,3012,327,6818,982,4324,61,10155,2221,3975,1069,2516,5500,1120,529,4802,744,862,4479,16919,5845,1293,977,1093,5970,10303,8692,1042,1619,8366,848,1388,502,2507,3838,902,909,417,3045,1455,934,264,824,1809,364,492,617,799,1840,1149,416,1465,12569,3046,1274,4447,1483,662,2679,978,2121,1128,514,2714,3703,915,2369,60869,3498,414,7849,5127,3570,1234,2208,131,11559,1365,650,8170,15601,9584,388,767,349,1456,2234,402,2693,2809,1341,2005,1796,1741,830,228,6386,245,3157,137,6114,340,2601,1206,560,191,1103,1619,1173,1457,2046,1089,1364,8164,876,1504,1492,597,5641,1034,282,130,3881,9927,2540,4006,3635,2583,1945,1960,1677,3019,5502,907,659,8620,1398,2921,2644,6838,5390,1601,3576,13223,220,127,4324,2069,9806,2854,1646,2349,1389,1535,98,17866,5679,1691,848,364,133,633,25,1031,830,1059,874,15348,3141,15082,2198,47,575,13486,269,1541,688,13135,4510,437,1038,65],\"x0\":\" \",\"xaxis\":\"x\",\"y\":[\"Frozen\",\"Frozen\",\"Frozen\",\"Frozen\",\"Frozen\",\"Frozen\",\"Frozen\",\"Frozen\",\"Frozen\",\"Frozen\",\"Frozen\",\"Frozen\",\"Frozen\",\"Frozen\",\"Frozen\",\"Frozen\",\"Frozen\",\"Frozen\",\"Frozen\",\"Frozen\",\"Frozen\",\"Frozen\",\"Frozen\",\"Frozen\",\"Frozen\",\"Frozen\",\"Frozen\",\"Frozen\",\"Frozen\",\"Frozen\",\"Frozen\",\"Frozen\",\"Frozen\",\"Frozen\",\"Frozen\",\"Frozen\",\"Frozen\",\"Frozen\",\"Frozen\",\"Frozen\",\"Frozen\",\"Frozen\",\"Frozen\",\"Frozen\",\"Frozen\",\"Frozen\",\"Frozen\",\"Frozen\",\"Frozen\",\"Frozen\",\"Frozen\",\"Frozen\",\"Frozen\",\"Frozen\",\"Frozen\",\"Frozen\",\"Frozen\",\"Frozen\",\"Frozen\",\"Frozen\",\"Frozen\",\"Frozen\",\"Frozen\",\"Frozen\",\"Frozen\",\"Frozen\",\"Frozen\",\"Frozen\",\"Frozen\",\"Frozen\",\"Frozen\",\"Frozen\",\"Frozen\",\"Frozen\",\"Frozen\",\"Frozen\",\"Frozen\",\"Frozen\",\"Frozen\",\"Frozen\",\"Frozen\",\"Frozen\",\"Frozen\",\"Frozen\",\"Frozen\",\"Frozen\",\"Frozen\",\"Frozen\",\"Frozen\",\"Frozen\",\"Frozen\",\"Frozen\",\"Frozen\",\"Frozen\",\"Frozen\",\"Frozen\",\"Frozen\",\"Frozen\",\"Frozen\",\"Frozen\",\"Frozen\",\"Frozen\",\"Frozen\",\"Frozen\",\"Frozen\",\"Frozen\",\"Frozen\",\"Frozen\",\"Frozen\",\"Frozen\",\"Frozen\",\"Frozen\",\"Frozen\",\"Frozen\",\"Frozen\",\"Frozen\",\"Frozen\",\"Frozen\",\"Frozen\",\"Frozen\",\"Frozen\",\"Frozen\",\"Frozen\",\"Frozen\",\"Frozen\",\"Frozen\",\"Frozen\",\"Frozen\",\"Frozen\",\"Frozen\",\"Frozen\",\"Frozen\",\"Frozen\",\"Frozen\",\"Frozen\",\"Frozen\",\"Frozen\",\"Frozen\",\"Frozen\",\"Frozen\",\"Frozen\",\"Frozen\",\"Frozen\",\"Frozen\",\"Frozen\",\"Frozen\",\"Frozen\",\"Frozen\",\"Frozen\",\"Frozen\",\"Frozen\",\"Frozen\",\"Frozen\",\"Frozen\",\"Frozen\",\"Frozen\",\"Frozen\",\"Frozen\",\"Frozen\",\"Frozen\",\"Frozen\",\"Frozen\",\"Frozen\",\"Frozen\",\"Frozen\",\"Frozen\",\"Frozen\",\"Frozen\",\"Frozen\",\"Frozen\",\"Frozen\",\"Frozen\",\"Frozen\",\"Frozen\",\"Frozen\",\"Frozen\",\"Frozen\",\"Frozen\",\"Frozen\",\"Frozen\",\"Frozen\",\"Frozen\",\"Frozen\",\"Frozen\",\"Frozen\",\"Frozen\",\"Frozen\",\"Frozen\",\"Frozen\",\"Frozen\",\"Frozen\",\"Frozen\",\"Frozen\",\"Frozen\",\"Frozen\",\"Frozen\",\"Frozen\",\"Frozen\",\"Frozen\",\"Frozen\",\"Frozen\",\"Frozen\",\"Frozen\",\"Frozen\",\"Frozen\",\"Frozen\",\"Frozen\",\"Frozen\",\"Frozen\",\"Frozen\",\"Frozen\",\"Frozen\",\"Frozen\",\"Frozen\",\"Frozen\",\"Frozen\",\"Frozen\",\"Frozen\",\"Frozen\",\"Frozen\",\"Frozen\",\"Frozen\",\"Frozen\",\"Frozen\",\"Frozen\",\"Frozen\",\"Frozen\",\"Frozen\",\"Frozen\",\"Frozen\",\"Frozen\",\"Frozen\",\"Frozen\",\"Frozen\",\"Frozen\",\"Frozen\",\"Frozen\",\"Frozen\",\"Frozen\",\"Frozen\",\"Frozen\",\"Frozen\",\"Frozen\",\"Frozen\",\"Frozen\",\"Frozen\",\"Frozen\",\"Frozen\",\"Frozen\",\"Frozen\",\"Frozen\",\"Frozen\",\"Frozen\",\"Frozen\",\"Frozen\",\"Frozen\",\"Frozen\",\"Frozen\",\"Frozen\",\"Frozen\",\"Frozen\",\"Frozen\",\"Frozen\",\"Frozen\",\"Frozen\",\"Frozen\",\"Frozen\",\"Frozen\",\"Frozen\",\"Frozen\",\"Frozen\",\"Frozen\",\"Frozen\",\"Frozen\",\"Frozen\",\"Frozen\",\"Frozen\",\"Frozen\",\"Frozen\",\"Frozen\",\"Frozen\",\"Frozen\",\"Frozen\",\"Frozen\",\"Frozen\",\"Frozen\",\"Frozen\",\"Frozen\",\"Frozen\",\"Frozen\",\"Frozen\",\"Frozen\",\"Frozen\",\"Frozen\",\"Frozen\",\"Frozen\",\"Frozen\",\"Frozen\",\"Frozen\",\"Frozen\",\"Frozen\",\"Frozen\",\"Frozen\",\"Frozen\",\"Frozen\",\"Frozen\",\"Frozen\",\"Frozen\",\"Frozen\",\"Frozen\",\"Frozen\",\"Frozen\",\"Frozen\",\"Frozen\",\"Frozen\",\"Frozen\",\"Frozen\",\"Frozen\",\"Frozen\",\"Frozen\",\"Frozen\",\"Frozen\",\"Frozen\",\"Frozen\",\"Frozen\",\"Frozen\",\"Frozen\",\"Frozen\",\"Frozen\",\"Frozen\",\"Frozen\",\"Frozen\",\"Frozen\",\"Frozen\",\"Frozen\",\"Frozen\",\"Frozen\",\"Frozen\",\"Frozen\",\"Frozen\",\"Frozen\",\"Frozen\",\"Frozen\",\"Frozen\",\"Frozen\",\"Frozen\",\"Frozen\",\"Frozen\",\"Frozen\",\"Frozen\",\"Frozen\",\"Frozen\",\"Frozen\",\"Frozen\",\"Frozen\",\"Frozen\",\"Frozen\",\"Frozen\",\"Frozen\",\"Frozen\",\"Frozen\",\"Frozen\",\"Frozen\",\"Frozen\",\"Frozen\",\"Frozen\",\"Frozen\",\"Frozen\",\"Frozen\",\"Frozen\",\"Frozen\",\"Frozen\",\"Frozen\",\"Frozen\",\"Frozen\",\"Frozen\",\"Frozen\",\"Frozen\",\"Frozen\",\"Frozen\",\"Frozen\",\"Frozen\",\"Frozen\",\"Frozen\",\"Frozen\",\"Frozen\",\"Frozen\",\"Frozen\",\"Frozen\",\"Frozen\",\"Frozen\",\"Frozen\",\"Frozen\",\"Frozen\",\"Frozen\",\"Frozen\",\"Frozen\",\"Frozen\",\"Frozen\",\"Frozen\",\"Frozen\",\"Frozen\",\"Frozen\",\"Frozen\",\"Frozen\",\"Frozen\",\"Frozen\",\"Frozen\",\"Frozen\",\"Frozen\",\"Frozen\",\"Frozen\",\"Frozen\",\"Frozen\",\"Frozen\",\"Frozen\",\"Frozen\",\"Frozen\",\"Frozen\",\"Frozen\",\"Frozen\",\"Frozen\",\"Frozen\",\"Frozen\",\"Frozen\",\"Frozen\",\"Frozen\",\"Frozen\",\"Frozen\",\"Frozen\",\"Frozen\",\"Frozen\",\"Frozen\",\"Frozen\",\"Frozen\",\"Frozen\",\"Frozen\",\"Frozen\",\"Frozen\",\"Frozen\"],\"y0\":\" \",\"yaxis\":\"y\",\"type\":\"box\"}],                        {\"template\":{\"data\":{\"histogram2dcontour\":[{\"type\":\"histogram2dcontour\",\"colorbar\":{\"outlinewidth\":0,\"ticks\":\"\"},\"colorscale\":[[0.0,\"#0d0887\"],[0.1111111111111111,\"#46039f\"],[0.2222222222222222,\"#7201a8\"],[0.3333333333333333,\"#9c179e\"],[0.4444444444444444,\"#bd3786\"],[0.5555555555555556,\"#d8576b\"],[0.6666666666666666,\"#ed7953\"],[0.7777777777777778,\"#fb9f3a\"],[0.8888888888888888,\"#fdca26\"],[1.0,\"#f0f921\"]]}],\"choropleth\":[{\"type\":\"choropleth\",\"colorbar\":{\"outlinewidth\":0,\"ticks\":\"\"}}],\"histogram2d\":[{\"type\":\"histogram2d\",\"colorbar\":{\"outlinewidth\":0,\"ticks\":\"\"},\"colorscale\":[[0.0,\"#0d0887\"],[0.1111111111111111,\"#46039f\"],[0.2222222222222222,\"#7201a8\"],[0.3333333333333333,\"#9c179e\"],[0.4444444444444444,\"#bd3786\"],[0.5555555555555556,\"#d8576b\"],[0.6666666666666666,\"#ed7953\"],[0.7777777777777778,\"#fb9f3a\"],[0.8888888888888888,\"#fdca26\"],[1.0,\"#f0f921\"]]}],\"heatmap\":[{\"type\":\"heatmap\",\"colorbar\":{\"outlinewidth\":0,\"ticks\":\"\"},\"colorscale\":[[0.0,\"#0d0887\"],[0.1111111111111111,\"#46039f\"],[0.2222222222222222,\"#7201a8\"],[0.3333333333333333,\"#9c179e\"],[0.4444444444444444,\"#bd3786\"],[0.5555555555555556,\"#d8576b\"],[0.6666666666666666,\"#ed7953\"],[0.7777777777777778,\"#fb9f3a\"],[0.8888888888888888,\"#fdca26\"],[1.0,\"#f0f921\"]]}],\"heatmapgl\":[{\"type\":\"heatmapgl\",\"colorbar\":{\"outlinewidth\":0,\"ticks\":\"\"},\"colorscale\":[[0.0,\"#0d0887\"],[0.1111111111111111,\"#46039f\"],[0.2222222222222222,\"#7201a8\"],[0.3333333333333333,\"#9c179e\"],[0.4444444444444444,\"#bd3786\"],[0.5555555555555556,\"#d8576b\"],[0.6666666666666666,\"#ed7953\"],[0.7777777777777778,\"#fb9f3a\"],[0.8888888888888888,\"#fdca26\"],[1.0,\"#f0f921\"]]}],\"contourcarpet\":[{\"type\":\"contourcarpet\",\"colorbar\":{\"outlinewidth\":0,\"ticks\":\"\"}}],\"contour\":[{\"type\":\"contour\",\"colorbar\":{\"outlinewidth\":0,\"ticks\":\"\"},\"colorscale\":[[0.0,\"#0d0887\"],[0.1111111111111111,\"#46039f\"],[0.2222222222222222,\"#7201a8\"],[0.3333333333333333,\"#9c179e\"],[0.4444444444444444,\"#bd3786\"],[0.5555555555555556,\"#d8576b\"],[0.6666666666666666,\"#ed7953\"],[0.7777777777777778,\"#fb9f3a\"],[0.8888888888888888,\"#fdca26\"],[1.0,\"#f0f921\"]]}],\"surface\":[{\"type\":\"surface\",\"colorbar\":{\"outlinewidth\":0,\"ticks\":\"\"},\"colorscale\":[[0.0,\"#0d0887\"],[0.1111111111111111,\"#46039f\"],[0.2222222222222222,\"#7201a8\"],[0.3333333333333333,\"#9c179e\"],[0.4444444444444444,\"#bd3786\"],[0.5555555555555556,\"#d8576b\"],[0.6666666666666666,\"#ed7953\"],[0.7777777777777778,\"#fb9f3a\"],[0.8888888888888888,\"#fdca26\"],[1.0,\"#f0f921\"]]}],\"mesh3d\":[{\"type\":\"mesh3d\",\"colorbar\":{\"outlinewidth\":0,\"ticks\":\"\"}}],\"scatter\":[{\"fillpattern\":{\"fillmode\":\"overlay\",\"size\":10,\"solidity\":0.2},\"type\":\"scatter\"}],\"parcoords\":[{\"type\":\"parcoords\",\"line\":{\"colorbar\":{\"outlinewidth\":0,\"ticks\":\"\"}}}],\"scatterpolargl\":[{\"type\":\"scatterpolargl\",\"marker\":{\"colorbar\":{\"outlinewidth\":0,\"ticks\":\"\"}}}],\"bar\":[{\"error_x\":{\"color\":\"#2a3f5f\"},\"error_y\":{\"color\":\"#2a3f5f\"},\"marker\":{\"line\":{\"color\":\"#E5ECF6\",\"width\":0.5},\"pattern\":{\"fillmode\":\"overlay\",\"size\":10,\"solidity\":0.2}},\"type\":\"bar\"}],\"scattergeo\":[{\"type\":\"scattergeo\",\"marker\":{\"colorbar\":{\"outlinewidth\":0,\"ticks\":\"\"}}}],\"scatterpolar\":[{\"type\":\"scatterpolar\",\"marker\":{\"colorbar\":{\"outlinewidth\":0,\"ticks\":\"\"}}}],\"histogram\":[{\"marker\":{\"pattern\":{\"fillmode\":\"overlay\",\"size\":10,\"solidity\":0.2}},\"type\":\"histogram\"}],\"scattergl\":[{\"type\":\"scattergl\",\"marker\":{\"colorbar\":{\"outlinewidth\":0,\"ticks\":\"\"}}}],\"scatter3d\":[{\"type\":\"scatter3d\",\"line\":{\"colorbar\":{\"outlinewidth\":0,\"ticks\":\"\"}},\"marker\":{\"colorbar\":{\"outlinewidth\":0,\"ticks\":\"\"}}}],\"scattermapbox\":[{\"type\":\"scattermapbox\",\"marker\":{\"colorbar\":{\"outlinewidth\":0,\"ticks\":\"\"}}}],\"scatterternary\":[{\"type\":\"scatterternary\",\"marker\":{\"colorbar\":{\"outlinewidth\":0,\"ticks\":\"\"}}}],\"scattercarpet\":[{\"type\":\"scattercarpet\",\"marker\":{\"colorbar\":{\"outlinewidth\":0,\"ticks\":\"\"}}}],\"carpet\":[{\"aaxis\":{\"endlinecolor\":\"#2a3f5f\",\"gridcolor\":\"white\",\"linecolor\":\"white\",\"minorgridcolor\":\"white\",\"startlinecolor\":\"#2a3f5f\"},\"baxis\":{\"endlinecolor\":\"#2a3f5f\",\"gridcolor\":\"white\",\"linecolor\":\"white\",\"minorgridcolor\":\"white\",\"startlinecolor\":\"#2a3f5f\"},\"type\":\"carpet\"}],\"table\":[{\"cells\":{\"fill\":{\"color\":\"#EBF0F8\"},\"line\":{\"color\":\"white\"}},\"header\":{\"fill\":{\"color\":\"#C8D4E3\"},\"line\":{\"color\":\"white\"}},\"type\":\"table\"}],\"barpolar\":[{\"marker\":{\"line\":{\"color\":\"#E5ECF6\",\"width\":0.5},\"pattern\":{\"fillmode\":\"overlay\",\"size\":10,\"solidity\":0.2}},\"type\":\"barpolar\"}],\"pie\":[{\"automargin\":true,\"type\":\"pie\"}]},\"layout\":{\"autotypenumbers\":\"strict\",\"colorway\":[\"#636efa\",\"#EF553B\",\"#00cc96\",\"#ab63fa\",\"#FFA15A\",\"#19d3f3\",\"#FF6692\",\"#B6E880\",\"#FF97FF\",\"#FECB52\"],\"font\":{\"color\":\"#2a3f5f\"},\"hovermode\":\"closest\",\"hoverlabel\":{\"align\":\"left\"},\"paper_bgcolor\":\"white\",\"plot_bgcolor\":\"#E5ECF6\",\"polar\":{\"bgcolor\":\"#E5ECF6\",\"angularaxis\":{\"gridcolor\":\"white\",\"linecolor\":\"white\",\"ticks\":\"\"},\"radialaxis\":{\"gridcolor\":\"white\",\"linecolor\":\"white\",\"ticks\":\"\"}},\"ternary\":{\"bgcolor\":\"#E5ECF6\",\"aaxis\":{\"gridcolor\":\"white\",\"linecolor\":\"white\",\"ticks\":\"\"},\"baxis\":{\"gridcolor\":\"white\",\"linecolor\":\"white\",\"ticks\":\"\"},\"caxis\":{\"gridcolor\":\"white\",\"linecolor\":\"white\",\"ticks\":\"\"}},\"coloraxis\":{\"colorbar\":{\"outlinewidth\":0,\"ticks\":\"\"}},\"colorscale\":{\"sequential\":[[0.0,\"#0d0887\"],[0.1111111111111111,\"#46039f\"],[0.2222222222222222,\"#7201a8\"],[0.3333333333333333,\"#9c179e\"],[0.4444444444444444,\"#bd3786\"],[0.5555555555555556,\"#d8576b\"],[0.6666666666666666,\"#ed7953\"],[0.7777777777777778,\"#fb9f3a\"],[0.8888888888888888,\"#fdca26\"],[1.0,\"#f0f921\"]],\"sequentialminus\":[[0.0,\"#0d0887\"],[0.1111111111111111,\"#46039f\"],[0.2222222222222222,\"#7201a8\"],[0.3333333333333333,\"#9c179e\"],[0.4444444444444444,\"#bd3786\"],[0.5555555555555556,\"#d8576b\"],[0.6666666666666666,\"#ed7953\"],[0.7777777777777778,\"#fb9f3a\"],[0.8888888888888888,\"#fdca26\"],[1.0,\"#f0f921\"]],\"diverging\":[[0,\"#8e0152\"],[0.1,\"#c51b7d\"],[0.2,\"#de77ae\"],[0.3,\"#f1b6da\"],[0.4,\"#fde0ef\"],[0.5,\"#f7f7f7\"],[0.6,\"#e6f5d0\"],[0.7,\"#b8e186\"],[0.8,\"#7fbc41\"],[0.9,\"#4d9221\"],[1,\"#276419\"]]},\"xaxis\":{\"gridcolor\":\"white\",\"linecolor\":\"white\",\"ticks\":\"\",\"title\":{\"standoff\":15},\"zerolinecolor\":\"white\",\"automargin\":true,\"zerolinewidth\":2},\"yaxis\":{\"gridcolor\":\"white\",\"linecolor\":\"white\",\"ticks\":\"\",\"title\":{\"standoff\":15},\"zerolinecolor\":\"white\",\"automargin\":true,\"zerolinewidth\":2},\"scene\":{\"xaxis\":{\"backgroundcolor\":\"#E5ECF6\",\"gridcolor\":\"white\",\"linecolor\":\"white\",\"showbackground\":true,\"ticks\":\"\",\"zerolinecolor\":\"white\",\"gridwidth\":2},\"yaxis\":{\"backgroundcolor\":\"#E5ECF6\",\"gridcolor\":\"white\",\"linecolor\":\"white\",\"showbackground\":true,\"ticks\":\"\",\"zerolinecolor\":\"white\",\"gridwidth\":2},\"zaxis\":{\"backgroundcolor\":\"#E5ECF6\",\"gridcolor\":\"white\",\"linecolor\":\"white\",\"showbackground\":true,\"ticks\":\"\",\"zerolinecolor\":\"white\",\"gridwidth\":2}},\"shapedefaults\":{\"line\":{\"color\":\"#2a3f5f\"}},\"annotationdefaults\":{\"arrowcolor\":\"#2a3f5f\",\"arrowhead\":0,\"arrowwidth\":1},\"geo\":{\"bgcolor\":\"white\",\"landcolor\":\"#E5ECF6\",\"subunitcolor\":\"white\",\"showland\":true,\"showlakes\":true,\"lakecolor\":\"white\"},\"title\":{\"x\":0.05},\"mapbox\":{\"style\":\"light\"}}},\"xaxis\":{\"anchor\":\"y\",\"domain\":[0.0,1.0],\"title\":{\"text\":\"value\"}},\"yaxis\":{\"anchor\":\"x\",\"domain\":[0.0,1.0],\"title\":{\"text\":\"variable\"}},\"legend\":{\"tracegroupgap\":0},\"margin\":{\"t\":60},\"boxmode\":\"group\"},                        {\"responsive\": true}                    ).then(function(){\n",
       "                            \n",
       "var gd = document.getElementById('8af7a0bd-26c0-4d7f-a217-8ed4078ca5e8');\n",
       "var x = new MutationObserver(function (mutations, observer) {{\n",
       "        var display = window.getComputedStyle(gd).display;\n",
       "        if (!display || display === 'none') {{\n",
       "            console.log([gd, 'removed!']);\n",
       "            Plotly.purge(gd);\n",
       "            observer.disconnect();\n",
       "        }}\n",
       "}});\n",
       "\n",
       "// Listen for the removal of the full notebook cells\n",
       "var notebookContainer = gd.closest('#notebook-container');\n",
       "if (notebookContainer) {{\n",
       "    x.observe(notebookContainer, {childList: true});\n",
       "}}\n",
       "\n",
       "// Listen for the clearing of the current output cell\n",
       "var outputEl = gd.closest('.output');\n",
       "if (outputEl) {{\n",
       "    x.observe(outputEl, {childList: true});\n",
       "}}\n",
       "\n",
       "                        })                };                });            </script>        </div>"
      ]
     },
     "metadata": {},
     "output_type": "display_data"
    }
   ],
   "source": [
    "pe.box(df['Frozen'], orientation='h')"
   ]
  },
  {
   "cell_type": "code",
   "execution_count": 16,
   "id": "4f207a60",
   "metadata": {
    "ExecuteTime": {
     "end_time": "2023-11-04T04:35:18.743197Z",
     "start_time": "2023-11-04T04:35:18.590859Z"
    }
   },
   "outputs": [
    {
     "data": {
      "application/vnd.plotly.v1+json": {
       "config": {
        "plotlyServerURL": "https://plot.ly"
       },
       "data": [
        {
         "alignmentgroup": "True",
         "hovertemplate": "value=%{x}<br>variable=%{y}<extra></extra>",
         "legendgroup": "",
         "marker": {
          "color": "#636efa"
         },
         "name": "",
         "notched": false,
         "offsetgroup": "",
         "orientation": "h",
         "showlegend": false,
         "type": "box",
         "x": [
          1338,
          1776,
          7844,
          1788,
          5185,
          1451,
          545,
          2566,
          750,
          2098,
          1744,
          497,
          2931,
          602,
          2168,
          412,
          1080,
          4478,
          3181,
          501,
          2124,
          569,
          4334,
          16523,
          5778,
          57,
          833,
          518,
          5206,
          823,
          2963,
          985,
          405,
          1083,
          395,
          436,
          4626,
          714,
          433,
          2916,
          5864,
          2802,
          46,
          72,
          65,
          4985,
          1452,
          6465,
          1476,
          1163,
          2162,
          301,
          1278,
          224,
          1333,
          1130,
          1340,
          1282,
          436,
          1603,
          225,
          2017,
          964,
          1295,
          1145,
          1423,
          27,
          834,
          3095,
          144,
          1365,
          14472,
          181,
          648,
          1780,
          975,
          894,
          1009,
          167,
          1653,
          529,
          156,
          2342,
          772,
          120,
          2944,
          903,
          14351,
          46,
          3178,
          360,
          1117,
          5130,
          2698,
          244,
          709,
          217,
          63,
          132,
          323,
          3029,
          1838,
          1386,
          2498,
          548,
          1378,
          1831,
          1438,
          1236,
          3,
          1647,
          1519,
          2708,
          1561,
          1266,
          610,
          222,
          1160,
          933,
          635,
          1136,
          255,
          860,
          143,
          1621,
          918,
          483,
          2749,
          3,
          1819,
          911,
          310,
          328,
          396,
          537,
          326,
          1542,
          36,
          3271,
          929,
          2616,
          1450,
          3,
          318,
          201,
          4430,
          520,
          526,
          434,
          1440,
          1067,
          1774,
          184,
          1627,
          8,
          2153,
          3182,
          418,
          1682,
          303,
          2157,
          2233,
          610,
          446,
          238,
          2379,
          3637,
          693,
          429,
          750,
          323,
          6250,
          707,
          716,
          1442,
          1697,
          230,
          2631,
          395,
          2165,
          2794,
          8550,
          156,
          47943,
          11,
          247,
          727,
          3,
          404,
          1856,
          64,
          84,
          409,
          666,
          1142,
          1755,
          2876,
          1468,
          697,
          347,
          731,
          1681,
          6854,
          18,
          1328,
          710,
          285,
          120,
          806,
          797,
          2100,
          2870,
          1775,
          1215,
          791,
          2388,
          674,
          1158,
          6372,
          130,
          749,
          239,
          375,
          1360,
          659,
          786,
          1553,
          689,
          203,
          980,
          2137,
          490,
          834,
          7,
          2563,
          295,
          225,
          1215,
          216,
          2253,
          2564,
          1047,
          578,
          2398,
          1970,
          2784,
          610,
          659,
          572,
          291,
          710,
          5121,
          1693,
          1391,
          3265,
          615,
          373,
          987,
          3321,
          818,
          548,
          287,
          655,
          411,
          1265,
          3636,
          2563,
          3628,
          698,
          204,
          56,
          1550,
          1040,
          1824,
          1153,
          379,
          2503,
          139,
          1409,
          1721,
          1104,
          2079,
          1404,
          1384,
          2406,
          18,
          128,
          1027,
          258,
          22,
          1522,
          686,
          1060,
          741,
          1854,
          254,
          898,
          531,
          1037,
          259,
          2005,
          172,
          555,
          59,
          2410,
          211,
          1543,
          925,
          656,
          806,
          1117,
          117,
          142,
          297,
          1233,
          3508,
          1059,
          1637,
          51,
          1625,
          834,
          1113,
          229,
          573,
          1092,
          5609,
          834,
          522,
          1534,
          739,
          1043,
          1102,
          2602,
          1215,
          3486,
          2139,
          778,
          868,
          550,
          1942,
          1371,
          2158,
          1328,
          37,
          379,
          303,
          1115,
          1022,
          665,
          445,
          995,
          3137,
          195,
          1111,
          2341,
          127,
          548,
          110,
          4100,
          776,
          503,
          405,
          712,
          314,
          468,
          3105,
          447,
          342,
          558,
          296,
          2235,
          790,
          4829,
          3113,
          686,
          70,
          1426,
          1242,
          1114,
          179,
          270,
          532,
          2893,
          361,
          5120,
          1068,
          967,
          961,
          406,
          684,
          1000,
          1827,
          654,
          819,
          452,
          290,
          2213,
          743,
          247,
          375,
          1014,
          1902,
          340,
          288,
          715,
          378,
          960,
          553,
          344,
          5137,
          1892,
          4365,
          62,
          2435,
          290,
          1874,
          993,
          1063,
          776,
          1521,
          1393,
          1784,
          1218,
          668,
          249,
          1886,
          1894,
          1163,
          317,
          2501,
          2080,
          1498,
          395,
          1449,
          838,
          2204,
          2346,
          1867,
          2125,
          52
         ],
         "x0": " ",
         "xaxis": "x",
         "y": [
          "Delicassen",
          "Delicassen",
          "Delicassen",
          "Delicassen",
          "Delicassen",
          "Delicassen",
          "Delicassen",
          "Delicassen",
          "Delicassen",
          "Delicassen",
          "Delicassen",
          "Delicassen",
          "Delicassen",
          "Delicassen",
          "Delicassen",
          "Delicassen",
          "Delicassen",
          "Delicassen",
          "Delicassen",
          "Delicassen",
          "Delicassen",
          "Delicassen",
          "Delicassen",
          "Delicassen",
          "Delicassen",
          "Delicassen",
          "Delicassen",
          "Delicassen",
          "Delicassen",
          "Delicassen",
          "Delicassen",
          "Delicassen",
          "Delicassen",
          "Delicassen",
          "Delicassen",
          "Delicassen",
          "Delicassen",
          "Delicassen",
          "Delicassen",
          "Delicassen",
          "Delicassen",
          "Delicassen",
          "Delicassen",
          "Delicassen",
          "Delicassen",
          "Delicassen",
          "Delicassen",
          "Delicassen",
          "Delicassen",
          "Delicassen",
          "Delicassen",
          "Delicassen",
          "Delicassen",
          "Delicassen",
          "Delicassen",
          "Delicassen",
          "Delicassen",
          "Delicassen",
          "Delicassen",
          "Delicassen",
          "Delicassen",
          "Delicassen",
          "Delicassen",
          "Delicassen",
          "Delicassen",
          "Delicassen",
          "Delicassen",
          "Delicassen",
          "Delicassen",
          "Delicassen",
          "Delicassen",
          "Delicassen",
          "Delicassen",
          "Delicassen",
          "Delicassen",
          "Delicassen",
          "Delicassen",
          "Delicassen",
          "Delicassen",
          "Delicassen",
          "Delicassen",
          "Delicassen",
          "Delicassen",
          "Delicassen",
          "Delicassen",
          "Delicassen",
          "Delicassen",
          "Delicassen",
          "Delicassen",
          "Delicassen",
          "Delicassen",
          "Delicassen",
          "Delicassen",
          "Delicassen",
          "Delicassen",
          "Delicassen",
          "Delicassen",
          "Delicassen",
          "Delicassen",
          "Delicassen",
          "Delicassen",
          "Delicassen",
          "Delicassen",
          "Delicassen",
          "Delicassen",
          "Delicassen",
          "Delicassen",
          "Delicassen",
          "Delicassen",
          "Delicassen",
          "Delicassen",
          "Delicassen",
          "Delicassen",
          "Delicassen",
          "Delicassen",
          "Delicassen",
          "Delicassen",
          "Delicassen",
          "Delicassen",
          "Delicassen",
          "Delicassen",
          "Delicassen",
          "Delicassen",
          "Delicassen",
          "Delicassen",
          "Delicassen",
          "Delicassen",
          "Delicassen",
          "Delicassen",
          "Delicassen",
          "Delicassen",
          "Delicassen",
          "Delicassen",
          "Delicassen",
          "Delicassen",
          "Delicassen",
          "Delicassen",
          "Delicassen",
          "Delicassen",
          "Delicassen",
          "Delicassen",
          "Delicassen",
          "Delicassen",
          "Delicassen",
          "Delicassen",
          "Delicassen",
          "Delicassen",
          "Delicassen",
          "Delicassen",
          "Delicassen",
          "Delicassen",
          "Delicassen",
          "Delicassen",
          "Delicassen",
          "Delicassen",
          "Delicassen",
          "Delicassen",
          "Delicassen",
          "Delicassen",
          "Delicassen",
          "Delicassen",
          "Delicassen",
          "Delicassen",
          "Delicassen",
          "Delicassen",
          "Delicassen",
          "Delicassen",
          "Delicassen",
          "Delicassen",
          "Delicassen",
          "Delicassen",
          "Delicassen",
          "Delicassen",
          "Delicassen",
          "Delicassen",
          "Delicassen",
          "Delicassen",
          "Delicassen",
          "Delicassen",
          "Delicassen",
          "Delicassen",
          "Delicassen",
          "Delicassen",
          "Delicassen",
          "Delicassen",
          "Delicassen",
          "Delicassen",
          "Delicassen",
          "Delicassen",
          "Delicassen",
          "Delicassen",
          "Delicassen",
          "Delicassen",
          "Delicassen",
          "Delicassen",
          "Delicassen",
          "Delicassen",
          "Delicassen",
          "Delicassen",
          "Delicassen",
          "Delicassen",
          "Delicassen",
          "Delicassen",
          "Delicassen",
          "Delicassen",
          "Delicassen",
          "Delicassen",
          "Delicassen",
          "Delicassen",
          "Delicassen",
          "Delicassen",
          "Delicassen",
          "Delicassen",
          "Delicassen",
          "Delicassen",
          "Delicassen",
          "Delicassen",
          "Delicassen",
          "Delicassen",
          "Delicassen",
          "Delicassen",
          "Delicassen",
          "Delicassen",
          "Delicassen",
          "Delicassen",
          "Delicassen",
          "Delicassen",
          "Delicassen",
          "Delicassen",
          "Delicassen",
          "Delicassen",
          "Delicassen",
          "Delicassen",
          "Delicassen",
          "Delicassen",
          "Delicassen",
          "Delicassen",
          "Delicassen",
          "Delicassen",
          "Delicassen",
          "Delicassen",
          "Delicassen",
          "Delicassen",
          "Delicassen",
          "Delicassen",
          "Delicassen",
          "Delicassen",
          "Delicassen",
          "Delicassen",
          "Delicassen",
          "Delicassen",
          "Delicassen",
          "Delicassen",
          "Delicassen",
          "Delicassen",
          "Delicassen",
          "Delicassen",
          "Delicassen",
          "Delicassen",
          "Delicassen",
          "Delicassen",
          "Delicassen",
          "Delicassen",
          "Delicassen",
          "Delicassen",
          "Delicassen",
          "Delicassen",
          "Delicassen",
          "Delicassen",
          "Delicassen",
          "Delicassen",
          "Delicassen",
          "Delicassen",
          "Delicassen",
          "Delicassen",
          "Delicassen",
          "Delicassen",
          "Delicassen",
          "Delicassen",
          "Delicassen",
          "Delicassen",
          "Delicassen",
          "Delicassen",
          "Delicassen",
          "Delicassen",
          "Delicassen",
          "Delicassen",
          "Delicassen",
          "Delicassen",
          "Delicassen",
          "Delicassen",
          "Delicassen",
          "Delicassen",
          "Delicassen",
          "Delicassen",
          "Delicassen",
          "Delicassen",
          "Delicassen",
          "Delicassen",
          "Delicassen",
          "Delicassen",
          "Delicassen",
          "Delicassen",
          "Delicassen",
          "Delicassen",
          "Delicassen",
          "Delicassen",
          "Delicassen",
          "Delicassen",
          "Delicassen",
          "Delicassen",
          "Delicassen",
          "Delicassen",
          "Delicassen",
          "Delicassen",
          "Delicassen",
          "Delicassen",
          "Delicassen",
          "Delicassen",
          "Delicassen",
          "Delicassen",
          "Delicassen",
          "Delicassen",
          "Delicassen",
          "Delicassen",
          "Delicassen",
          "Delicassen",
          "Delicassen",
          "Delicassen",
          "Delicassen",
          "Delicassen",
          "Delicassen",
          "Delicassen",
          "Delicassen",
          "Delicassen",
          "Delicassen",
          "Delicassen",
          "Delicassen",
          "Delicassen",
          "Delicassen",
          "Delicassen",
          "Delicassen",
          "Delicassen",
          "Delicassen",
          "Delicassen",
          "Delicassen",
          "Delicassen",
          "Delicassen",
          "Delicassen",
          "Delicassen",
          "Delicassen",
          "Delicassen",
          "Delicassen",
          "Delicassen",
          "Delicassen",
          "Delicassen",
          "Delicassen",
          "Delicassen",
          "Delicassen",
          "Delicassen",
          "Delicassen",
          "Delicassen",
          "Delicassen",
          "Delicassen",
          "Delicassen",
          "Delicassen",
          "Delicassen",
          "Delicassen",
          "Delicassen",
          "Delicassen",
          "Delicassen",
          "Delicassen",
          "Delicassen",
          "Delicassen",
          "Delicassen",
          "Delicassen",
          "Delicassen",
          "Delicassen",
          "Delicassen",
          "Delicassen",
          "Delicassen",
          "Delicassen",
          "Delicassen",
          "Delicassen",
          "Delicassen",
          "Delicassen",
          "Delicassen",
          "Delicassen",
          "Delicassen",
          "Delicassen",
          "Delicassen",
          "Delicassen",
          "Delicassen",
          "Delicassen",
          "Delicassen",
          "Delicassen",
          "Delicassen",
          "Delicassen",
          "Delicassen",
          "Delicassen",
          "Delicassen",
          "Delicassen",
          "Delicassen",
          "Delicassen",
          "Delicassen",
          "Delicassen",
          "Delicassen",
          "Delicassen",
          "Delicassen",
          "Delicassen",
          "Delicassen",
          "Delicassen",
          "Delicassen",
          "Delicassen",
          "Delicassen",
          "Delicassen",
          "Delicassen",
          "Delicassen",
          "Delicassen",
          "Delicassen",
          "Delicassen",
          "Delicassen",
          "Delicassen",
          "Delicassen",
          "Delicassen",
          "Delicassen",
          "Delicassen",
          "Delicassen",
          "Delicassen",
          "Delicassen",
          "Delicassen",
          "Delicassen",
          "Delicassen",
          "Delicassen",
          "Delicassen",
          "Delicassen",
          "Delicassen",
          "Delicassen",
          "Delicassen",
          "Delicassen"
         ],
         "y0": " ",
         "yaxis": "y"
        }
       ],
       "layout": {
        "boxmode": "group",
        "legend": {
         "tracegroupgap": 0
        },
        "margin": {
         "t": 60
        },
        "template": {
         "data": {
          "bar": [
           {
            "error_x": {
             "color": "#2a3f5f"
            },
            "error_y": {
             "color": "#2a3f5f"
            },
            "marker": {
             "line": {
              "color": "#E5ECF6",
              "width": 0.5
             },
             "pattern": {
              "fillmode": "overlay",
              "size": 10,
              "solidity": 0.2
             }
            },
            "type": "bar"
           }
          ],
          "barpolar": [
           {
            "marker": {
             "line": {
              "color": "#E5ECF6",
              "width": 0.5
             },
             "pattern": {
              "fillmode": "overlay",
              "size": 10,
              "solidity": 0.2
             }
            },
            "type": "barpolar"
           }
          ],
          "carpet": [
           {
            "aaxis": {
             "endlinecolor": "#2a3f5f",
             "gridcolor": "white",
             "linecolor": "white",
             "minorgridcolor": "white",
             "startlinecolor": "#2a3f5f"
            },
            "baxis": {
             "endlinecolor": "#2a3f5f",
             "gridcolor": "white",
             "linecolor": "white",
             "minorgridcolor": "white",
             "startlinecolor": "#2a3f5f"
            },
            "type": "carpet"
           }
          ],
          "choropleth": [
           {
            "colorbar": {
             "outlinewidth": 0,
             "ticks": ""
            },
            "type": "choropleth"
           }
          ],
          "contour": [
           {
            "colorbar": {
             "outlinewidth": 0,
             "ticks": ""
            },
            "colorscale": [
             [
              0,
              "#0d0887"
             ],
             [
              0.1111111111111111,
              "#46039f"
             ],
             [
              0.2222222222222222,
              "#7201a8"
             ],
             [
              0.3333333333333333,
              "#9c179e"
             ],
             [
              0.4444444444444444,
              "#bd3786"
             ],
             [
              0.5555555555555556,
              "#d8576b"
             ],
             [
              0.6666666666666666,
              "#ed7953"
             ],
             [
              0.7777777777777778,
              "#fb9f3a"
             ],
             [
              0.8888888888888888,
              "#fdca26"
             ],
             [
              1,
              "#f0f921"
             ]
            ],
            "type": "contour"
           }
          ],
          "contourcarpet": [
           {
            "colorbar": {
             "outlinewidth": 0,
             "ticks": ""
            },
            "type": "contourcarpet"
           }
          ],
          "heatmap": [
           {
            "colorbar": {
             "outlinewidth": 0,
             "ticks": ""
            },
            "colorscale": [
             [
              0,
              "#0d0887"
             ],
             [
              0.1111111111111111,
              "#46039f"
             ],
             [
              0.2222222222222222,
              "#7201a8"
             ],
             [
              0.3333333333333333,
              "#9c179e"
             ],
             [
              0.4444444444444444,
              "#bd3786"
             ],
             [
              0.5555555555555556,
              "#d8576b"
             ],
             [
              0.6666666666666666,
              "#ed7953"
             ],
             [
              0.7777777777777778,
              "#fb9f3a"
             ],
             [
              0.8888888888888888,
              "#fdca26"
             ],
             [
              1,
              "#f0f921"
             ]
            ],
            "type": "heatmap"
           }
          ],
          "heatmapgl": [
           {
            "colorbar": {
             "outlinewidth": 0,
             "ticks": ""
            },
            "colorscale": [
             [
              0,
              "#0d0887"
             ],
             [
              0.1111111111111111,
              "#46039f"
             ],
             [
              0.2222222222222222,
              "#7201a8"
             ],
             [
              0.3333333333333333,
              "#9c179e"
             ],
             [
              0.4444444444444444,
              "#bd3786"
             ],
             [
              0.5555555555555556,
              "#d8576b"
             ],
             [
              0.6666666666666666,
              "#ed7953"
             ],
             [
              0.7777777777777778,
              "#fb9f3a"
             ],
             [
              0.8888888888888888,
              "#fdca26"
             ],
             [
              1,
              "#f0f921"
             ]
            ],
            "type": "heatmapgl"
           }
          ],
          "histogram": [
           {
            "marker": {
             "pattern": {
              "fillmode": "overlay",
              "size": 10,
              "solidity": 0.2
             }
            },
            "type": "histogram"
           }
          ],
          "histogram2d": [
           {
            "colorbar": {
             "outlinewidth": 0,
             "ticks": ""
            },
            "colorscale": [
             [
              0,
              "#0d0887"
             ],
             [
              0.1111111111111111,
              "#46039f"
             ],
             [
              0.2222222222222222,
              "#7201a8"
             ],
             [
              0.3333333333333333,
              "#9c179e"
             ],
             [
              0.4444444444444444,
              "#bd3786"
             ],
             [
              0.5555555555555556,
              "#d8576b"
             ],
             [
              0.6666666666666666,
              "#ed7953"
             ],
             [
              0.7777777777777778,
              "#fb9f3a"
             ],
             [
              0.8888888888888888,
              "#fdca26"
             ],
             [
              1,
              "#f0f921"
             ]
            ],
            "type": "histogram2d"
           }
          ],
          "histogram2dcontour": [
           {
            "colorbar": {
             "outlinewidth": 0,
             "ticks": ""
            },
            "colorscale": [
             [
              0,
              "#0d0887"
             ],
             [
              0.1111111111111111,
              "#46039f"
             ],
             [
              0.2222222222222222,
              "#7201a8"
             ],
             [
              0.3333333333333333,
              "#9c179e"
             ],
             [
              0.4444444444444444,
              "#bd3786"
             ],
             [
              0.5555555555555556,
              "#d8576b"
             ],
             [
              0.6666666666666666,
              "#ed7953"
             ],
             [
              0.7777777777777778,
              "#fb9f3a"
             ],
             [
              0.8888888888888888,
              "#fdca26"
             ],
             [
              1,
              "#f0f921"
             ]
            ],
            "type": "histogram2dcontour"
           }
          ],
          "mesh3d": [
           {
            "colorbar": {
             "outlinewidth": 0,
             "ticks": ""
            },
            "type": "mesh3d"
           }
          ],
          "parcoords": [
           {
            "line": {
             "colorbar": {
              "outlinewidth": 0,
              "ticks": ""
             }
            },
            "type": "parcoords"
           }
          ],
          "pie": [
           {
            "automargin": true,
            "type": "pie"
           }
          ],
          "scatter": [
           {
            "fillpattern": {
             "fillmode": "overlay",
             "size": 10,
             "solidity": 0.2
            },
            "type": "scatter"
           }
          ],
          "scatter3d": [
           {
            "line": {
             "colorbar": {
              "outlinewidth": 0,
              "ticks": ""
             }
            },
            "marker": {
             "colorbar": {
              "outlinewidth": 0,
              "ticks": ""
             }
            },
            "type": "scatter3d"
           }
          ],
          "scattercarpet": [
           {
            "marker": {
             "colorbar": {
              "outlinewidth": 0,
              "ticks": ""
             }
            },
            "type": "scattercarpet"
           }
          ],
          "scattergeo": [
           {
            "marker": {
             "colorbar": {
              "outlinewidth": 0,
              "ticks": ""
             }
            },
            "type": "scattergeo"
           }
          ],
          "scattergl": [
           {
            "marker": {
             "colorbar": {
              "outlinewidth": 0,
              "ticks": ""
             }
            },
            "type": "scattergl"
           }
          ],
          "scattermapbox": [
           {
            "marker": {
             "colorbar": {
              "outlinewidth": 0,
              "ticks": ""
             }
            },
            "type": "scattermapbox"
           }
          ],
          "scatterpolar": [
           {
            "marker": {
             "colorbar": {
              "outlinewidth": 0,
              "ticks": ""
             }
            },
            "type": "scatterpolar"
           }
          ],
          "scatterpolargl": [
           {
            "marker": {
             "colorbar": {
              "outlinewidth": 0,
              "ticks": ""
             }
            },
            "type": "scatterpolargl"
           }
          ],
          "scatterternary": [
           {
            "marker": {
             "colorbar": {
              "outlinewidth": 0,
              "ticks": ""
             }
            },
            "type": "scatterternary"
           }
          ],
          "surface": [
           {
            "colorbar": {
             "outlinewidth": 0,
             "ticks": ""
            },
            "colorscale": [
             [
              0,
              "#0d0887"
             ],
             [
              0.1111111111111111,
              "#46039f"
             ],
             [
              0.2222222222222222,
              "#7201a8"
             ],
             [
              0.3333333333333333,
              "#9c179e"
             ],
             [
              0.4444444444444444,
              "#bd3786"
             ],
             [
              0.5555555555555556,
              "#d8576b"
             ],
             [
              0.6666666666666666,
              "#ed7953"
             ],
             [
              0.7777777777777778,
              "#fb9f3a"
             ],
             [
              0.8888888888888888,
              "#fdca26"
             ],
             [
              1,
              "#f0f921"
             ]
            ],
            "type": "surface"
           }
          ],
          "table": [
           {
            "cells": {
             "fill": {
              "color": "#EBF0F8"
             },
             "line": {
              "color": "white"
             }
            },
            "header": {
             "fill": {
              "color": "#C8D4E3"
             },
             "line": {
              "color": "white"
             }
            },
            "type": "table"
           }
          ]
         },
         "layout": {
          "annotationdefaults": {
           "arrowcolor": "#2a3f5f",
           "arrowhead": 0,
           "arrowwidth": 1
          },
          "autotypenumbers": "strict",
          "coloraxis": {
           "colorbar": {
            "outlinewidth": 0,
            "ticks": ""
           }
          },
          "colorscale": {
           "diverging": [
            [
             0,
             "#8e0152"
            ],
            [
             0.1,
             "#c51b7d"
            ],
            [
             0.2,
             "#de77ae"
            ],
            [
             0.3,
             "#f1b6da"
            ],
            [
             0.4,
             "#fde0ef"
            ],
            [
             0.5,
             "#f7f7f7"
            ],
            [
             0.6,
             "#e6f5d0"
            ],
            [
             0.7,
             "#b8e186"
            ],
            [
             0.8,
             "#7fbc41"
            ],
            [
             0.9,
             "#4d9221"
            ],
            [
             1,
             "#276419"
            ]
           ],
           "sequential": [
            [
             0,
             "#0d0887"
            ],
            [
             0.1111111111111111,
             "#46039f"
            ],
            [
             0.2222222222222222,
             "#7201a8"
            ],
            [
             0.3333333333333333,
             "#9c179e"
            ],
            [
             0.4444444444444444,
             "#bd3786"
            ],
            [
             0.5555555555555556,
             "#d8576b"
            ],
            [
             0.6666666666666666,
             "#ed7953"
            ],
            [
             0.7777777777777778,
             "#fb9f3a"
            ],
            [
             0.8888888888888888,
             "#fdca26"
            ],
            [
             1,
             "#f0f921"
            ]
           ],
           "sequentialminus": [
            [
             0,
             "#0d0887"
            ],
            [
             0.1111111111111111,
             "#46039f"
            ],
            [
             0.2222222222222222,
             "#7201a8"
            ],
            [
             0.3333333333333333,
             "#9c179e"
            ],
            [
             0.4444444444444444,
             "#bd3786"
            ],
            [
             0.5555555555555556,
             "#d8576b"
            ],
            [
             0.6666666666666666,
             "#ed7953"
            ],
            [
             0.7777777777777778,
             "#fb9f3a"
            ],
            [
             0.8888888888888888,
             "#fdca26"
            ],
            [
             1,
             "#f0f921"
            ]
           ]
          },
          "colorway": [
           "#636efa",
           "#EF553B",
           "#00cc96",
           "#ab63fa",
           "#FFA15A",
           "#19d3f3",
           "#FF6692",
           "#B6E880",
           "#FF97FF",
           "#FECB52"
          ],
          "font": {
           "color": "#2a3f5f"
          },
          "geo": {
           "bgcolor": "white",
           "lakecolor": "white",
           "landcolor": "#E5ECF6",
           "showlakes": true,
           "showland": true,
           "subunitcolor": "white"
          },
          "hoverlabel": {
           "align": "left"
          },
          "hovermode": "closest",
          "mapbox": {
           "style": "light"
          },
          "paper_bgcolor": "white",
          "plot_bgcolor": "#E5ECF6",
          "polar": {
           "angularaxis": {
            "gridcolor": "white",
            "linecolor": "white",
            "ticks": ""
           },
           "bgcolor": "#E5ECF6",
           "radialaxis": {
            "gridcolor": "white",
            "linecolor": "white",
            "ticks": ""
           }
          },
          "scene": {
           "xaxis": {
            "backgroundcolor": "#E5ECF6",
            "gridcolor": "white",
            "gridwidth": 2,
            "linecolor": "white",
            "showbackground": true,
            "ticks": "",
            "zerolinecolor": "white"
           },
           "yaxis": {
            "backgroundcolor": "#E5ECF6",
            "gridcolor": "white",
            "gridwidth": 2,
            "linecolor": "white",
            "showbackground": true,
            "ticks": "",
            "zerolinecolor": "white"
           },
           "zaxis": {
            "backgroundcolor": "#E5ECF6",
            "gridcolor": "white",
            "gridwidth": 2,
            "linecolor": "white",
            "showbackground": true,
            "ticks": "",
            "zerolinecolor": "white"
           }
          },
          "shapedefaults": {
           "line": {
            "color": "#2a3f5f"
           }
          },
          "ternary": {
           "aaxis": {
            "gridcolor": "white",
            "linecolor": "white",
            "ticks": ""
           },
           "baxis": {
            "gridcolor": "white",
            "linecolor": "white",
            "ticks": ""
           },
           "bgcolor": "#E5ECF6",
           "caxis": {
            "gridcolor": "white",
            "linecolor": "white",
            "ticks": ""
           }
          },
          "title": {
           "x": 0.05
          },
          "xaxis": {
           "automargin": true,
           "gridcolor": "white",
           "linecolor": "white",
           "ticks": "",
           "title": {
            "standoff": 15
           },
           "zerolinecolor": "white",
           "zerolinewidth": 2
          },
          "yaxis": {
           "automargin": true,
           "gridcolor": "white",
           "linecolor": "white",
           "ticks": "",
           "title": {
            "standoff": 15
           },
           "zerolinecolor": "white",
           "zerolinewidth": 2
          }
         }
        },
        "xaxis": {
         "anchor": "y",
         "domain": [
          0,
          1
         ],
         "title": {
          "text": "value"
         }
        },
        "yaxis": {
         "anchor": "x",
         "domain": [
          0,
          1
         ],
         "title": {
          "text": "variable"
         }
        }
       }
      },
      "text/html": [
       "<div>                            <div id=\"532e12f7-53ab-47b3-8fda-99de36fbab4e\" class=\"plotly-graph-div\" style=\"height:525px; width:100%;\"></div>            <script type=\"text/javascript\">                require([\"plotly\"], function(Plotly) {                    window.PLOTLYENV=window.PLOTLYENV || {};                                    if (document.getElementById(\"532e12f7-53ab-47b3-8fda-99de36fbab4e\")) {                    Plotly.newPlot(                        \"532e12f7-53ab-47b3-8fda-99de36fbab4e\",                        [{\"alignmentgroup\":\"True\",\"hovertemplate\":\"value=%{x}<br>variable=%{y}<extra></extra>\",\"legendgroup\":\"\",\"marker\":{\"color\":\"#636efa\"},\"name\":\"\",\"notched\":false,\"offsetgroup\":\"\",\"orientation\":\"h\",\"showlegend\":false,\"x\":[1338,1776,7844,1788,5185,1451,545,2566,750,2098,1744,497,2931,602,2168,412,1080,4478,3181,501,2124,569,4334,16523,5778,57,833,518,5206,823,2963,985,405,1083,395,436,4626,714,433,2916,5864,2802,46,72,65,4985,1452,6465,1476,1163,2162,301,1278,224,1333,1130,1340,1282,436,1603,225,2017,964,1295,1145,1423,27,834,3095,144,1365,14472,181,648,1780,975,894,1009,167,1653,529,156,2342,772,120,2944,903,14351,46,3178,360,1117,5130,2698,244,709,217,63,132,323,3029,1838,1386,2498,548,1378,1831,1438,1236,3,1647,1519,2708,1561,1266,610,222,1160,933,635,1136,255,860,143,1621,918,483,2749,3,1819,911,310,328,396,537,326,1542,36,3271,929,2616,1450,3,318,201,4430,520,526,434,1440,1067,1774,184,1627,8,2153,3182,418,1682,303,2157,2233,610,446,238,2379,3637,693,429,750,323,6250,707,716,1442,1697,230,2631,395,2165,2794,8550,156,47943,11,247,727,3,404,1856,64,84,409,666,1142,1755,2876,1468,697,347,731,1681,6854,18,1328,710,285,120,806,797,2100,2870,1775,1215,791,2388,674,1158,6372,130,749,239,375,1360,659,786,1553,689,203,980,2137,490,834,7,2563,295,225,1215,216,2253,2564,1047,578,2398,1970,2784,610,659,572,291,710,5121,1693,1391,3265,615,373,987,3321,818,548,287,655,411,1265,3636,2563,3628,698,204,56,1550,1040,1824,1153,379,2503,139,1409,1721,1104,2079,1404,1384,2406,18,128,1027,258,22,1522,686,1060,741,1854,254,898,531,1037,259,2005,172,555,59,2410,211,1543,925,656,806,1117,117,142,297,1233,3508,1059,1637,51,1625,834,1113,229,573,1092,5609,834,522,1534,739,1043,1102,2602,1215,3486,2139,778,868,550,1942,1371,2158,1328,37,379,303,1115,1022,665,445,995,3137,195,1111,2341,127,548,110,4100,776,503,405,712,314,468,3105,447,342,558,296,2235,790,4829,3113,686,70,1426,1242,1114,179,270,532,2893,361,5120,1068,967,961,406,684,1000,1827,654,819,452,290,2213,743,247,375,1014,1902,340,288,715,378,960,553,344,5137,1892,4365,62,2435,290,1874,993,1063,776,1521,1393,1784,1218,668,249,1886,1894,1163,317,2501,2080,1498,395,1449,838,2204,2346,1867,2125,52],\"x0\":\" \",\"xaxis\":\"x\",\"y\":[\"Delicassen\",\"Delicassen\",\"Delicassen\",\"Delicassen\",\"Delicassen\",\"Delicassen\",\"Delicassen\",\"Delicassen\",\"Delicassen\",\"Delicassen\",\"Delicassen\",\"Delicassen\",\"Delicassen\",\"Delicassen\",\"Delicassen\",\"Delicassen\",\"Delicassen\",\"Delicassen\",\"Delicassen\",\"Delicassen\",\"Delicassen\",\"Delicassen\",\"Delicassen\",\"Delicassen\",\"Delicassen\",\"Delicassen\",\"Delicassen\",\"Delicassen\",\"Delicassen\",\"Delicassen\",\"Delicassen\",\"Delicassen\",\"Delicassen\",\"Delicassen\",\"Delicassen\",\"Delicassen\",\"Delicassen\",\"Delicassen\",\"Delicassen\",\"Delicassen\",\"Delicassen\",\"Delicassen\",\"Delicassen\",\"Delicassen\",\"Delicassen\",\"Delicassen\",\"Delicassen\",\"Delicassen\",\"Delicassen\",\"Delicassen\",\"Delicassen\",\"Delicassen\",\"Delicassen\",\"Delicassen\",\"Delicassen\",\"Delicassen\",\"Delicassen\",\"Delicassen\",\"Delicassen\",\"Delicassen\",\"Delicassen\",\"Delicassen\",\"Delicassen\",\"Delicassen\",\"Delicassen\",\"Delicassen\",\"Delicassen\",\"Delicassen\",\"Delicassen\",\"Delicassen\",\"Delicassen\",\"Delicassen\",\"Delicassen\",\"Delicassen\",\"Delicassen\",\"Delicassen\",\"Delicassen\",\"Delicassen\",\"Delicassen\",\"Delicassen\",\"Delicassen\",\"Delicassen\",\"Delicassen\",\"Delicassen\",\"Delicassen\",\"Delicassen\",\"Delicassen\",\"Delicassen\",\"Delicassen\",\"Delicassen\",\"Delicassen\",\"Delicassen\",\"Delicassen\",\"Delicassen\",\"Delicassen\",\"Delicassen\",\"Delicassen\",\"Delicassen\",\"Delicassen\",\"Delicassen\",\"Delicassen\",\"Delicassen\",\"Delicassen\",\"Delicassen\",\"Delicassen\",\"Delicassen\",\"Delicassen\",\"Delicassen\",\"Delicassen\",\"Delicassen\",\"Delicassen\",\"Delicassen\",\"Delicassen\",\"Delicassen\",\"Delicassen\",\"Delicassen\",\"Delicassen\",\"Delicassen\",\"Delicassen\",\"Delicassen\",\"Delicassen\",\"Delicassen\",\"Delicassen\",\"Delicassen\",\"Delicassen\",\"Delicassen\",\"Delicassen\",\"Delicassen\",\"Delicassen\",\"Delicassen\",\"Delicassen\",\"Delicassen\",\"Delicassen\",\"Delicassen\",\"Delicassen\",\"Delicassen\",\"Delicassen\",\"Delicassen\",\"Delicassen\",\"Delicassen\",\"Delicassen\",\"Delicassen\",\"Delicassen\",\"Delicassen\",\"Delicassen\",\"Delicassen\",\"Delicassen\",\"Delicassen\",\"Delicassen\",\"Delicassen\",\"Delicassen\",\"Delicassen\",\"Delicassen\",\"Delicassen\",\"Delicassen\",\"Delicassen\",\"Delicassen\",\"Delicassen\",\"Delicassen\",\"Delicassen\",\"Delicassen\",\"Delicassen\",\"Delicassen\",\"Delicassen\",\"Delicassen\",\"Delicassen\",\"Delicassen\",\"Delicassen\",\"Delicassen\",\"Delicassen\",\"Delicassen\",\"Delicassen\",\"Delicassen\",\"Delicassen\",\"Delicassen\",\"Delicassen\",\"Delicassen\",\"Delicassen\",\"Delicassen\",\"Delicassen\",\"Delicassen\",\"Delicassen\",\"Delicassen\",\"Delicassen\",\"Delicassen\",\"Delicassen\",\"Delicassen\",\"Delicassen\",\"Delicassen\",\"Delicassen\",\"Delicassen\",\"Delicassen\",\"Delicassen\",\"Delicassen\",\"Delicassen\",\"Delicassen\",\"Delicassen\",\"Delicassen\",\"Delicassen\",\"Delicassen\",\"Delicassen\",\"Delicassen\",\"Delicassen\",\"Delicassen\",\"Delicassen\",\"Delicassen\",\"Delicassen\",\"Delicassen\",\"Delicassen\",\"Delicassen\",\"Delicassen\",\"Delicassen\",\"Delicassen\",\"Delicassen\",\"Delicassen\",\"Delicassen\",\"Delicassen\",\"Delicassen\",\"Delicassen\",\"Delicassen\",\"Delicassen\",\"Delicassen\",\"Delicassen\",\"Delicassen\",\"Delicassen\",\"Delicassen\",\"Delicassen\",\"Delicassen\",\"Delicassen\",\"Delicassen\",\"Delicassen\",\"Delicassen\",\"Delicassen\",\"Delicassen\",\"Delicassen\",\"Delicassen\",\"Delicassen\",\"Delicassen\",\"Delicassen\",\"Delicassen\",\"Delicassen\",\"Delicassen\",\"Delicassen\",\"Delicassen\",\"Delicassen\",\"Delicassen\",\"Delicassen\",\"Delicassen\",\"Delicassen\",\"Delicassen\",\"Delicassen\",\"Delicassen\",\"Delicassen\",\"Delicassen\",\"Delicassen\",\"Delicassen\",\"Delicassen\",\"Delicassen\",\"Delicassen\",\"Delicassen\",\"Delicassen\",\"Delicassen\",\"Delicassen\",\"Delicassen\",\"Delicassen\",\"Delicassen\",\"Delicassen\",\"Delicassen\",\"Delicassen\",\"Delicassen\",\"Delicassen\",\"Delicassen\",\"Delicassen\",\"Delicassen\",\"Delicassen\",\"Delicassen\",\"Delicassen\",\"Delicassen\",\"Delicassen\",\"Delicassen\",\"Delicassen\",\"Delicassen\",\"Delicassen\",\"Delicassen\",\"Delicassen\",\"Delicassen\",\"Delicassen\",\"Delicassen\",\"Delicassen\",\"Delicassen\",\"Delicassen\",\"Delicassen\",\"Delicassen\",\"Delicassen\",\"Delicassen\",\"Delicassen\",\"Delicassen\",\"Delicassen\",\"Delicassen\",\"Delicassen\",\"Delicassen\",\"Delicassen\",\"Delicassen\",\"Delicassen\",\"Delicassen\",\"Delicassen\",\"Delicassen\",\"Delicassen\",\"Delicassen\",\"Delicassen\",\"Delicassen\",\"Delicassen\",\"Delicassen\",\"Delicassen\",\"Delicassen\",\"Delicassen\",\"Delicassen\",\"Delicassen\",\"Delicassen\",\"Delicassen\",\"Delicassen\",\"Delicassen\",\"Delicassen\",\"Delicassen\",\"Delicassen\",\"Delicassen\",\"Delicassen\",\"Delicassen\",\"Delicassen\",\"Delicassen\",\"Delicassen\",\"Delicassen\",\"Delicassen\",\"Delicassen\",\"Delicassen\",\"Delicassen\",\"Delicassen\",\"Delicassen\",\"Delicassen\",\"Delicassen\",\"Delicassen\",\"Delicassen\",\"Delicassen\",\"Delicassen\",\"Delicassen\",\"Delicassen\",\"Delicassen\",\"Delicassen\",\"Delicassen\",\"Delicassen\",\"Delicassen\",\"Delicassen\",\"Delicassen\",\"Delicassen\",\"Delicassen\",\"Delicassen\",\"Delicassen\",\"Delicassen\",\"Delicassen\",\"Delicassen\",\"Delicassen\",\"Delicassen\",\"Delicassen\",\"Delicassen\",\"Delicassen\",\"Delicassen\",\"Delicassen\",\"Delicassen\",\"Delicassen\",\"Delicassen\",\"Delicassen\",\"Delicassen\",\"Delicassen\",\"Delicassen\",\"Delicassen\",\"Delicassen\",\"Delicassen\",\"Delicassen\",\"Delicassen\",\"Delicassen\",\"Delicassen\",\"Delicassen\",\"Delicassen\",\"Delicassen\",\"Delicassen\",\"Delicassen\",\"Delicassen\",\"Delicassen\",\"Delicassen\",\"Delicassen\",\"Delicassen\",\"Delicassen\",\"Delicassen\",\"Delicassen\",\"Delicassen\",\"Delicassen\",\"Delicassen\",\"Delicassen\",\"Delicassen\",\"Delicassen\",\"Delicassen\",\"Delicassen\",\"Delicassen\",\"Delicassen\",\"Delicassen\",\"Delicassen\",\"Delicassen\",\"Delicassen\",\"Delicassen\",\"Delicassen\",\"Delicassen\",\"Delicassen\",\"Delicassen\",\"Delicassen\",\"Delicassen\",\"Delicassen\",\"Delicassen\",\"Delicassen\",\"Delicassen\",\"Delicassen\",\"Delicassen\",\"Delicassen\",\"Delicassen\",\"Delicassen\",\"Delicassen\",\"Delicassen\",\"Delicassen\",\"Delicassen\",\"Delicassen\",\"Delicassen\",\"Delicassen\",\"Delicassen\",\"Delicassen\",\"Delicassen\",\"Delicassen\",\"Delicassen\",\"Delicassen\",\"Delicassen\",\"Delicassen\",\"Delicassen\"],\"y0\":\" \",\"yaxis\":\"y\",\"type\":\"box\"}],                        {\"template\":{\"data\":{\"histogram2dcontour\":[{\"type\":\"histogram2dcontour\",\"colorbar\":{\"outlinewidth\":0,\"ticks\":\"\"},\"colorscale\":[[0.0,\"#0d0887\"],[0.1111111111111111,\"#46039f\"],[0.2222222222222222,\"#7201a8\"],[0.3333333333333333,\"#9c179e\"],[0.4444444444444444,\"#bd3786\"],[0.5555555555555556,\"#d8576b\"],[0.6666666666666666,\"#ed7953\"],[0.7777777777777778,\"#fb9f3a\"],[0.8888888888888888,\"#fdca26\"],[1.0,\"#f0f921\"]]}],\"choropleth\":[{\"type\":\"choropleth\",\"colorbar\":{\"outlinewidth\":0,\"ticks\":\"\"}}],\"histogram2d\":[{\"type\":\"histogram2d\",\"colorbar\":{\"outlinewidth\":0,\"ticks\":\"\"},\"colorscale\":[[0.0,\"#0d0887\"],[0.1111111111111111,\"#46039f\"],[0.2222222222222222,\"#7201a8\"],[0.3333333333333333,\"#9c179e\"],[0.4444444444444444,\"#bd3786\"],[0.5555555555555556,\"#d8576b\"],[0.6666666666666666,\"#ed7953\"],[0.7777777777777778,\"#fb9f3a\"],[0.8888888888888888,\"#fdca26\"],[1.0,\"#f0f921\"]]}],\"heatmap\":[{\"type\":\"heatmap\",\"colorbar\":{\"outlinewidth\":0,\"ticks\":\"\"},\"colorscale\":[[0.0,\"#0d0887\"],[0.1111111111111111,\"#46039f\"],[0.2222222222222222,\"#7201a8\"],[0.3333333333333333,\"#9c179e\"],[0.4444444444444444,\"#bd3786\"],[0.5555555555555556,\"#d8576b\"],[0.6666666666666666,\"#ed7953\"],[0.7777777777777778,\"#fb9f3a\"],[0.8888888888888888,\"#fdca26\"],[1.0,\"#f0f921\"]]}],\"heatmapgl\":[{\"type\":\"heatmapgl\",\"colorbar\":{\"outlinewidth\":0,\"ticks\":\"\"},\"colorscale\":[[0.0,\"#0d0887\"],[0.1111111111111111,\"#46039f\"],[0.2222222222222222,\"#7201a8\"],[0.3333333333333333,\"#9c179e\"],[0.4444444444444444,\"#bd3786\"],[0.5555555555555556,\"#d8576b\"],[0.6666666666666666,\"#ed7953\"],[0.7777777777777778,\"#fb9f3a\"],[0.8888888888888888,\"#fdca26\"],[1.0,\"#f0f921\"]]}],\"contourcarpet\":[{\"type\":\"contourcarpet\",\"colorbar\":{\"outlinewidth\":0,\"ticks\":\"\"}}],\"contour\":[{\"type\":\"contour\",\"colorbar\":{\"outlinewidth\":0,\"ticks\":\"\"},\"colorscale\":[[0.0,\"#0d0887\"],[0.1111111111111111,\"#46039f\"],[0.2222222222222222,\"#7201a8\"],[0.3333333333333333,\"#9c179e\"],[0.4444444444444444,\"#bd3786\"],[0.5555555555555556,\"#d8576b\"],[0.6666666666666666,\"#ed7953\"],[0.7777777777777778,\"#fb9f3a\"],[0.8888888888888888,\"#fdca26\"],[1.0,\"#f0f921\"]]}],\"surface\":[{\"type\":\"surface\",\"colorbar\":{\"outlinewidth\":0,\"ticks\":\"\"},\"colorscale\":[[0.0,\"#0d0887\"],[0.1111111111111111,\"#46039f\"],[0.2222222222222222,\"#7201a8\"],[0.3333333333333333,\"#9c179e\"],[0.4444444444444444,\"#bd3786\"],[0.5555555555555556,\"#d8576b\"],[0.6666666666666666,\"#ed7953\"],[0.7777777777777778,\"#fb9f3a\"],[0.8888888888888888,\"#fdca26\"],[1.0,\"#f0f921\"]]}],\"mesh3d\":[{\"type\":\"mesh3d\",\"colorbar\":{\"outlinewidth\":0,\"ticks\":\"\"}}],\"scatter\":[{\"fillpattern\":{\"fillmode\":\"overlay\",\"size\":10,\"solidity\":0.2},\"type\":\"scatter\"}],\"parcoords\":[{\"type\":\"parcoords\",\"line\":{\"colorbar\":{\"outlinewidth\":0,\"ticks\":\"\"}}}],\"scatterpolargl\":[{\"type\":\"scatterpolargl\",\"marker\":{\"colorbar\":{\"outlinewidth\":0,\"ticks\":\"\"}}}],\"bar\":[{\"error_x\":{\"color\":\"#2a3f5f\"},\"error_y\":{\"color\":\"#2a3f5f\"},\"marker\":{\"line\":{\"color\":\"#E5ECF6\",\"width\":0.5},\"pattern\":{\"fillmode\":\"overlay\",\"size\":10,\"solidity\":0.2}},\"type\":\"bar\"}],\"scattergeo\":[{\"type\":\"scattergeo\",\"marker\":{\"colorbar\":{\"outlinewidth\":0,\"ticks\":\"\"}}}],\"scatterpolar\":[{\"type\":\"scatterpolar\",\"marker\":{\"colorbar\":{\"outlinewidth\":0,\"ticks\":\"\"}}}],\"histogram\":[{\"marker\":{\"pattern\":{\"fillmode\":\"overlay\",\"size\":10,\"solidity\":0.2}},\"type\":\"histogram\"}],\"scattergl\":[{\"type\":\"scattergl\",\"marker\":{\"colorbar\":{\"outlinewidth\":0,\"ticks\":\"\"}}}],\"scatter3d\":[{\"type\":\"scatter3d\",\"line\":{\"colorbar\":{\"outlinewidth\":0,\"ticks\":\"\"}},\"marker\":{\"colorbar\":{\"outlinewidth\":0,\"ticks\":\"\"}}}],\"scattermapbox\":[{\"type\":\"scattermapbox\",\"marker\":{\"colorbar\":{\"outlinewidth\":0,\"ticks\":\"\"}}}],\"scatterternary\":[{\"type\":\"scatterternary\",\"marker\":{\"colorbar\":{\"outlinewidth\":0,\"ticks\":\"\"}}}],\"scattercarpet\":[{\"type\":\"scattercarpet\",\"marker\":{\"colorbar\":{\"outlinewidth\":0,\"ticks\":\"\"}}}],\"carpet\":[{\"aaxis\":{\"endlinecolor\":\"#2a3f5f\",\"gridcolor\":\"white\",\"linecolor\":\"white\",\"minorgridcolor\":\"white\",\"startlinecolor\":\"#2a3f5f\"},\"baxis\":{\"endlinecolor\":\"#2a3f5f\",\"gridcolor\":\"white\",\"linecolor\":\"white\",\"minorgridcolor\":\"white\",\"startlinecolor\":\"#2a3f5f\"},\"type\":\"carpet\"}],\"table\":[{\"cells\":{\"fill\":{\"color\":\"#EBF0F8\"},\"line\":{\"color\":\"white\"}},\"header\":{\"fill\":{\"color\":\"#C8D4E3\"},\"line\":{\"color\":\"white\"}},\"type\":\"table\"}],\"barpolar\":[{\"marker\":{\"line\":{\"color\":\"#E5ECF6\",\"width\":0.5},\"pattern\":{\"fillmode\":\"overlay\",\"size\":10,\"solidity\":0.2}},\"type\":\"barpolar\"}],\"pie\":[{\"automargin\":true,\"type\":\"pie\"}]},\"layout\":{\"autotypenumbers\":\"strict\",\"colorway\":[\"#636efa\",\"#EF553B\",\"#00cc96\",\"#ab63fa\",\"#FFA15A\",\"#19d3f3\",\"#FF6692\",\"#B6E880\",\"#FF97FF\",\"#FECB52\"],\"font\":{\"color\":\"#2a3f5f\"},\"hovermode\":\"closest\",\"hoverlabel\":{\"align\":\"left\"},\"paper_bgcolor\":\"white\",\"plot_bgcolor\":\"#E5ECF6\",\"polar\":{\"bgcolor\":\"#E5ECF6\",\"angularaxis\":{\"gridcolor\":\"white\",\"linecolor\":\"white\",\"ticks\":\"\"},\"radialaxis\":{\"gridcolor\":\"white\",\"linecolor\":\"white\",\"ticks\":\"\"}},\"ternary\":{\"bgcolor\":\"#E5ECF6\",\"aaxis\":{\"gridcolor\":\"white\",\"linecolor\":\"white\",\"ticks\":\"\"},\"baxis\":{\"gridcolor\":\"white\",\"linecolor\":\"white\",\"ticks\":\"\"},\"caxis\":{\"gridcolor\":\"white\",\"linecolor\":\"white\",\"ticks\":\"\"}},\"coloraxis\":{\"colorbar\":{\"outlinewidth\":0,\"ticks\":\"\"}},\"colorscale\":{\"sequential\":[[0.0,\"#0d0887\"],[0.1111111111111111,\"#46039f\"],[0.2222222222222222,\"#7201a8\"],[0.3333333333333333,\"#9c179e\"],[0.4444444444444444,\"#bd3786\"],[0.5555555555555556,\"#d8576b\"],[0.6666666666666666,\"#ed7953\"],[0.7777777777777778,\"#fb9f3a\"],[0.8888888888888888,\"#fdca26\"],[1.0,\"#f0f921\"]],\"sequentialminus\":[[0.0,\"#0d0887\"],[0.1111111111111111,\"#46039f\"],[0.2222222222222222,\"#7201a8\"],[0.3333333333333333,\"#9c179e\"],[0.4444444444444444,\"#bd3786\"],[0.5555555555555556,\"#d8576b\"],[0.6666666666666666,\"#ed7953\"],[0.7777777777777778,\"#fb9f3a\"],[0.8888888888888888,\"#fdca26\"],[1.0,\"#f0f921\"]],\"diverging\":[[0,\"#8e0152\"],[0.1,\"#c51b7d\"],[0.2,\"#de77ae\"],[0.3,\"#f1b6da\"],[0.4,\"#fde0ef\"],[0.5,\"#f7f7f7\"],[0.6,\"#e6f5d0\"],[0.7,\"#b8e186\"],[0.8,\"#7fbc41\"],[0.9,\"#4d9221\"],[1,\"#276419\"]]},\"xaxis\":{\"gridcolor\":\"white\",\"linecolor\":\"white\",\"ticks\":\"\",\"title\":{\"standoff\":15},\"zerolinecolor\":\"white\",\"automargin\":true,\"zerolinewidth\":2},\"yaxis\":{\"gridcolor\":\"white\",\"linecolor\":\"white\",\"ticks\":\"\",\"title\":{\"standoff\":15},\"zerolinecolor\":\"white\",\"automargin\":true,\"zerolinewidth\":2},\"scene\":{\"xaxis\":{\"backgroundcolor\":\"#E5ECF6\",\"gridcolor\":\"white\",\"linecolor\":\"white\",\"showbackground\":true,\"ticks\":\"\",\"zerolinecolor\":\"white\",\"gridwidth\":2},\"yaxis\":{\"backgroundcolor\":\"#E5ECF6\",\"gridcolor\":\"white\",\"linecolor\":\"white\",\"showbackground\":true,\"ticks\":\"\",\"zerolinecolor\":\"white\",\"gridwidth\":2},\"zaxis\":{\"backgroundcolor\":\"#E5ECF6\",\"gridcolor\":\"white\",\"linecolor\":\"white\",\"showbackground\":true,\"ticks\":\"\",\"zerolinecolor\":\"white\",\"gridwidth\":2}},\"shapedefaults\":{\"line\":{\"color\":\"#2a3f5f\"}},\"annotationdefaults\":{\"arrowcolor\":\"#2a3f5f\",\"arrowhead\":0,\"arrowwidth\":1},\"geo\":{\"bgcolor\":\"white\",\"landcolor\":\"#E5ECF6\",\"subunitcolor\":\"white\",\"showland\":true,\"showlakes\":true,\"lakecolor\":\"white\"},\"title\":{\"x\":0.05},\"mapbox\":{\"style\":\"light\"}}},\"xaxis\":{\"anchor\":\"y\",\"domain\":[0.0,1.0],\"title\":{\"text\":\"value\"}},\"yaxis\":{\"anchor\":\"x\",\"domain\":[0.0,1.0],\"title\":{\"text\":\"variable\"}},\"legend\":{\"tracegroupgap\":0},\"margin\":{\"t\":60},\"boxmode\":\"group\"},                        {\"responsive\": true}                    ).then(function(){\n",
       "                            \n",
       "var gd = document.getElementById('532e12f7-53ab-47b3-8fda-99de36fbab4e');\n",
       "var x = new MutationObserver(function (mutations, observer) {{\n",
       "        var display = window.getComputedStyle(gd).display;\n",
       "        if (!display || display === 'none') {{\n",
       "            console.log([gd, 'removed!']);\n",
       "            Plotly.purge(gd);\n",
       "            observer.disconnect();\n",
       "        }}\n",
       "}});\n",
       "\n",
       "// Listen for the removal of the full notebook cells\n",
       "var notebookContainer = gd.closest('#notebook-container');\n",
       "if (notebookContainer) {{\n",
       "    x.observe(notebookContainer, {childList: true});\n",
       "}}\n",
       "\n",
       "// Listen for the clearing of the current output cell\n",
       "var outputEl = gd.closest('.output');\n",
       "if (outputEl) {{\n",
       "    x.observe(outputEl, {childList: true});\n",
       "}}\n",
       "\n",
       "                        })                };                });            </script>        </div>"
      ]
     },
     "metadata": {},
     "output_type": "display_data"
    }
   ],
   "source": [
    "pe.box(df['Delicassen'], orientation='h')"
   ]
  },
  {
   "cell_type": "code",
   "execution_count": 19,
   "id": "338f8fd5",
   "metadata": {
    "ExecuteTime": {
     "end_time": "2023-11-04T04:41:52.418193Z",
     "start_time": "2023-11-04T04:41:52.368053Z"
    },
    "scrolled": true
   },
   "outputs": [
    {
     "data": {
      "text/html": [
       "<div>\n",
       "<style scoped>\n",
       "    .dataframe tbody tr th:only-of-type {\n",
       "        vertical-align: middle;\n",
       "    }\n",
       "\n",
       "    .dataframe tbody tr th {\n",
       "        vertical-align: top;\n",
       "    }\n",
       "\n",
       "    .dataframe thead th {\n",
       "        text-align: right;\n",
       "    }\n",
       "</style>\n",
       "<table border=\"1\" class=\"dataframe\">\n",
       "  <thead>\n",
       "    <tr style=\"text-align: right;\">\n",
       "      <th></th>\n",
       "      <th>Frozen</th>\n",
       "      <th>Delicassen</th>\n",
       "      <th>Outliers</th>\n",
       "    </tr>\n",
       "  </thead>\n",
       "  <tbody>\n",
       "    <tr>\n",
       "      <th>2</th>\n",
       "      <td>2405</td>\n",
       "      <td>7844</td>\n",
       "      <td>-1</td>\n",
       "    </tr>\n",
       "    <tr>\n",
       "      <th>4</th>\n",
       "      <td>3915</td>\n",
       "      <td>5185</td>\n",
       "      <td>-1</td>\n",
       "    </tr>\n",
       "    <tr>\n",
       "      <th>17</th>\n",
       "      <td>839</td>\n",
       "      <td>4478</td>\n",
       "      <td>-1</td>\n",
       "    </tr>\n",
       "    <tr>\n",
       "      <th>22</th>\n",
       "      <td>9408</td>\n",
       "      <td>4334</td>\n",
       "      <td>-1</td>\n",
       "    </tr>\n",
       "    <tr>\n",
       "      <th>23</th>\n",
       "      <td>5154</td>\n",
       "      <td>16523</td>\n",
       "      <td>-1</td>\n",
       "    </tr>\n",
       "    <tr>\n",
       "      <th>24</th>\n",
       "      <td>2915</td>\n",
       "      <td>5778</td>\n",
       "      <td>-1</td>\n",
       "    </tr>\n",
       "    <tr>\n",
       "      <th>28</th>\n",
       "      <td>1158</td>\n",
       "      <td>5206</td>\n",
       "      <td>-1</td>\n",
       "    </tr>\n",
       "    <tr>\n",
       "      <th>36</th>\n",
       "      <td>1729</td>\n",
       "      <td>4626</td>\n",
       "      <td>-1</td>\n",
       "    </tr>\n",
       "    <tr>\n",
       "      <th>39</th>\n",
       "      <td>10002</td>\n",
       "      <td>2916</td>\n",
       "      <td>-1</td>\n",
       "    </tr>\n",
       "    <tr>\n",
       "      <th>40</th>\n",
       "      <td>9510</td>\n",
       "      <td>5864</td>\n",
       "      <td>-1</td>\n",
       "    </tr>\n",
       "    <tr>\n",
       "      <th>45</th>\n",
       "      <td>1740</td>\n",
       "      <td>4985</td>\n",
       "      <td>-1</td>\n",
       "    </tr>\n",
       "    <tr>\n",
       "      <th>47</th>\n",
       "      <td>7782</td>\n",
       "      <td>6465</td>\n",
       "      <td>-1</td>\n",
       "    </tr>\n",
       "    <tr>\n",
       "      <th>70</th>\n",
       "      <td>10643</td>\n",
       "      <td>1365</td>\n",
       "      <td>-1</td>\n",
       "    </tr>\n",
       "    <tr>\n",
       "      <th>71</th>\n",
       "      <td>5373</td>\n",
       "      <td>14472</td>\n",
       "      <td>-1</td>\n",
       "    </tr>\n",
       "    <tr>\n",
       "      <th>72</th>\n",
       "      <td>8872</td>\n",
       "      <td>181</td>\n",
       "      <td>-1</td>\n",
       "    </tr>\n",
       "    <tr>\n",
       "      <th>87</th>\n",
       "      <td>6312</td>\n",
       "      <td>14351</td>\n",
       "      <td>-1</td>\n",
       "    </tr>\n",
       "    <tr>\n",
       "      <th>88</th>\n",
       "      <td>9735</td>\n",
       "      <td>46</td>\n",
       "      <td>-1</td>\n",
       "    </tr>\n",
       "    <tr>\n",
       "      <th>92</th>\n",
       "      <td>3232</td>\n",
       "      <td>5130</td>\n",
       "      <td>-1</td>\n",
       "    </tr>\n",
       "    <tr>\n",
       "      <th>93</th>\n",
       "      <td>35009</td>\n",
       "      <td>2698</td>\n",
       "      <td>-1</td>\n",
       "    </tr>\n",
       "    <tr>\n",
       "      <th>103</th>\n",
       "      <td>18028</td>\n",
       "      <td>2498</td>\n",
       "      <td>-1</td>\n",
       "    </tr>\n",
       "    <tr>\n",
       "      <th>125</th>\n",
       "      <td>16538</td>\n",
       "      <td>918</td>\n",
       "      <td>-1</td>\n",
       "    </tr>\n",
       "    <tr>\n",
       "      <th>145</th>\n",
       "      <td>42</td>\n",
       "      <td>4430</td>\n",
       "      <td>-1</td>\n",
       "    </tr>\n",
       "    <tr>\n",
       "      <th>171</th>\n",
       "      <td>651</td>\n",
       "      <td>6250</td>\n",
       "      <td>-1</td>\n",
       "    </tr>\n",
       "    <tr>\n",
       "      <th>181</th>\n",
       "      <td>16745</td>\n",
       "      <td>8550</td>\n",
       "      <td>-1</td>\n",
       "    </tr>\n",
       "    <tr>\n",
       "      <th>183</th>\n",
       "      <td>36534</td>\n",
       "      <td>47943</td>\n",
       "      <td>-1</td>\n",
       "    </tr>\n",
       "    <tr>\n",
       "      <th>187</th>\n",
       "      <td>6269</td>\n",
       "      <td>3</td>\n",
       "      <td>-1</td>\n",
       "    </tr>\n",
       "    <tr>\n",
       "      <th>190</th>\n",
       "      <td>7332</td>\n",
       "      <td>64</td>\n",
       "      <td>-1</td>\n",
       "    </tr>\n",
       "    <tr>\n",
       "      <th>196</th>\n",
       "      <td>18711</td>\n",
       "      <td>2876</td>\n",
       "      <td>-1</td>\n",
       "    </tr>\n",
       "    <tr>\n",
       "      <th>202</th>\n",
       "      <td>5065</td>\n",
       "      <td>6854</td>\n",
       "      <td>-1</td>\n",
       "    </tr>\n",
       "    <tr>\n",
       "      <th>218</th>\n",
       "      <td>1285</td>\n",
       "      <td>6372</td>\n",
       "      <td>-1</td>\n",
       "    </tr>\n",
       "    <tr>\n",
       "      <th>240</th>\n",
       "      <td>11422</td>\n",
       "      <td>2564</td>\n",
       "      <td>-1</td>\n",
       "    </tr>\n",
       "    <tr>\n",
       "      <th>251</th>\n",
       "      <td>6746</td>\n",
       "      <td>5121</td>\n",
       "      <td>-1</td>\n",
       "    </tr>\n",
       "    <tr>\n",
       "      <th>265</th>\n",
       "      <td>10155</td>\n",
       "      <td>3636</td>\n",
       "      <td>-1</td>\n",
       "    </tr>\n",
       "    <tr>\n",
       "      <th>277</th>\n",
       "      <td>16919</td>\n",
       "      <td>139</td>\n",
       "      <td>-1</td>\n",
       "    </tr>\n",
       "    <tr>\n",
       "      <th>283</th>\n",
       "      <td>10303</td>\n",
       "      <td>1384</td>\n",
       "      <td>-1</td>\n",
       "    </tr>\n",
       "    <tr>\n",
       "      <th>310</th>\n",
       "      <td>12569</td>\n",
       "      <td>1117</td>\n",
       "      <td>-1</td>\n",
       "    </tr>\n",
       "    <tr>\n",
       "      <th>325</th>\n",
       "      <td>60869</td>\n",
       "      <td>5609</td>\n",
       "      <td>-1</td>\n",
       "    </tr>\n",
       "    <tr>\n",
       "      <th>334</th>\n",
       "      <td>11559</td>\n",
       "      <td>3486</td>\n",
       "      <td>-1</td>\n",
       "    </tr>\n",
       "    <tr>\n",
       "      <th>338</th>\n",
       "      <td>15601</td>\n",
       "      <td>550</td>\n",
       "      <td>-1</td>\n",
       "    </tr>\n",
       "    <tr>\n",
       "      <th>358</th>\n",
       "      <td>6114</td>\n",
       "      <td>4100</td>\n",
       "      <td>-1</td>\n",
       "    </tr>\n",
       "    <tr>\n",
       "      <th>372</th>\n",
       "      <td>876</td>\n",
       "      <td>4829</td>\n",
       "      <td>-1</td>\n",
       "    </tr>\n",
       "    <tr>\n",
       "      <th>381</th>\n",
       "      <td>9927</td>\n",
       "      <td>532</td>\n",
       "      <td>-1</td>\n",
       "    </tr>\n",
       "    <tr>\n",
       "      <th>384</th>\n",
       "      <td>3635</td>\n",
       "      <td>5120</td>\n",
       "      <td>-1</td>\n",
       "    </tr>\n",
       "    <tr>\n",
       "      <th>401</th>\n",
       "      <td>13223</td>\n",
       "      <td>1902</td>\n",
       "      <td>-1</td>\n",
       "    </tr>\n",
       "    <tr>\n",
       "      <th>406</th>\n",
       "      <td>9806</td>\n",
       "      <td>960</td>\n",
       "      <td>-1</td>\n",
       "    </tr>\n",
       "    <tr>\n",
       "      <th>409</th>\n",
       "      <td>2349</td>\n",
       "      <td>5137</td>\n",
       "      <td>-1</td>\n",
       "    </tr>\n",
       "    <tr>\n",
       "      <th>413</th>\n",
       "      <td>17866</td>\n",
       "      <td>2435</td>\n",
       "      <td>-1</td>\n",
       "    </tr>\n",
       "    <tr>\n",
       "      <th>425</th>\n",
       "      <td>15348</td>\n",
       "      <td>1886</td>\n",
       "      <td>-1</td>\n",
       "    </tr>\n",
       "    <tr>\n",
       "      <th>427</th>\n",
       "      <td>15082</td>\n",
       "      <td>1163</td>\n",
       "      <td>-1</td>\n",
       "    </tr>\n",
       "    <tr>\n",
       "      <th>431</th>\n",
       "      <td>13486</td>\n",
       "      <td>1498</td>\n",
       "      <td>-1</td>\n",
       "    </tr>\n",
       "    <tr>\n",
       "      <th>435</th>\n",
       "      <td>13135</td>\n",
       "      <td>2204</td>\n",
       "      <td>-1</td>\n",
       "    </tr>\n",
       "  </tbody>\n",
       "</table>\n",
       "</div>"
      ],
      "text/plain": [
       "     Frozen  Delicassen  Outliers\n",
       "2      2405        7844        -1\n",
       "4      3915        5185        -1\n",
       "17      839        4478        -1\n",
       "22     9408        4334        -1\n",
       "23     5154       16523        -1\n",
       "24     2915        5778        -1\n",
       "28     1158        5206        -1\n",
       "36     1729        4626        -1\n",
       "39    10002        2916        -1\n",
       "40     9510        5864        -1\n",
       "45     1740        4985        -1\n",
       "47     7782        6465        -1\n",
       "70    10643        1365        -1\n",
       "71     5373       14472        -1\n",
       "72     8872         181        -1\n",
       "87     6312       14351        -1\n",
       "88     9735          46        -1\n",
       "92     3232        5130        -1\n",
       "93    35009        2698        -1\n",
       "103   18028        2498        -1\n",
       "125   16538         918        -1\n",
       "145      42        4430        -1\n",
       "171     651        6250        -1\n",
       "181   16745        8550        -1\n",
       "183   36534       47943        -1\n",
       "187    6269           3        -1\n",
       "190    7332          64        -1\n",
       "196   18711        2876        -1\n",
       "202    5065        6854        -1\n",
       "218    1285        6372        -1\n",
       "240   11422        2564        -1\n",
       "251    6746        5121        -1\n",
       "265   10155        3636        -1\n",
       "277   16919         139        -1\n",
       "283   10303        1384        -1\n",
       "310   12569        1117        -1\n",
       "325   60869        5609        -1\n",
       "334   11559        3486        -1\n",
       "338   15601         550        -1\n",
       "358    6114        4100        -1\n",
       "372     876        4829        -1\n",
       "381    9927         532        -1\n",
       "384    3635        5120        -1\n",
       "401   13223        1902        -1\n",
       "406    9806         960        -1\n",
       "409    2349        5137        -1\n",
       "413   17866        2435        -1\n",
       "425   15348        1886        -1\n",
       "427   15082        1163        -1\n",
       "431   13486        1498        -1\n",
       "435   13135        2204        -1"
      ]
     },
     "execution_count": 19,
     "metadata": {},
     "output_type": "execute_result"
    }
   ],
   "source": [
    "df[df['Outliers'] == -1]"
   ]
  },
  {
   "cell_type": "code",
   "execution_count": 20,
   "id": "6dba9938",
   "metadata": {
    "ExecuteTime": {
     "end_time": "2023-11-04T04:42:10.684750Z",
     "start_time": "2023-11-04T04:42:10.643869Z"
    }
   },
   "outputs": [
    {
     "data": {
      "text/plain": [
       " 1    389\n",
       "-1     51\n",
       "Name: Outliers, dtype: int64"
      ]
     },
     "execution_count": 20,
     "metadata": {},
     "output_type": "execute_result"
    }
   ],
   "source": [
    "df['Outliers'].value_counts()"
   ]
  },
  {
   "cell_type": "markdown",
   "id": "494976d0",
   "metadata": {},
   "source": [
    "# PPS"
   ]
  },
  {
   "cell_type": "code",
   "execution_count": null,
   "id": "26b49ab4",
   "metadata": {
    "ExecuteTime": {
     "end_time": "2023-10-28T13:45:29.472658Z",
     "start_time": "2023-10-28T13:45:29.458493Z"
    }
   },
   "outputs": [],
   "source": [
    "# !pip install ppscore"
   ]
  },
  {
   "cell_type": "code",
   "execution_count": 21,
   "id": "cd7e079d",
   "metadata": {
    "ExecuteTime": {
     "end_time": "2023-11-04T05:15:59.684181Z",
     "start_time": "2023-11-04T05:15:59.644492Z"
    }
   },
   "outputs": [],
   "source": [
    "import pandas as pd\n",
    "import ppscore as ps"
   ]
  },
  {
   "cell_type": "code",
   "execution_count": 22,
   "id": "ff5d744f",
   "metadata": {
    "ExecuteTime": {
     "end_time": "2023-11-04T05:16:02.085555Z",
     "start_time": "2023-11-04T05:16:01.578665Z"
    }
   },
   "outputs": [
    {
     "data": {
      "text/html": [
       "<div>\n",
       "<style scoped>\n",
       "    .dataframe tbody tr th:only-of-type {\n",
       "        vertical-align: middle;\n",
       "    }\n",
       "\n",
       "    .dataframe tbody tr th {\n",
       "        vertical-align: top;\n",
       "    }\n",
       "\n",
       "    .dataframe thead th {\n",
       "        text-align: right;\n",
       "    }\n",
       "</style>\n",
       "<table border=\"1\" class=\"dataframe\">\n",
       "  <thead>\n",
       "    <tr style=\"text-align: right;\">\n",
       "      <th></th>\n",
       "      <th>SepalLengthCm</th>\n",
       "      <th>SepalWidthCm</th>\n",
       "      <th>PetalLengthCm</th>\n",
       "      <th>PetalWidthCm</th>\n",
       "      <th>Species</th>\n",
       "    </tr>\n",
       "    <tr>\n",
       "      <th>Id</th>\n",
       "      <th></th>\n",
       "      <th></th>\n",
       "      <th></th>\n",
       "      <th></th>\n",
       "      <th></th>\n",
       "    </tr>\n",
       "  </thead>\n",
       "  <tbody>\n",
       "    <tr>\n",
       "      <th>1</th>\n",
       "      <td>5.1</td>\n",
       "      <td>3.5</td>\n",
       "      <td>1.4</td>\n",
       "      <td>0.2</td>\n",
       "      <td>Iris-setosa</td>\n",
       "    </tr>\n",
       "    <tr>\n",
       "      <th>2</th>\n",
       "      <td>4.9</td>\n",
       "      <td>3.0</td>\n",
       "      <td>1.4</td>\n",
       "      <td>0.2</td>\n",
       "      <td>Iris-setosa</td>\n",
       "    </tr>\n",
       "    <tr>\n",
       "      <th>3</th>\n",
       "      <td>4.7</td>\n",
       "      <td>3.2</td>\n",
       "      <td>1.3</td>\n",
       "      <td>0.2</td>\n",
       "      <td>Iris-setosa</td>\n",
       "    </tr>\n",
       "    <tr>\n",
       "      <th>4</th>\n",
       "      <td>4.6</td>\n",
       "      <td>3.1</td>\n",
       "      <td>1.5</td>\n",
       "      <td>0.2</td>\n",
       "      <td>Iris-setosa</td>\n",
       "    </tr>\n",
       "    <tr>\n",
       "      <th>5</th>\n",
       "      <td>5.0</td>\n",
       "      <td>3.6</td>\n",
       "      <td>1.4</td>\n",
       "      <td>0.2</td>\n",
       "      <td>Iris-setosa</td>\n",
       "    </tr>\n",
       "    <tr>\n",
       "      <th>...</th>\n",
       "      <td>...</td>\n",
       "      <td>...</td>\n",
       "      <td>...</td>\n",
       "      <td>...</td>\n",
       "      <td>...</td>\n",
       "    </tr>\n",
       "    <tr>\n",
       "      <th>146</th>\n",
       "      <td>6.7</td>\n",
       "      <td>3.0</td>\n",
       "      <td>5.2</td>\n",
       "      <td>2.3</td>\n",
       "      <td>Iris-virginica</td>\n",
       "    </tr>\n",
       "    <tr>\n",
       "      <th>147</th>\n",
       "      <td>6.3</td>\n",
       "      <td>2.5</td>\n",
       "      <td>5.0</td>\n",
       "      <td>1.9</td>\n",
       "      <td>Iris-virginica</td>\n",
       "    </tr>\n",
       "    <tr>\n",
       "      <th>148</th>\n",
       "      <td>6.5</td>\n",
       "      <td>3.0</td>\n",
       "      <td>5.2</td>\n",
       "      <td>2.0</td>\n",
       "      <td>Iris-virginica</td>\n",
       "    </tr>\n",
       "    <tr>\n",
       "      <th>149</th>\n",
       "      <td>6.2</td>\n",
       "      <td>3.4</td>\n",
       "      <td>5.4</td>\n",
       "      <td>2.3</td>\n",
       "      <td>Iris-virginica</td>\n",
       "    </tr>\n",
       "    <tr>\n",
       "      <th>150</th>\n",
       "      <td>5.9</td>\n",
       "      <td>3.0</td>\n",
       "      <td>5.1</td>\n",
       "      <td>1.8</td>\n",
       "      <td>Iris-virginica</td>\n",
       "    </tr>\n",
       "  </tbody>\n",
       "</table>\n",
       "<p>150 rows × 5 columns</p>\n",
       "</div>"
      ],
      "text/plain": [
       "     SepalLengthCm  SepalWidthCm  PetalLengthCm  PetalWidthCm         Species\n",
       "Id                                                                           \n",
       "1              5.1           3.5            1.4           0.2     Iris-setosa\n",
       "2              4.9           3.0            1.4           0.2     Iris-setosa\n",
       "3              4.7           3.2            1.3           0.2     Iris-setosa\n",
       "4              4.6           3.1            1.5           0.2     Iris-setosa\n",
       "5              5.0           3.6            1.4           0.2     Iris-setosa\n",
       "..             ...           ...            ...           ...             ...\n",
       "146            6.7           3.0            5.2           2.3  Iris-virginica\n",
       "147            6.3           2.5            5.0           1.9  Iris-virginica\n",
       "148            6.5           3.0            5.2           2.0  Iris-virginica\n",
       "149            6.2           3.4            5.4           2.3  Iris-virginica\n",
       "150            5.9           3.0            5.1           1.8  Iris-virginica\n",
       "\n",
       "[150 rows x 5 columns]"
      ]
     },
     "execution_count": 22,
     "metadata": {},
     "output_type": "execute_result"
    }
   ],
   "source": [
    "df = pd.read_csv('https://raw.githubusercontent.com/aishwaryamate/Datasets/main/Iris.csv',\n",
    "                index_col=0)\n",
    "df"
   ]
  },
  {
   "cell_type": "code",
   "execution_count": 23,
   "id": "cf9d0a24",
   "metadata": {
    "ExecuteTime": {
     "end_time": "2023-11-04T05:18:10.976172Z",
     "start_time": "2023-11-04T05:18:10.876260Z"
    }
   },
   "outputs": [
    {
     "data": {
      "text/plain": [
       "{'x': 'SepalLengthCm',\n",
       " 'y': 'Species',\n",
       " 'ppscore': 0.47164941668027915,\n",
       " 'case': 'classification',\n",
       " 'is_valid_score': True,\n",
       " 'metric': 'weighted F1',\n",
       " 'baseline_score': 0.35333333333333333,\n",
       " 'model_score': 0.6583332894532472,\n",
       " 'model': DecisionTreeClassifier()}"
      ]
     },
     "execution_count": 23,
     "metadata": {},
     "output_type": "execute_result"
    }
   ],
   "source": [
    "ps.score(df, x='SepalLengthCm',y = 'Species')"
   ]
  },
  {
   "cell_type": "code",
   "execution_count": 24,
   "id": "b57976e5",
   "metadata": {
    "ExecuteTime": {
     "end_time": "2023-11-04T05:20:34.704203Z",
     "start_time": "2023-11-04T05:20:34.153539Z"
    }
   },
   "outputs": [],
   "source": [
    "feature_sel = ps.matrix(df)"
   ]
  },
  {
   "cell_type": "code",
   "execution_count": 25,
   "id": "08b710a0",
   "metadata": {
    "ExecuteTime": {
     "end_time": "2023-11-04T05:20:37.352349Z",
     "start_time": "2023-11-04T05:20:37.266426Z"
    }
   },
   "outputs": [
    {
     "data": {
      "text/html": [
       "<div>\n",
       "<style scoped>\n",
       "    .dataframe tbody tr th:only-of-type {\n",
       "        vertical-align: middle;\n",
       "    }\n",
       "\n",
       "    .dataframe tbody tr th {\n",
       "        vertical-align: top;\n",
       "    }\n",
       "\n",
       "    .dataframe thead th {\n",
       "        text-align: right;\n",
       "    }\n",
       "</style>\n",
       "<table border=\"1\" class=\"dataframe\">\n",
       "  <thead>\n",
       "    <tr style=\"text-align: right;\">\n",
       "      <th></th>\n",
       "      <th>x</th>\n",
       "      <th>y</th>\n",
       "      <th>ppscore</th>\n",
       "      <th>case</th>\n",
       "      <th>is_valid_score</th>\n",
       "      <th>metric</th>\n",
       "      <th>baseline_score</th>\n",
       "      <th>model_score</th>\n",
       "      <th>model</th>\n",
       "    </tr>\n",
       "  </thead>\n",
       "  <tbody>\n",
       "    <tr>\n",
       "      <th>0</th>\n",
       "      <td>SepalLengthCm</td>\n",
       "      <td>SepalLengthCm</td>\n",
       "      <td>1.000000</td>\n",
       "      <td>predict_itself</td>\n",
       "      <td>True</td>\n",
       "      <td>None</td>\n",
       "      <td>0.000000</td>\n",
       "      <td>1.000000</td>\n",
       "      <td>None</td>\n",
       "    </tr>\n",
       "    <tr>\n",
       "      <th>1</th>\n",
       "      <td>SepalLengthCm</td>\n",
       "      <td>SepalWidthCm</td>\n",
       "      <td>0.000000</td>\n",
       "      <td>regression</td>\n",
       "      <td>True</td>\n",
       "      <td>mean absolute error</td>\n",
       "      <td>0.327333</td>\n",
       "      <td>0.362073</td>\n",
       "      <td>DecisionTreeRegressor()</td>\n",
       "    </tr>\n",
       "    <tr>\n",
       "      <th>2</th>\n",
       "      <td>SepalLengthCm</td>\n",
       "      <td>PetalLengthCm</td>\n",
       "      <td>0.550575</td>\n",
       "      <td>regression</td>\n",
       "      <td>True</td>\n",
       "      <td>mean absolute error</td>\n",
       "      <td>1.488000</td>\n",
       "      <td>0.668745</td>\n",
       "      <td>DecisionTreeRegressor()</td>\n",
       "    </tr>\n",
       "    <tr>\n",
       "      <th>3</th>\n",
       "      <td>SepalLengthCm</td>\n",
       "      <td>PetalWidthCm</td>\n",
       "      <td>0.431163</td>\n",
       "      <td>regression</td>\n",
       "      <td>True</td>\n",
       "      <td>mean absolute error</td>\n",
       "      <td>0.645333</td>\n",
       "      <td>0.367090</td>\n",
       "      <td>DecisionTreeRegressor()</td>\n",
       "    </tr>\n",
       "    <tr>\n",
       "      <th>4</th>\n",
       "      <td>SepalLengthCm</td>\n",
       "      <td>Species</td>\n",
       "      <td>0.471649</td>\n",
       "      <td>classification</td>\n",
       "      <td>True</td>\n",
       "      <td>weighted F1</td>\n",
       "      <td>0.353333</td>\n",
       "      <td>0.658333</td>\n",
       "      <td>DecisionTreeClassifier()</td>\n",
       "    </tr>\n",
       "    <tr>\n",
       "      <th>5</th>\n",
       "      <td>SepalWidthCm</td>\n",
       "      <td>SepalLengthCm</td>\n",
       "      <td>0.001902</td>\n",
       "      <td>regression</td>\n",
       "      <td>True</td>\n",
       "      <td>mean absolute error</td>\n",
       "      <td>0.684667</td>\n",
       "      <td>0.683364</td>\n",
       "      <td>DecisionTreeRegressor()</td>\n",
       "    </tr>\n",
       "    <tr>\n",
       "      <th>6</th>\n",
       "      <td>SepalWidthCm</td>\n",
       "      <td>SepalWidthCm</td>\n",
       "      <td>1.000000</td>\n",
       "      <td>predict_itself</td>\n",
       "      <td>True</td>\n",
       "      <td>None</td>\n",
       "      <td>0.000000</td>\n",
       "      <td>1.000000</td>\n",
       "      <td>None</td>\n",
       "    </tr>\n",
       "    <tr>\n",
       "      <th>7</th>\n",
       "      <td>SepalWidthCm</td>\n",
       "      <td>PetalLengthCm</td>\n",
       "      <td>0.167773</td>\n",
       "      <td>regression</td>\n",
       "      <td>True</td>\n",
       "      <td>mean absolute error</td>\n",
       "      <td>1.488000</td>\n",
       "      <td>1.238354</td>\n",
       "      <td>DecisionTreeRegressor()</td>\n",
       "    </tr>\n",
       "    <tr>\n",
       "      <th>8</th>\n",
       "      <td>SepalWidthCm</td>\n",
       "      <td>PetalWidthCm</td>\n",
       "      <td>0.129681</td>\n",
       "      <td>regression</td>\n",
       "      <td>True</td>\n",
       "      <td>mean absolute error</td>\n",
       "      <td>0.645333</td>\n",
       "      <td>0.561646</td>\n",
       "      <td>DecisionTreeRegressor()</td>\n",
       "    </tr>\n",
       "    <tr>\n",
       "      <th>9</th>\n",
       "      <td>SepalWidthCm</td>\n",
       "      <td>Species</td>\n",
       "      <td>0.179145</td>\n",
       "      <td>classification</td>\n",
       "      <td>True</td>\n",
       "      <td>weighted F1</td>\n",
       "      <td>0.353333</td>\n",
       "      <td>0.469180</td>\n",
       "      <td>DecisionTreeClassifier()</td>\n",
       "    </tr>\n",
       "    <tr>\n",
       "      <th>10</th>\n",
       "      <td>PetalLengthCm</td>\n",
       "      <td>SepalLengthCm</td>\n",
       "      <td>0.524480</td>\n",
       "      <td>regression</td>\n",
       "      <td>True</td>\n",
       "      <td>mean absolute error</td>\n",
       "      <td>0.684667</td>\n",
       "      <td>0.325573</td>\n",
       "      <td>DecisionTreeRegressor()</td>\n",
       "    </tr>\n",
       "    <tr>\n",
       "      <th>11</th>\n",
       "      <td>PetalLengthCm</td>\n",
       "      <td>SepalWidthCm</td>\n",
       "      <td>0.041298</td>\n",
       "      <td>regression</td>\n",
       "      <td>True</td>\n",
       "      <td>mean absolute error</td>\n",
       "      <td>0.327333</td>\n",
       "      <td>0.313815</td>\n",
       "      <td>DecisionTreeRegressor()</td>\n",
       "    </tr>\n",
       "    <tr>\n",
       "      <th>12</th>\n",
       "      <td>PetalLengthCm</td>\n",
       "      <td>PetalLengthCm</td>\n",
       "      <td>1.000000</td>\n",
       "      <td>predict_itself</td>\n",
       "      <td>True</td>\n",
       "      <td>None</td>\n",
       "      <td>0.000000</td>\n",
       "      <td>1.000000</td>\n",
       "      <td>None</td>\n",
       "    </tr>\n",
       "    <tr>\n",
       "      <th>13</th>\n",
       "      <td>PetalLengthCm</td>\n",
       "      <td>PetalWidthCm</td>\n",
       "      <td>0.745236</td>\n",
       "      <td>regression</td>\n",
       "      <td>True</td>\n",
       "      <td>mean absolute error</td>\n",
       "      <td>0.645333</td>\n",
       "      <td>0.164408</td>\n",
       "      <td>DecisionTreeRegressor()</td>\n",
       "    </tr>\n",
       "    <tr>\n",
       "      <th>14</th>\n",
       "      <td>PetalLengthCm</td>\n",
       "      <td>Species</td>\n",
       "      <td>0.884812</td>\n",
       "      <td>classification</td>\n",
       "      <td>True</td>\n",
       "      <td>weighted F1</td>\n",
       "      <td>0.353333</td>\n",
       "      <td>0.925512</td>\n",
       "      <td>DecisionTreeClassifier()</td>\n",
       "    </tr>\n",
       "    <tr>\n",
       "      <th>15</th>\n",
       "      <td>PetalWidthCm</td>\n",
       "      <td>SepalLengthCm</td>\n",
       "      <td>0.384320</td>\n",
       "      <td>regression</td>\n",
       "      <td>True</td>\n",
       "      <td>mean absolute error</td>\n",
       "      <td>0.684667</td>\n",
       "      <td>0.421535</td>\n",
       "      <td>DecisionTreeRegressor()</td>\n",
       "    </tr>\n",
       "    <tr>\n",
       "      <th>16</th>\n",
       "      <td>PetalWidthCm</td>\n",
       "      <td>SepalWidthCm</td>\n",
       "      <td>0.258780</td>\n",
       "      <td>regression</td>\n",
       "      <td>True</td>\n",
       "      <td>mean absolute error</td>\n",
       "      <td>0.327333</td>\n",
       "      <td>0.242626</td>\n",
       "      <td>DecisionTreeRegressor()</td>\n",
       "    </tr>\n",
       "    <tr>\n",
       "      <th>17</th>\n",
       "      <td>PetalWidthCm</td>\n",
       "      <td>PetalLengthCm</td>\n",
       "      <td>0.798971</td>\n",
       "      <td>regression</td>\n",
       "      <td>True</td>\n",
       "      <td>mean absolute error</td>\n",
       "      <td>1.488000</td>\n",
       "      <td>0.299131</td>\n",
       "      <td>DecisionTreeRegressor()</td>\n",
       "    </tr>\n",
       "    <tr>\n",
       "      <th>18</th>\n",
       "      <td>PetalWidthCm</td>\n",
       "      <td>PetalWidthCm</td>\n",
       "      <td>1.000000</td>\n",
       "      <td>predict_itself</td>\n",
       "      <td>True</td>\n",
       "      <td>None</td>\n",
       "      <td>0.000000</td>\n",
       "      <td>1.000000</td>\n",
       "      <td>None</td>\n",
       "    </tr>\n",
       "    <tr>\n",
       "      <th>19</th>\n",
       "      <td>PetalWidthCm</td>\n",
       "      <td>Species</td>\n",
       "      <td>0.927652</td>\n",
       "      <td>classification</td>\n",
       "      <td>True</td>\n",
       "      <td>weighted F1</td>\n",
       "      <td>0.353333</td>\n",
       "      <td>0.953215</td>\n",
       "      <td>DecisionTreeClassifier()</td>\n",
       "    </tr>\n",
       "    <tr>\n",
       "      <th>20</th>\n",
       "      <td>Species</td>\n",
       "      <td>SepalLengthCm</td>\n",
       "      <td>0.409634</td>\n",
       "      <td>regression</td>\n",
       "      <td>True</td>\n",
       "      <td>mean absolute error</td>\n",
       "      <td>0.684667</td>\n",
       "      <td>0.404204</td>\n",
       "      <td>DecisionTreeRegressor()</td>\n",
       "    </tr>\n",
       "    <tr>\n",
       "      <th>21</th>\n",
       "      <td>Species</td>\n",
       "      <td>SepalWidthCm</td>\n",
       "      <td>0.183645</td>\n",
       "      <td>regression</td>\n",
       "      <td>True</td>\n",
       "      <td>mean absolute error</td>\n",
       "      <td>0.327333</td>\n",
       "      <td>0.267220</td>\n",
       "      <td>DecisionTreeRegressor()</td>\n",
       "    </tr>\n",
       "    <tr>\n",
       "      <th>22</th>\n",
       "      <td>Species</td>\n",
       "      <td>PetalLengthCm</td>\n",
       "      <td>0.785451</td>\n",
       "      <td>regression</td>\n",
       "      <td>True</td>\n",
       "      <td>mean absolute error</td>\n",
       "      <td>1.488000</td>\n",
       "      <td>0.319249</td>\n",
       "      <td>DecisionTreeRegressor()</td>\n",
       "    </tr>\n",
       "    <tr>\n",
       "      <th>23</th>\n",
       "      <td>Species</td>\n",
       "      <td>PetalWidthCm</td>\n",
       "      <td>0.755378</td>\n",
       "      <td>regression</td>\n",
       "      <td>True</td>\n",
       "      <td>mean absolute error</td>\n",
       "      <td>0.645333</td>\n",
       "      <td>0.157863</td>\n",
       "      <td>DecisionTreeRegressor()</td>\n",
       "    </tr>\n",
       "    <tr>\n",
       "      <th>24</th>\n",
       "      <td>Species</td>\n",
       "      <td>Species</td>\n",
       "      <td>1.000000</td>\n",
       "      <td>predict_itself</td>\n",
       "      <td>True</td>\n",
       "      <td>None</td>\n",
       "      <td>0.000000</td>\n",
       "      <td>1.000000</td>\n",
       "      <td>None</td>\n",
       "    </tr>\n",
       "  </tbody>\n",
       "</table>\n",
       "</div>"
      ],
      "text/plain": [
       "                x              y   ppscore            case  is_valid_score  \\\n",
       "0   SepalLengthCm  SepalLengthCm  1.000000  predict_itself            True   \n",
       "1   SepalLengthCm   SepalWidthCm  0.000000      regression            True   \n",
       "2   SepalLengthCm  PetalLengthCm  0.550575      regression            True   \n",
       "3   SepalLengthCm   PetalWidthCm  0.431163      regression            True   \n",
       "4   SepalLengthCm        Species  0.471649  classification            True   \n",
       "5    SepalWidthCm  SepalLengthCm  0.001902      regression            True   \n",
       "6    SepalWidthCm   SepalWidthCm  1.000000  predict_itself            True   \n",
       "7    SepalWidthCm  PetalLengthCm  0.167773      regression            True   \n",
       "8    SepalWidthCm   PetalWidthCm  0.129681      regression            True   \n",
       "9    SepalWidthCm        Species  0.179145  classification            True   \n",
       "10  PetalLengthCm  SepalLengthCm  0.524480      regression            True   \n",
       "11  PetalLengthCm   SepalWidthCm  0.041298      regression            True   \n",
       "12  PetalLengthCm  PetalLengthCm  1.000000  predict_itself            True   \n",
       "13  PetalLengthCm   PetalWidthCm  0.745236      regression            True   \n",
       "14  PetalLengthCm        Species  0.884812  classification            True   \n",
       "15   PetalWidthCm  SepalLengthCm  0.384320      regression            True   \n",
       "16   PetalWidthCm   SepalWidthCm  0.258780      regression            True   \n",
       "17   PetalWidthCm  PetalLengthCm  0.798971      regression            True   \n",
       "18   PetalWidthCm   PetalWidthCm  1.000000  predict_itself            True   \n",
       "19   PetalWidthCm        Species  0.927652  classification            True   \n",
       "20        Species  SepalLengthCm  0.409634      regression            True   \n",
       "21        Species   SepalWidthCm  0.183645      regression            True   \n",
       "22        Species  PetalLengthCm  0.785451      regression            True   \n",
       "23        Species   PetalWidthCm  0.755378      regression            True   \n",
       "24        Species        Species  1.000000  predict_itself            True   \n",
       "\n",
       "                 metric  baseline_score  model_score                     model  \n",
       "0                  None        0.000000     1.000000                      None  \n",
       "1   mean absolute error        0.327333     0.362073   DecisionTreeRegressor()  \n",
       "2   mean absolute error        1.488000     0.668745   DecisionTreeRegressor()  \n",
       "3   mean absolute error        0.645333     0.367090   DecisionTreeRegressor()  \n",
       "4           weighted F1        0.353333     0.658333  DecisionTreeClassifier()  \n",
       "5   mean absolute error        0.684667     0.683364   DecisionTreeRegressor()  \n",
       "6                  None        0.000000     1.000000                      None  \n",
       "7   mean absolute error        1.488000     1.238354   DecisionTreeRegressor()  \n",
       "8   mean absolute error        0.645333     0.561646   DecisionTreeRegressor()  \n",
       "9           weighted F1        0.353333     0.469180  DecisionTreeClassifier()  \n",
       "10  mean absolute error        0.684667     0.325573   DecisionTreeRegressor()  \n",
       "11  mean absolute error        0.327333     0.313815   DecisionTreeRegressor()  \n",
       "12                 None        0.000000     1.000000                      None  \n",
       "13  mean absolute error        0.645333     0.164408   DecisionTreeRegressor()  \n",
       "14          weighted F1        0.353333     0.925512  DecisionTreeClassifier()  \n",
       "15  mean absolute error        0.684667     0.421535   DecisionTreeRegressor()  \n",
       "16  mean absolute error        0.327333     0.242626   DecisionTreeRegressor()  \n",
       "17  mean absolute error        1.488000     0.299131   DecisionTreeRegressor()  \n",
       "18                 None        0.000000     1.000000                      None  \n",
       "19          weighted F1        0.353333     0.953215  DecisionTreeClassifier()  \n",
       "20  mean absolute error        0.684667     0.404204   DecisionTreeRegressor()  \n",
       "21  mean absolute error        0.327333     0.267220   DecisionTreeRegressor()  \n",
       "22  mean absolute error        1.488000     0.319249   DecisionTreeRegressor()  \n",
       "23  mean absolute error        0.645333     0.157863   DecisionTreeRegressor()  \n",
       "24                 None        0.000000     1.000000                      None  "
      ]
     },
     "execution_count": 25,
     "metadata": {},
     "output_type": "execute_result"
    }
   ],
   "source": [
    "feature_sel"
   ]
  },
  {
   "cell_type": "code",
   "execution_count": 26,
   "id": "a0923345",
   "metadata": {
    "ExecuteTime": {
     "end_time": "2023-11-04T05:25:07.650819Z",
     "start_time": "2023-11-04T05:25:07.603567Z"
    }
   },
   "outputs": [
    {
     "data": {
      "text/html": [
       "<div>\n",
       "<style scoped>\n",
       "    .dataframe tbody tr th:only-of-type {\n",
       "        vertical-align: middle;\n",
       "    }\n",
       "\n",
       "    .dataframe tbody tr th {\n",
       "        vertical-align: top;\n",
       "    }\n",
       "\n",
       "    .dataframe thead th {\n",
       "        text-align: right;\n",
       "    }\n",
       "</style>\n",
       "<table border=\"1\" class=\"dataframe\">\n",
       "  <thead>\n",
       "    <tr style=\"text-align: right;\">\n",
       "      <th></th>\n",
       "      <th>x</th>\n",
       "      <th>y</th>\n",
       "      <th>ppscore</th>\n",
       "      <th>case</th>\n",
       "      <th>is_valid_score</th>\n",
       "      <th>metric</th>\n",
       "      <th>baseline_score</th>\n",
       "      <th>model_score</th>\n",
       "      <th>model</th>\n",
       "    </tr>\n",
       "  </thead>\n",
       "  <tbody>\n",
       "    <tr>\n",
       "      <th>4</th>\n",
       "      <td>SepalLengthCm</td>\n",
       "      <td>Species</td>\n",
       "      <td>0.471649</td>\n",
       "      <td>classification</td>\n",
       "      <td>True</td>\n",
       "      <td>weighted F1</td>\n",
       "      <td>0.353333</td>\n",
       "      <td>0.658333</td>\n",
       "      <td>DecisionTreeClassifier()</td>\n",
       "    </tr>\n",
       "    <tr>\n",
       "      <th>9</th>\n",
       "      <td>SepalWidthCm</td>\n",
       "      <td>Species</td>\n",
       "      <td>0.179145</td>\n",
       "      <td>classification</td>\n",
       "      <td>True</td>\n",
       "      <td>weighted F1</td>\n",
       "      <td>0.353333</td>\n",
       "      <td>0.469180</td>\n",
       "      <td>DecisionTreeClassifier()</td>\n",
       "    </tr>\n",
       "    <tr>\n",
       "      <th>14</th>\n",
       "      <td>PetalLengthCm</td>\n",
       "      <td>Species</td>\n",
       "      <td>0.884812</td>\n",
       "      <td>classification</td>\n",
       "      <td>True</td>\n",
       "      <td>weighted F1</td>\n",
       "      <td>0.353333</td>\n",
       "      <td>0.925512</td>\n",
       "      <td>DecisionTreeClassifier()</td>\n",
       "    </tr>\n",
       "    <tr>\n",
       "      <th>19</th>\n",
       "      <td>PetalWidthCm</td>\n",
       "      <td>Species</td>\n",
       "      <td>0.927652</td>\n",
       "      <td>classification</td>\n",
       "      <td>True</td>\n",
       "      <td>weighted F1</td>\n",
       "      <td>0.353333</td>\n",
       "      <td>0.953215</td>\n",
       "      <td>DecisionTreeClassifier()</td>\n",
       "    </tr>\n",
       "    <tr>\n",
       "      <th>24</th>\n",
       "      <td>Species</td>\n",
       "      <td>Species</td>\n",
       "      <td>1.000000</td>\n",
       "      <td>predict_itself</td>\n",
       "      <td>True</td>\n",
       "      <td>None</td>\n",
       "      <td>0.000000</td>\n",
       "      <td>1.000000</td>\n",
       "      <td>None</td>\n",
       "    </tr>\n",
       "  </tbody>\n",
       "</table>\n",
       "</div>"
      ],
      "text/plain": [
       "                x        y   ppscore            case  is_valid_score  \\\n",
       "4   SepalLengthCm  Species  0.471649  classification            True   \n",
       "9    SepalWidthCm  Species  0.179145  classification            True   \n",
       "14  PetalLengthCm  Species  0.884812  classification            True   \n",
       "19   PetalWidthCm  Species  0.927652  classification            True   \n",
       "24        Species  Species  1.000000  predict_itself            True   \n",
       "\n",
       "         metric  baseline_score  model_score                     model  \n",
       "4   weighted F1        0.353333     0.658333  DecisionTreeClassifier()  \n",
       "9   weighted F1        0.353333     0.469180  DecisionTreeClassifier()  \n",
       "14  weighted F1        0.353333     0.925512  DecisionTreeClassifier()  \n",
       "19  weighted F1        0.353333     0.953215  DecisionTreeClassifier()  \n",
       "24         None        0.000000     1.000000                      None  "
      ]
     },
     "execution_count": 26,
     "metadata": {},
     "output_type": "execute_result"
    }
   ],
   "source": [
    "feature_sel[feature_sel['y'] == 'Species']"
   ]
  },
  {
   "cell_type": "code",
   "execution_count": null,
   "id": "759fcf59",
   "metadata": {},
   "outputs": [],
   "source": []
  }
 ],
 "metadata": {
  "kernelspec": {
   "display_name": "Python 3 (ipykernel)",
   "language": "python",
   "name": "python3"
  },
  "language_info": {
   "codemirror_mode": {
    "name": "ipython",
    "version": 3
   },
   "file_extension": ".py",
   "mimetype": "text/x-python",
   "name": "python",
   "nbconvert_exporter": "python",
   "pygments_lexer": "ipython3",
   "version": "3.9.13"
  }
 },
 "nbformat": 4,
 "nbformat_minor": 5
}
