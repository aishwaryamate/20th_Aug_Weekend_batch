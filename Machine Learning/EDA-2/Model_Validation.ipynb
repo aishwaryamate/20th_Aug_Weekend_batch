{
 "cells": [
  {
   "cell_type": "code",
   "execution_count": null,
   "id": "153c40ec",
   "metadata": {
    "ExecuteTime": {
     "end_time": "2023-05-14T16:19:24.286993Z",
     "start_time": "2023-05-14T16:19:24.271400Z"
    }
   },
   "outputs": [],
   "source": [
    "#Import Libraries"
   ]
  },
  {
   "cell_type": "code",
   "execution_count": null,
   "id": "f2412e3d",
   "metadata": {
    "ExecuteTime": {
     "end_time": "2023-10-10T07:39:40.837005Z",
     "start_time": "2023-10-10T07:39:35.315815Z"
    }
   },
   "outputs": [],
   "source": [
    "import pandas as pd\n",
    "import numpy as np\n",
    "from sklearn.tree import DecisionTreeClassifier\n",
    "from sklearn.model_selection import train_test_split, KFold, LeaveOneOut,cross_val_score\n",
    "from sklearn.metrics import classification_report\n",
    "import warnings\n",
    "warnings.filterwarnings('ignore')"
   ]
  },
  {
   "cell_type": "code",
   "execution_count": null,
   "id": "aad6b29e",
   "metadata": {
    "ExecuteTime": {
     "end_time": "2023-10-10T07:39:40.852968Z",
     "start_time": "2023-10-10T07:39:40.839702Z"
    }
   },
   "outputs": [],
   "source": [
    "#Read the fetal dataset"
   ]
  },
  {
   "cell_type": "code",
   "execution_count": null,
   "id": "f6964202",
   "metadata": {
    "ExecuteTime": {
     "end_time": "2023-10-10T07:39:41.770717Z",
     "start_time": "2023-10-10T07:39:40.858013Z"
    }
   },
   "outputs": [],
   "source": [
    "df = pd.read_csv('https://raw.githubusercontent.com/aishwaryamate/Datasets/main/fetal_health.csv')\n",
    "df"
   ]
  },
  {
   "cell_type": "markdown",
   "id": "baa20738",
   "metadata": {},
   "source": [
    "# Train test split"
   ]
  },
  {
   "cell_type": "code",
   "execution_count": null,
   "id": "4737313c",
   "metadata": {
    "ExecuteTime": {
     "end_time": "2023-10-10T07:41:15.597626Z",
     "start_time": "2023-10-10T07:41:15.578500Z"
    }
   },
   "outputs": [],
   "source": [
    "x = df.iloc[:,:-1]\n",
    "y = df['fetal_health']"
   ]
  },
  {
   "cell_type": "code",
   "execution_count": null,
   "id": "08c1c2a9",
   "metadata": {
    "ExecuteTime": {
     "end_time": "2023-10-10T07:44:31.518239Z",
     "start_time": "2023-10-10T07:44:31.506427Z"
    }
   },
   "outputs": [],
   "source": [
    "xtrain,xtest,ytrain,ytest = train_test_split(x,y,test_size=0.2,random_state=42)"
   ]
  },
  {
   "cell_type": "code",
   "execution_count": null,
   "id": "e2a23251",
   "metadata": {
    "ExecuteTime": {
     "end_time": "2023-10-10T07:44:31.889882Z",
     "start_time": "2023-10-10T07:44:31.863982Z"
    }
   },
   "outputs": [],
   "source": [
    "dt = DecisionTreeClassifier()\n",
    "dt.fit(xtrain,ytrain)\n",
    "ypred = dt.predict(xtest)"
   ]
  },
  {
   "cell_type": "code",
   "execution_count": null,
   "id": "2e211328",
   "metadata": {
    "ExecuteTime": {
     "end_time": "2023-10-10T07:44:32.231864Z",
     "start_time": "2023-10-10T07:44:32.206914Z"
    }
   },
   "outputs": [],
   "source": [
    "print(classification_report(ytest,ypred))"
   ]
  },
  {
   "cell_type": "markdown",
   "id": "e227a840",
   "metadata": {},
   "source": [
    "# K-fold Cross Validation"
   ]
  },
  {
   "cell_type": "code",
   "execution_count": null,
   "id": "776876d1",
   "metadata": {
    "ExecuteTime": {
     "end_time": "2023-10-10T07:55:01.248329Z",
     "start_time": "2023-10-10T07:55:01.100657Z"
    }
   },
   "outputs": [],
   "source": [
    "kf = KFold(n_splits=5)\n",
    "\n",
    "scores = cross_val_score(DecisionTreeClassifier(),x,y, cv = kf)"
   ]
  },
  {
   "cell_type": "code",
   "execution_count": null,
   "id": "8d7c9a4e",
   "metadata": {
    "ExecuteTime": {
     "end_time": "2023-10-10T07:55:01.434269Z",
     "start_time": "2023-10-10T07:55:01.414067Z"
    }
   },
   "outputs": [],
   "source": [
    "scores"
   ]
  },
  {
   "cell_type": "code",
   "execution_count": null,
   "id": "baca1013",
   "metadata": {
    "ExecuteTime": {
     "end_time": "2023-10-10T07:55:01.745178Z",
     "start_time": "2023-10-10T07:55:01.731182Z"
    }
   },
   "outputs": [],
   "source": [
    "scores.mean()"
   ]
  },
  {
   "cell_type": "code",
   "execution_count": null,
   "id": "472c6877",
   "metadata": {
    "ExecuteTime": {
     "end_time": "2023-10-10T07:51:16.423044Z",
     "start_time": "2023-10-10T07:51:15.779637Z"
    }
   },
   "outputs": [],
   "source": [
    "from sklearn.linear_model import LogisticRegression\n",
    "\n",
    "kf = KFold(n_splits=5)\n",
    "\n",
    "scores = cross_val_score(LogisticRegression(),x,y,cv = kf)\n",
    "\n",
    "scores\n",
    "scores.mean()"
   ]
  },
  {
   "cell_type": "markdown",
   "id": "ee0a56c4",
   "metadata": {},
   "source": [
    "# Leave one out CV"
   ]
  },
  {
   "cell_type": "code",
   "execution_count": null,
   "id": "7e621207",
   "metadata": {
    "ExecuteTime": {
     "end_time": "2023-05-14T16:19:24.325954Z",
     "start_time": "2023-05-14T16:19:24.315584Z"
    }
   },
   "outputs": [],
   "source": [
    "#Read the dataset"
   ]
  },
  {
   "cell_type": "code",
   "execution_count": null,
   "id": "c998dc6e",
   "metadata": {
    "ExecuteTime": {
     "end_time": "2023-10-10T07:56:30.790556Z",
     "start_time": "2023-10-10T07:56:30.195054Z"
    }
   },
   "outputs": [],
   "source": [
    "df = pd.read_csv('https://raw.githubusercontent.com/aishwaryamate/Datasets/main/Pima.csv',\n",
    "                index_col=0)\n",
    "df"
   ]
  },
  {
   "cell_type": "code",
   "execution_count": null,
   "id": "f5c094db",
   "metadata": {
    "ExecuteTime": {
     "end_time": "2023-10-10T07:57:26.500283Z",
     "start_time": "2023-10-10T07:57:26.474228Z"
    }
   },
   "outputs": [],
   "source": [
    "x = df.iloc[:,:-1]\n",
    "y = df['class']"
   ]
  },
  {
   "cell_type": "code",
   "execution_count": null,
   "id": "80dc6914",
   "metadata": {
    "ExecuteTime": {
     "end_time": "2023-10-10T07:58:26.390003Z",
     "start_time": "2023-10-10T07:58:19.569842Z"
    }
   },
   "outputs": [],
   "source": [
    "lv_cv = LeaveOneOut()\n",
    "\n",
    "lv_score = cross_val_score(DecisionTreeClassifier(),x,y, cv = lv_cv)"
   ]
  },
  {
   "cell_type": "code",
   "execution_count": null,
   "id": "902133ee",
   "metadata": {
    "ExecuteTime": {
     "end_time": "2023-10-10T07:58:58.593305Z",
     "start_time": "2023-10-10T07:58:58.564014Z"
    }
   },
   "outputs": [],
   "source": [
    "lv_score"
   ]
  },
  {
   "cell_type": "code",
   "execution_count": null,
   "id": "372eb128",
   "metadata": {
    "ExecuteTime": {
     "end_time": "2023-10-10T07:59:16.533730Z",
     "start_time": "2023-10-10T07:59:16.524104Z"
    }
   },
   "outputs": [],
   "source": [
    "lv_score.mean()"
   ]
  },
  {
   "cell_type": "code",
   "execution_count": null,
   "id": "1b5d145d",
   "metadata": {},
   "outputs": [],
   "source": []
  }
 ],
 "metadata": {
  "kernelspec": {
   "display_name": "Python 3 (ipykernel)",
   "language": "python",
   "name": "python3"
  },
  "language_info": {
   "codemirror_mode": {
    "name": "ipython",
    "version": 3
   },
   "file_extension": ".py",
   "mimetype": "text/x-python",
   "name": "python",
   "nbconvert_exporter": "python",
   "pygments_lexer": "ipython3",
   "version": "3.9.13"
  }
 },
 "nbformat": 4,
 "nbformat_minor": 5
}
