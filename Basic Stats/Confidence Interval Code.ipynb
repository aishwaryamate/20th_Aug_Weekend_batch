{
 "cells": [
  {
   "cell_type": "code",
   "execution_count": 1,
   "id": "5c2f8cf2",
   "metadata": {
    "ExecuteTime": {
     "end_time": "2023-09-24T03:58:07.904637Z",
     "start_time": "2023-09-24T03:58:04.792341Z"
    }
   },
   "outputs": [],
   "source": [
    "import scipy.stats as st\n",
    "import numpy as np"
   ]
  },
  {
   "cell_type": "code",
   "execution_count": 3,
   "id": "09b6befb",
   "metadata": {
    "ExecuteTime": {
     "end_time": "2023-09-23T05:21:06.228097Z",
     "start_time": "2023-09-23T05:21:06.175461Z"
    }
   },
   "outputs": [
    {
     "data": {
      "text/plain": [
       "1.959963984540054"
      ]
     },
     "execution_count": 3,
     "metadata": {},
     "output_type": "execute_result"
    }
   ],
   "source": [
    "st.norm.ppf(0.975)"
   ]
  },
  {
   "cell_type": "code",
   "execution_count": 4,
   "id": "09d6152b",
   "metadata": {
    "ExecuteTime": {
     "end_time": "2023-09-23T05:22:07.645240Z",
     "start_time": "2023-09-23T05:22:07.632023Z"
    }
   },
   "outputs": [
    {
     "data": {
      "text/plain": [
       "1.6448536269514722"
      ]
     },
     "execution_count": 4,
     "metadata": {},
     "output_type": "execute_result"
    }
   ],
   "source": [
    "st.norm.ppf(0.95)"
   ]
  },
  {
   "cell_type": "code",
   "execution_count": 5,
   "id": "02ec272f",
   "metadata": {
    "ExecuteTime": {
     "end_time": "2023-09-23T05:22:36.984476Z",
     "start_time": "2023-09-23T05:22:36.969487Z"
    }
   },
   "outputs": [
    {
     "data": {
      "text/plain": [
       "2.5758293035489004"
      ]
     },
     "execution_count": 5,
     "metadata": {},
     "output_type": "execute_result"
    }
   ],
   "source": [
    "st.norm.ppf(0.995)"
   ]
  },
  {
   "cell_type": "code",
   "execution_count": 6,
   "id": "68b7c231",
   "metadata": {
    "ExecuteTime": {
     "end_time": "2023-09-23T05:25:07.596806Z",
     "start_time": "2023-09-23T05:25:07.586908Z"
    }
   },
   "outputs": [
    {
     "data": {
      "text/plain": [
       "(1575.8820248378292, 2404.1179751621708)"
      ]
     },
     "execution_count": 6,
     "metadata": {},
     "output_type": "execute_result"
    }
   ],
   "source": [
    "#Z method (CL,point estimate,standard error)\n",
    "st.norm.interval(0.95,1990,2500/np.sqrt(140))"
   ]
  },
  {
   "cell_type": "code",
   "execution_count": 7,
   "id": "4e7dc4e9",
   "metadata": {
    "ExecuteTime": {
     "end_time": "2023-09-23T05:25:40.947938Z",
     "start_time": "2023-09-23T05:25:40.930494Z"
    }
   },
   "outputs": [
    {
     "data": {
      "text/plain": [
       "(1642.4612396940827, 2337.538760305917)"
      ]
     },
     "execution_count": 7,
     "metadata": {},
     "output_type": "execute_result"
    }
   ],
   "source": [
    "st.norm.interval(0.90,1990, 2500/np.sqrt(140))"
   ]
  },
  {
   "cell_type": "code",
   "execution_count": 8,
   "id": "3f1c654f",
   "metadata": {
    "ExecuteTime": {
     "end_time": "2023-09-23T05:25:50.946630Z",
     "start_time": "2023-09-23T05:25:50.928170Z"
    }
   },
   "outputs": [
    {
     "data": {
      "text/plain": [
       "(1445.7567261628137, 2534.2432738371863)"
      ]
     },
     "execution_count": 8,
     "metadata": {},
     "output_type": "execute_result"
    }
   ],
   "source": [
    "st.norm.interval(0.99,1990, 2500/np.sqrt(140))"
   ]
  },
  {
   "cell_type": "code",
   "execution_count": 9,
   "id": "8aebfa85",
   "metadata": {
    "ExecuteTime": {
     "end_time": "2023-09-23T06:05:13.085837Z",
     "start_time": "2023-09-23T06:05:13.082426Z"
    }
   },
   "outputs": [],
   "source": [
    "#T test"
   ]
  },
  {
   "cell_type": "code",
   "execution_count": 11,
   "id": "c04e542f",
   "metadata": {
    "ExecuteTime": {
     "end_time": "2023-09-23T06:07:07.767492Z",
     "start_time": "2023-09-23T06:07:07.714560Z"
    }
   },
   "outputs": [
    {
     "data": {
      "text/plain": [
       "1.977177724476122"
      ]
     },
     "execution_count": 11,
     "metadata": {},
     "output_type": "execute_result"
    }
   ],
   "source": [
    "st.t.ppf(0.975,df = 139)"
   ]
  },
  {
   "cell_type": "code",
   "execution_count": 14,
   "id": "b96cc147",
   "metadata": {
    "ExecuteTime": {
     "end_time": "2023-09-23T06:11:47.677907Z",
     "start_time": "2023-09-23T06:11:47.667755Z"
    }
   },
   "outputs": [
    {
     "data": {
      "text/plain": [
       "(1516.5999869168315, 2463.4000130831682)"
      ]
     },
     "execution_count": 14,
     "metadata": {},
     "output_type": "execute_result"
    }
   ],
   "source": [
    "# T method (CL, df, point estimate, standard error)\n",
    "st.t.interval(0.95,df = 139,loc = 1990,scale = 2833/np.sqrt(140))"
   ]
  },
  {
   "cell_type": "markdown",
   "id": "7f1f0c03",
   "metadata": {},
   "source": [
    "# Problem Statement:\n",
    "1. The average sale for a soft drink company based a sample of 60 stores is 15k with standard deviation of 3k. Find out the Confidence Interval for sale with 90% and 95% confidence level."
   ]
  },
  {
   "cell_type": "code",
   "execution_count": 15,
   "id": "d215faa8",
   "metadata": {
    "ExecuteTime": {
     "end_time": "2023-09-23T06:22:08.549324Z",
     "start_time": "2023-09-23T06:22:08.543425Z"
    }
   },
   "outputs": [],
   "source": [
    "n = 60\n",
    "sample_mean = 15000\n",
    "sample_sd = 3000"
   ]
  },
  {
   "cell_type": "code",
   "execution_count": 16,
   "id": "b3380dd8",
   "metadata": {
    "ExecuteTime": {
     "end_time": "2023-09-23T06:25:25.191180Z",
     "start_time": "2023-09-23T06:25:25.180901Z"
    }
   },
   "outputs": [
    {
     "data": {
      "text/plain": [
       "(14352.788451776889, 15647.21154822311)"
      ]
     },
     "execution_count": 16,
     "metadata": {},
     "output_type": "execute_result"
    }
   ],
   "source": [
    "st.t.interval(0.90, df = 59,loc = sample_mean, scale = sample_sd/np.sqrt(n))"
   ]
  },
  {
   "cell_type": "code",
   "execution_count": 17,
   "id": "206194be",
   "metadata": {
    "ExecuteTime": {
     "end_time": "2023-09-23T06:26:01.873063Z",
     "start_time": "2023-09-23T06:26:01.860029Z"
    }
   },
   "outputs": [
    {
     "data": {
      "text/plain": [
       "(14225.017822885426, 15774.982177114574)"
      ]
     },
     "execution_count": 17,
     "metadata": {},
     "output_type": "execute_result"
    }
   ],
   "source": [
    "st.t.interval(0.95, df = 59, loc = sample_mean, scale = sample_sd/np.sqrt(n))"
   ]
  },
  {
   "cell_type": "code",
   "execution_count": 3,
   "id": "5c912405",
   "metadata": {
    "ExecuteTime": {
     "end_time": "2023-09-24T03:58:56.758309Z",
     "start_time": "2023-09-24T03:58:56.674555Z"
    }
   },
   "outputs": [
    {
     "data": {
      "text/plain": [
       "0.9857070911974259"
      ]
     },
     "execution_count": 3,
     "metadata": {},
     "output_type": "execute_result"
    }
   ],
   "source": [
    "st.t.cdf(2.23,df =79 )"
   ]
  },
  {
   "cell_type": "code",
   "execution_count": 4,
   "id": "0e6e3957",
   "metadata": {
    "ExecuteTime": {
     "end_time": "2023-09-24T03:59:13.436147Z",
     "start_time": "2023-09-24T03:59:13.414538Z"
    }
   },
   "outputs": [
    {
     "data": {
      "text/plain": [
       "0.014292908802574056"
      ]
     },
     "execution_count": 4,
     "metadata": {},
     "output_type": "execute_result"
    }
   ],
   "source": [
    "1 - st.t.cdf(2.23,df =79 )"
   ]
  },
  {
   "cell_type": "code",
   "execution_count": null,
   "id": "b9032ed7",
   "metadata": {},
   "outputs": [],
   "source": []
  }
 ],
 "metadata": {
  "kernelspec": {
   "display_name": "Python 3 (ipykernel)",
   "language": "python",
   "name": "python3"
  },
  "language_info": {
   "codemirror_mode": {
    "name": "ipython",
    "version": 3
   },
   "file_extension": ".py",
   "mimetype": "text/x-python",
   "name": "python",
   "nbconvert_exporter": "python",
   "pygments_lexer": "ipython3",
   "version": "3.9.13"
  }
 },
 "nbformat": 4,
 "nbformat_minor": 5
}
